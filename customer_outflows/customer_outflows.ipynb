{
 "cells": [
  {
   "cell_type": "code",
   "execution_count": 326,
   "metadata": {},
   "outputs": [],
   "source": [
    "import os\n",
    "import pandas as pd\n",
    "import numpy as np\n",
    "import matplotlib.pyplot as plt\n",
    "\n",
    "from sklearn.preprocessing import OrdinalEncoder\n",
    "from sklearn.preprocessing import StandardScaler\n",
    "from sklearn.model_selection import train_test_split\n",
    "from sklearn.ensemble import RandomForestClassifier\n",
    "from sklearn.model_selection import GridSearchCV\n",
    "from sklearn.metrics import accuracy_score\n",
    "from sklearn.metrics import roc_auc_score\n",
    "from sklearn.metrics import roc_curve\n",
    "from sklearn.metrics import recall_score\n",
    "from sklearn.metrics import precision_score\n",
    "from sklearn.metrics import f1_score"
   ]
  },
  {
   "cell_type": "code",
   "execution_count": 327,
   "metadata": {},
   "outputs": [],
   "source": [
    "SOURCE_PATH = r'/datasets/final_provider/'"
   ]
  },
  {
   "cell_type": "code",
   "execution_count": 328,
   "metadata": {},
   "outputs": [],
   "source": [
    "def get_files_names_from_folder():\n",
    "    file_names_list = [SOURCE_PATH + name for name in os.listdir(SOURCE_PATH) if name.endswith('.csv')]\n",
    "    return file_names_list"
   ]
  },
  {
   "cell_type": "code",
   "execution_count": 329,
   "metadata": {},
   "outputs": [],
   "source": [
    "def merge_dfs():\n",
    "    merged_df = pd.DataFrame()\n",
    "    for file_name in get_files_names_from_folder():\n",
    "        df = pd.read_csv(file_name)\n",
    "        try:\n",
    "            merged_df = pd.merge_ordered(df,merged_df, on = 'customerID')\n",
    "        except KeyError:\n",
    "            merged_df = df.copy()\n",
    "    return merged_df"
   ]
  },
  {
   "cell_type": "code",
   "execution_count": 330,
   "metadata": {
    "scrolled": false
   },
   "outputs": [
    {
     "name": "stdout",
     "output_type": "stream",
     "text": [
      "<class 'pandas.core.frame.DataFrame'>\n",
      "Int64Index: 7043 entries, 0 to 7042\n",
      "Data columns (total 20 columns):\n",
      "customerID          7043 non-null object\n",
      "BeginDate           7043 non-null object\n",
      "EndDate             7043 non-null object\n",
      "Type                7043 non-null object\n",
      "PaperlessBilling    7043 non-null object\n",
      "PaymentMethod       7043 non-null object\n",
      "MonthlyCharges      7043 non-null float64\n",
      "TotalCharges        7043 non-null object\n",
      "gender              7043 non-null object\n",
      "SeniorCitizen       7043 non-null int64\n",
      "Partner             7043 non-null object\n",
      "Dependents          7043 non-null object\n",
      "MultipleLines       6361 non-null object\n",
      "InternetService     5517 non-null object\n",
      "OnlineSecurity      5517 non-null object\n",
      "OnlineBackup        5517 non-null object\n",
      "DeviceProtection    5517 non-null object\n",
      "TechSupport         5517 non-null object\n",
      "StreamingTV         5517 non-null object\n",
      "StreamingMovies     5517 non-null object\n",
      "dtypes: float64(1), int64(1), object(18)\n",
      "memory usage: 1.1+ MB\n"
     ]
    }
   ],
   "source": [
    "df = merge_dfs()\n",
    "df.info()"
   ]
  },
  {
   "cell_type": "code",
   "execution_count": 331,
   "metadata": {},
   "outputs": [
    {
     "data": {
      "text/plain": [
       "customerID             0\n",
       "BeginDate              0\n",
       "EndDate                0\n",
       "Type                   0\n",
       "PaperlessBilling       0\n",
       "PaymentMethod          0\n",
       "MonthlyCharges         0\n",
       "TotalCharges           0\n",
       "gender                 0\n",
       "SeniorCitizen          0\n",
       "Partner                0\n",
       "Dependents             0\n",
       "MultipleLines        682\n",
       "InternetService     1526\n",
       "OnlineSecurity      1526\n",
       "OnlineBackup        1526\n",
       "DeviceProtection    1526\n",
       "TechSupport         1526\n",
       "StreamingTV         1526\n",
       "StreamingMovies     1526\n",
       "dtype: int64"
      ]
     },
     "execution_count": 331,
     "metadata": {},
     "output_type": "execute_result"
    }
   ],
   "source": [
    "df.isna().sum()"
   ]
  },
  {
   "cell_type": "code",
   "execution_count": 332,
   "metadata": {
    "scrolled": false
   },
   "outputs": [
    {
     "data": {
      "text/plain": [
       "2018-03-01    4\n",
       "2019-02-01    3\n",
       "2018-10-01    2\n",
       "2018-02-01    2\n",
       "2018-11-01    2\n",
       "2018-08-01    2\n",
       "2018-01-01    2\n",
       "2018-12-01    2\n",
       "2018-05-01    1\n",
       "2019-11-01    1\n",
       "2019-09-01    1\n",
       "2019-08-01    1\n",
       "2018-07-01    1\n",
       "2019-05-01    1\n",
       "2019-07-01    1\n",
       "2018-06-01    1\n",
       "Name: BeginDate, dtype: int64"
      ]
     },
     "execution_count": 332,
     "metadata": {},
     "output_type": "execute_result"
    }
   ],
   "source": [
    "df.query('(EndDate != \"No\") and (Type != \"Month-to-month\") and (BeginDate >= \"2018-01-01\")')['BeginDate'].value_counts()"
   ]
  },
  {
   "cell_type": "markdown",
   "metadata": {},
   "source": [
    "- Пропущенные значения в столбце TotalCharges обусловлены недавним началом действия договора (все в момент выгрузки данных)\n",
    "- Несмотря на то, что все эти договора долгосрочные, в таблице есть данные с клиентами, которые расторгли подобный договор\n",
    "- Пропущенные значения в этом столбце представлены в виде пробела"
   ]
  },
  {
   "cell_type": "code",
   "execution_count": 333,
   "metadata": {},
   "outputs": [],
   "source": [
    "df = df.query('TotalCharges != \" \"')"
   ]
  },
  {
   "cell_type": "markdown",
   "metadata": {},
   "source": [
    "- Для обработки пропущенных значений в столбце InternetService проверяем, подключена ли услуга \"Интернет безопасность\". Если да - заменяем \"Unknown_type\" (неизвестно какой тип подключения)\n",
    "- Остальные пропуски заменяем на \"No\""
   ]
  },
  {
   "cell_type": "code",
   "execution_count": 334,
   "metadata": {},
   "outputs": [],
   "source": [
    "nan_int_services_query = df.loc[df['InternetService'].isna()]\n",
    "\n",
    "for i in nan_int_services_query.index:\n",
    "    if nan_int_services_query['OnlineSecurity'][i] == 'Yes':\n",
    "        df.loc[i,'InternetService'] = 'Unknown_type'"
   ]
  },
  {
   "cell_type": "code",
   "execution_count": 335,
   "metadata": {},
   "outputs": [
    {
     "data": {
      "text/plain": [
       "customerID             0\n",
       "BeginDate              0\n",
       "EndDate                0\n",
       "Type                   0\n",
       "PaperlessBilling       0\n",
       "PaymentMethod          0\n",
       "MonthlyCharges         0\n",
       "TotalCharges           0\n",
       "gender                 0\n",
       "SeniorCitizen          0\n",
       "Partner                0\n",
       "Dependents             0\n",
       "MultipleLines        680\n",
       "InternetService     1520\n",
       "OnlineSecurity      1520\n",
       "OnlineBackup        1520\n",
       "DeviceProtection    1520\n",
       "TechSupport         1520\n",
       "StreamingTV         1520\n",
       "StreamingMovies     1520\n",
       "dtype: int64"
      ]
     },
     "execution_count": 335,
     "metadata": {},
     "output_type": "execute_result"
    }
   ],
   "source": [
    "df.isna().sum()"
   ]
  },
  {
   "cell_type": "code",
   "execution_count": 336,
   "metadata": {},
   "outputs": [
    {
     "data": {
      "text/plain": [
       "customerID          0\n",
       "BeginDate           0\n",
       "EndDate             0\n",
       "Type                0\n",
       "PaperlessBilling    0\n",
       "PaymentMethod       0\n",
       "MonthlyCharges      0\n",
       "TotalCharges        0\n",
       "gender              0\n",
       "SeniorCitizen       0\n",
       "Partner             0\n",
       "Dependents          0\n",
       "MultipleLines       0\n",
       "InternetService     0\n",
       "OnlineSecurity      0\n",
       "OnlineBackup        0\n",
       "DeviceProtection    0\n",
       "TechSupport         0\n",
       "StreamingTV         0\n",
       "StreamingMovies     0\n",
       "dtype: int64"
      ]
     },
     "execution_count": 336,
     "metadata": {},
     "output_type": "execute_result"
    }
   ],
   "source": [
    "df = df.fillna('No')\n",
    "df = df.reset_index(drop = True)\n",
    "df.isna().sum()"
   ]
  },
  {
   "cell_type": "code",
   "execution_count": 337,
   "metadata": {},
   "outputs": [],
   "source": [
    "term_list = []\n",
    "for i in range(len(df)):\n",
    "    try:\n",
    "        d1 = pd.to_datetime(df['BeginDate'][i], yearfirst = True)\n",
    "        d2 = pd.to_datetime(df['EndDate'][i], yearfirst = True)\n",
    "        term_list.append((d2 - d1).days)\n",
    "    except:\n",
    "        d1 = pd.to_datetime(df['BeginDate'][i], yearfirst = True)\n",
    "        d2 = pd.to_datetime('2020-02-01', yearfirst = True)\n",
    "        term_list.append((d2 - d1).days)"
   ]
  },
  {
   "cell_type": "code",
   "execution_count": 338,
   "metadata": {},
   "outputs": [
    {
     "data": {
      "text/html": [
       "<div>\n",
       "<style scoped>\n",
       "    .dataframe tbody tr th:only-of-type {\n",
       "        vertical-align: middle;\n",
       "    }\n",
       "\n",
       "    .dataframe tbody tr th {\n",
       "        vertical-align: top;\n",
       "    }\n",
       "\n",
       "    .dataframe thead th {\n",
       "        text-align: right;\n",
       "    }\n",
       "</style>\n",
       "<table border=\"1\" class=\"dataframe\">\n",
       "  <thead>\n",
       "    <tr style=\"text-align: right;\">\n",
       "      <th></th>\n",
       "      <th>customerid</th>\n",
       "      <th>begindate</th>\n",
       "      <th>enddate</th>\n",
       "      <th>type</th>\n",
       "      <th>paperlessbilling</th>\n",
       "      <th>paymentmethod</th>\n",
       "      <th>monthlycharges</th>\n",
       "      <th>totalcharges</th>\n",
       "      <th>gender</th>\n",
       "      <th>seniorcitizen</th>\n",
       "      <th>...</th>\n",
       "      <th>dependents</th>\n",
       "      <th>multiplelines</th>\n",
       "      <th>internetservice</th>\n",
       "      <th>onlinesecurity</th>\n",
       "      <th>onlinebackup</th>\n",
       "      <th>deviceprotection</th>\n",
       "      <th>techsupport</th>\n",
       "      <th>streamingtv</th>\n",
       "      <th>streamingmovies</th>\n",
       "      <th>duration</th>\n",
       "    </tr>\n",
       "  </thead>\n",
       "  <tbody>\n",
       "    <tr>\n",
       "      <td>0</td>\n",
       "      <td>0002-ORFBO</td>\n",
       "      <td>2019-05-01</td>\n",
       "      <td>No</td>\n",
       "      <td>One year</td>\n",
       "      <td>Yes</td>\n",
       "      <td>Mailed check</td>\n",
       "      <td>65.6</td>\n",
       "      <td>593.3</td>\n",
       "      <td>Female</td>\n",
       "      <td>0</td>\n",
       "      <td>...</td>\n",
       "      <td>Yes</td>\n",
       "      <td>No</td>\n",
       "      <td>DSL</td>\n",
       "      <td>No</td>\n",
       "      <td>Yes</td>\n",
       "      <td>No</td>\n",
       "      <td>Yes</td>\n",
       "      <td>Yes</td>\n",
       "      <td>No</td>\n",
       "      <td>276</td>\n",
       "    </tr>\n",
       "    <tr>\n",
       "      <td>1</td>\n",
       "      <td>0003-MKNFE</td>\n",
       "      <td>2019-05-01</td>\n",
       "      <td>No</td>\n",
       "      <td>Month-to-month</td>\n",
       "      <td>No</td>\n",
       "      <td>Mailed check</td>\n",
       "      <td>59.9</td>\n",
       "      <td>542.4</td>\n",
       "      <td>Male</td>\n",
       "      <td>0</td>\n",
       "      <td>...</td>\n",
       "      <td>No</td>\n",
       "      <td>Yes</td>\n",
       "      <td>DSL</td>\n",
       "      <td>No</td>\n",
       "      <td>No</td>\n",
       "      <td>No</td>\n",
       "      <td>No</td>\n",
       "      <td>No</td>\n",
       "      <td>Yes</td>\n",
       "      <td>276</td>\n",
       "    </tr>\n",
       "    <tr>\n",
       "      <td>2</td>\n",
       "      <td>0004-TLHLJ</td>\n",
       "      <td>2019-09-01</td>\n",
       "      <td>2020-01-01 00:00:00</td>\n",
       "      <td>Month-to-month</td>\n",
       "      <td>Yes</td>\n",
       "      <td>Electronic check</td>\n",
       "      <td>73.9</td>\n",
       "      <td>280.85</td>\n",
       "      <td>Male</td>\n",
       "      <td>0</td>\n",
       "      <td>...</td>\n",
       "      <td>No</td>\n",
       "      <td>No</td>\n",
       "      <td>Fiber optic</td>\n",
       "      <td>No</td>\n",
       "      <td>No</td>\n",
       "      <td>Yes</td>\n",
       "      <td>No</td>\n",
       "      <td>No</td>\n",
       "      <td>No</td>\n",
       "      <td>122</td>\n",
       "    </tr>\n",
       "    <tr>\n",
       "      <td>3</td>\n",
       "      <td>0011-IGKFF</td>\n",
       "      <td>2018-12-01</td>\n",
       "      <td>2020-01-01 00:00:00</td>\n",
       "      <td>Month-to-month</td>\n",
       "      <td>Yes</td>\n",
       "      <td>Electronic check</td>\n",
       "      <td>98.0</td>\n",
       "      <td>1237.85</td>\n",
       "      <td>Male</td>\n",
       "      <td>1</td>\n",
       "      <td>...</td>\n",
       "      <td>No</td>\n",
       "      <td>No</td>\n",
       "      <td>Fiber optic</td>\n",
       "      <td>No</td>\n",
       "      <td>Yes</td>\n",
       "      <td>Yes</td>\n",
       "      <td>No</td>\n",
       "      <td>Yes</td>\n",
       "      <td>Yes</td>\n",
       "      <td>396</td>\n",
       "    </tr>\n",
       "    <tr>\n",
       "      <td>4</td>\n",
       "      <td>0013-EXCHZ</td>\n",
       "      <td>2019-09-01</td>\n",
       "      <td>2019-12-01 00:00:00</td>\n",
       "      <td>Month-to-month</td>\n",
       "      <td>Yes</td>\n",
       "      <td>Mailed check</td>\n",
       "      <td>83.9</td>\n",
       "      <td>267.4</td>\n",
       "      <td>Female</td>\n",
       "      <td>1</td>\n",
       "      <td>...</td>\n",
       "      <td>No</td>\n",
       "      <td>No</td>\n",
       "      <td>Fiber optic</td>\n",
       "      <td>No</td>\n",
       "      <td>No</td>\n",
       "      <td>No</td>\n",
       "      <td>Yes</td>\n",
       "      <td>Yes</td>\n",
       "      <td>No</td>\n",
       "      <td>91</td>\n",
       "    </tr>\n",
       "  </tbody>\n",
       "</table>\n",
       "<p>5 rows × 21 columns</p>\n",
       "</div>"
      ],
      "text/plain": [
       "   customerid   begindate              enddate            type  \\\n",
       "0  0002-ORFBO  2019-05-01                   No        One year   \n",
       "1  0003-MKNFE  2019-05-01                   No  Month-to-month   \n",
       "2  0004-TLHLJ  2019-09-01  2020-01-01 00:00:00  Month-to-month   \n",
       "3  0011-IGKFF  2018-12-01  2020-01-01 00:00:00  Month-to-month   \n",
       "4  0013-EXCHZ  2019-09-01  2019-12-01 00:00:00  Month-to-month   \n",
       "\n",
       "  paperlessbilling     paymentmethod  monthlycharges totalcharges  gender  \\\n",
       "0              Yes      Mailed check            65.6        593.3  Female   \n",
       "1               No      Mailed check            59.9        542.4    Male   \n",
       "2              Yes  Electronic check            73.9       280.85    Male   \n",
       "3              Yes  Electronic check            98.0      1237.85    Male   \n",
       "4              Yes      Mailed check            83.9        267.4  Female   \n",
       "\n",
       "   seniorcitizen  ... dependents multiplelines internetservice onlinesecurity  \\\n",
       "0              0  ...        Yes            No             DSL             No   \n",
       "1              0  ...         No           Yes             DSL             No   \n",
       "2              0  ...         No            No     Fiber optic             No   \n",
       "3              1  ...         No            No     Fiber optic             No   \n",
       "4              1  ...         No            No     Fiber optic             No   \n",
       "\n",
       "  onlinebackup deviceprotection techsupport streamingtv streamingmovies  \\\n",
       "0          Yes               No         Yes         Yes              No   \n",
       "1           No               No          No          No             Yes   \n",
       "2           No              Yes          No          No              No   \n",
       "3          Yes              Yes          No         Yes             Yes   \n",
       "4           No               No         Yes         Yes              No   \n",
       "\n",
       "  duration  \n",
       "0      276  \n",
       "1      276  \n",
       "2      122  \n",
       "3      396  \n",
       "4       91  \n",
       "\n",
       "[5 rows x 21 columns]"
      ]
     },
     "execution_count": 338,
     "metadata": {},
     "output_type": "execute_result"
    }
   ],
   "source": [
    "df.columns = [item.lower() for item in df.columns]\n",
    "df['duration'] = term_list\n",
    "df.head()"
   ]
  },
  {
   "cell_type": "code",
   "execution_count": 339,
   "metadata": {},
   "outputs": [
    {
     "data": {
      "text/plain": [
       "1    5163\n",
       "0    1869\n",
       "Name: target, dtype: int64"
      ]
     },
     "execution_count": 339,
     "metadata": {},
     "output_type": "execute_result"
    }
   ],
   "source": [
    "target = []\n",
    "for item in df['enddate']:\n",
    "    if item == 'No':\n",
    "        target.append(1)\n",
    "    else:\n",
    "        target.append(0)\n",
    "\n",
    "df['target'] = target\n",
    "df['target'].value_counts()"
   ]
  },
  {
   "cell_type": "markdown",
   "metadata": {},
   "source": [
    "- Наблюдается дисбаланс классов"
   ]
  },
  {
   "cell_type": "code",
   "execution_count": 340,
   "metadata": {},
   "outputs": [],
   "source": [
    "encoder = OrdinalEncoder()\n",
    "scaler = StandardScaler()\n",
    "\n",
    "prep_df = pd.DataFrame(scaler.fit_transform(encoder.fit_transform(df)), columns = df.columns)"
   ]
  },
  {
   "cell_type": "code",
   "execution_count": 341,
   "metadata": {},
   "outputs": [
    {
     "name": "stdout",
     "output_type": "stream",
     "text": [
      "train shape (4922, 18)\n",
      "test shape (2110, 18)\n"
     ]
    }
   ],
   "source": [
    "features = prep_df.drop(['customerid','enddate','begindate','target'], axis = 1)\n",
    "target = df['target']\n",
    "\n",
    "features_train, features_test, target_train, target_test = train_test_split(features, target, test_size = 0.3, random_state = 123)\n",
    "\n",
    "print('train shape', features_train.shape)\n",
    "print('test shape', features_test.shape)"
   ]
  },
  {
   "cell_type": "markdown",
   "metadata": {},
   "source": [
    "#### Константная модель"
   ]
  },
  {
   "cell_type": "code",
   "execution_count": 342,
   "metadata": {},
   "outputs": [],
   "source": [
    "target_const_ones = [1 for _ in range(int(len(target_test)/2))]\n",
    "target_const_zeroes = [0 for _ in range(int(len(target_test)/2))]\n",
    "\n",
    "target_const = target_const_ones + target_const_zeroes"
   ]
  },
  {
   "cell_type": "markdown",
   "metadata": {},
   "source": [
    "#### RandomForest"
   ]
  },
  {
   "cell_type": "code",
   "execution_count": 343,
   "metadata": {},
   "outputs": [
    {
     "name": "stderr",
     "output_type": "stream",
     "text": [
      "/opt/conda/lib/python3.7/site-packages/sklearn/model_selection/_split.py:1978: FutureWarning: The default value of cv will change from 3 to 5 in version 0.22. Specify it explicitly to silence this warning.\n",
      "  warnings.warn(CV_WARNING, FutureWarning)\n"
     ]
    },
    {
     "data": {
      "text/plain": [
       "{'class_weight': 'balanced',\n",
       " 'criterion': 'entropy',\n",
       " 'max_depth': 25,\n",
       " 'max_features': 'auto',\n",
       " 'n_estimators': 150}"
      ]
     },
     "execution_count": 343,
     "metadata": {},
     "output_type": "execute_result"
    }
   ],
   "source": [
    "model = RandomForestClassifier(random_state = 123)\n",
    "\n",
    "parameters = {'n_estimators': [100,150,180,200],\n",
    "              'max_depth': [20, 25, 30],\n",
    "              'max_features': ['auto','sqrt','log2'],\n",
    "              'criterion': ['gini','entropy'],\n",
    "              'class_weight': ['balanced', 'balanced_subsample']\n",
    "             }\n",
    "\n",
    "CV = GridSearchCV(model, parameters, n_jobs = -1)\n",
    "CV.fit(features_train, target_train)\n",
    "CV.best_params_    "
   ]
  },
  {
   "cell_type": "code",
   "execution_count": 354,
   "metadata": {},
   "outputs": [],
   "source": [
    "model = RandomForestClassifier(max_depth = 25,\n",
    "                               n_estimators = 150,\n",
    "                               n_jobs = -1,\n",
    "                               max_features = 'auto',\n",
    "                               criterion = 'gini',\n",
    "                               class_weight = 'balanced',\n",
    "                               random_state = 123\n",
    "                                )\n",
    "model.fit(features_train, target_train)\n",
    "predictions_test = model.predict(features_test)\n",
    "predictions_train = model.predict(features_train)\n",
    "probabilities_test = model.predict_proba(features_test)[:, 1]\n",
    "probabilities_train = model.predict_proba(features_train)[:, 1]"
   ]
  },
  {
   "cell_type": "code",
   "execution_count": 355,
   "metadata": {},
   "outputs": [
    {
     "name": "stdout",
     "output_type": "stream",
     "text": [
      "RandomForest\n",
      "Accuracy 0.8075829383886256\n",
      "Auc 0.8436945461439664\n"
     ]
    }
   ],
   "source": [
    "print('RandomForest')\n",
    "print('Accuracy',accuracy_score(target_test, predictions_test))\n",
    "print('Auc',roc_auc_score(target_test, probabilities_test))"
   ]
  },
  {
   "cell_type": "markdown",
   "metadata": {},
   "source": [
    "- Хотелось бы AUC повыше, поэтому попробую другую модель"
   ]
  },
  {
   "cell_type": "markdown",
   "metadata": {},
   "source": [
    "#### CatBoost"
   ]
  },
  {
   "cell_type": "code",
   "execution_count": 356,
   "metadata": {},
   "outputs": [
    {
     "data": {
      "text/plain": [
       "<catboost.core.CatBoostClassifier at 0x7f26e3498e90>"
      ]
     },
     "execution_count": 356,
     "metadata": {},
     "output_type": "execute_result"
    }
   ],
   "source": [
    "from catboost import CatBoostClassifier\n",
    "\n",
    "model = CatBoostClassifier(iterations = 1000,\n",
    "                           learning_rate = 0.02,\n",
    "                           l2_leaf_reg = 3,\n",
    "                           boosting_type = 'Plain',\n",
    "                           verbose = False)\n",
    "model.fit(features_train, \n",
    "          target_train\n",
    "         )"
   ]
  },
  {
   "cell_type": "code",
   "execution_count": 357,
   "metadata": {},
   "outputs": [],
   "source": [
    "predictions_test = model.predict(features_test)\n",
    "predictions_train = model.predict(features_train)\n",
    "probabilities_test = model.predict_proba(features_test)[:, 1]\n",
    "probabilities_train = model.predict_proba(features_train)[:, 1]"
   ]
  },
  {
   "cell_type": "code",
   "execution_count": 358,
   "metadata": {},
   "outputs": [],
   "source": [
    "final_scores_df = pd.DataFrame(columns = ['TEST', 'TRAIN','CONST'])\n",
    "final_scores_df['TEST'] = [accuracy_score(target_test, predictions_test), \n",
    "                           roc_auc_score(target_test, probabilities_test),\n",
    "                           recall_score(target_test, predictions_test),\n",
    "                           precision_score(target_test, predictions_test),\n",
    "                           f1_score(target_test, predictions_test)\n",
    "                          ]\n",
    "final_scores_df['TRAIN'] = [accuracy_score(target_train, predictions_train),\n",
    "                            roc_auc_score(target_train, probabilities_train),\n",
    "                            recall_score(target_train, predictions_train),\n",
    "                            precision_score(target_train, predictions_train),\n",
    "                            f1_score(target_train, predictions_train)\n",
    "                           ]\n",
    "final_scores_df['CONST'] = [accuracy_score(target_const, predictions_test), \n",
    "                           roc_auc_score(target_const, probabilities_test),\n",
    "                           recall_score(target_const, predictions_test),\n",
    "                           precision_score(target_const, predictions_test),\n",
    "                           f1_score(target_const, predictions_test)\n",
    "                          ]\n",
    "final_scores_df.index = ['ACCURACY','AUC','RECALL','PRECISION','F1']"
   ]
  },
  {
   "cell_type": "code",
   "execution_count": 359,
   "metadata": {},
   "outputs": [
    {
     "data": {
      "text/html": [
       "<div>\n",
       "<style scoped>\n",
       "    .dataframe tbody tr th:only-of-type {\n",
       "        vertical-align: middle;\n",
       "    }\n",
       "\n",
       "    .dataframe tbody tr th {\n",
       "        vertical-align: top;\n",
       "    }\n",
       "\n",
       "    .dataframe thead th {\n",
       "        text-align: right;\n",
       "    }\n",
       "</style>\n",
       "<table border=\"1\" class=\"dataframe\">\n",
       "  <thead>\n",
       "    <tr style=\"text-align: right;\">\n",
       "      <th></th>\n",
       "      <th>TEST</th>\n",
       "      <th>TRAIN</th>\n",
       "      <th>CONST</th>\n",
       "    </tr>\n",
       "  </thead>\n",
       "  <tbody>\n",
       "    <tr>\n",
       "      <td>ACCURACY</td>\n",
       "      <td>0.847867</td>\n",
       "      <td>0.914059</td>\n",
       "      <td>0.506635</td>\n",
       "    </tr>\n",
       "    <tr>\n",
       "      <td>AUC</td>\n",
       "      <td>0.893833</td>\n",
       "      <td>0.965030</td>\n",
       "      <td>0.509766</td>\n",
       "    </tr>\n",
       "    <tr>\n",
       "      <td>RECALL</td>\n",
       "      <td>0.942692</td>\n",
       "      <td>0.973407</td>\n",
       "      <td>0.810427</td>\n",
       "    </tr>\n",
       "    <tr>\n",
       "      <td>PRECISION</td>\n",
       "      <td>0.863208</td>\n",
       "      <td>0.914866</td>\n",
       "      <td>0.504127</td>\n",
       "    </tr>\n",
       "    <tr>\n",
       "      <td>F1</td>\n",
       "      <td>0.901200</td>\n",
       "      <td>0.943229</td>\n",
       "      <td>0.621592</td>\n",
       "    </tr>\n",
       "  </tbody>\n",
       "</table>\n",
       "</div>"
      ],
      "text/plain": [
       "               TEST     TRAIN     CONST\n",
       "ACCURACY   0.847867  0.914059  0.506635\n",
       "AUC        0.893833  0.965030  0.509766\n",
       "RECALL     0.942692  0.973407  0.810427\n",
       "PRECISION  0.863208  0.914866  0.504127\n",
       "F1         0.901200  0.943229  0.621592"
      ]
     },
     "execution_count": 359,
     "metadata": {},
     "output_type": "execute_result"
    }
   ],
   "source": [
    "final_scores_df"
   ]
  },
  {
   "cell_type": "code",
   "execution_count": 360,
   "metadata": {},
   "outputs": [
    {
     "data": {
      "image/png": "[encoded data removed]",
      "text/plain": [
       "<Figure size 432x288 with 1 Axes>"
      ]
     },
     "metadata": {
      "needs_background": "light"
     },
     "output_type": "display_data"
    }
   ],
   "source": [
    "fpr, tpr, thresholds = roc_curve(target_test, probabilities_test)\n",
    "\n",
    "plt.figure()\n",
    "plt.plot(fpr, tpr)\n",
    "plt.xlim([0.0, 1.0])\n",
    "plt.ylim([0.0, 1.0])\n",
    "plt.xlabel('False Positive Rate')\n",
    "plt.ylabel('True Positive Rate')\n",
    "plt.title('ROC-кривая')\n",
    "\n",
    "plt.plot([0, 1], [0, 1], linestyle='--')\n",
    "plt.show()"
   ]
  }
 ],
 "metadata": {
  "kernelspec": {
   "display_name": "Python 3",
   "language": "python",
   "name": "python3"
  },
  "language_info": {
   "codemirror_mode": {
    "name": "ipython",
    "version": 3
   },
   "file_extension": ".py",
   "mimetype": "text/x-python",
   "name": "python",
   "nbconvert_exporter": "python",
   "pygments_lexer": "ipython3",
   "version": "3.7.7"
  }
 },
 "nbformat": 4,
 "nbformat_minor": 2
}
