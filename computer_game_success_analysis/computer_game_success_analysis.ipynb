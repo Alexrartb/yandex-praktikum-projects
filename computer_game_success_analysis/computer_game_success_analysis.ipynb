{
 "cells": [
  {
   "cell_type": "code",
   "execution_count": 1,
   "metadata": {},
   "outputs": [],
   "source": [
    "import pandas as pd\n",
    "import numpy as np\n",
    "import matplotlib.pyplot as plt\n",
    "from scipy import stats as st"
   ]
  },
  {
   "cell_type": "code",
   "execution_count": 263,
   "metadata": {},
   "outputs": [
    {
     "name": "stdout",
     "output_type": "stream",
     "text": [
      "<class 'pandas.core.frame.DataFrame'>\n",
      "RangeIndex: 16715 entries, 0 to 16714\n",
      "Data columns (total 11 columns):\n",
      "Name               16713 non-null object\n",
      "Platform           16715 non-null object\n",
      "Year_of_Release    16446 non-null float64\n",
      "Genre              16713 non-null object\n",
      "NA_sales           16715 non-null float64\n",
      "EU_sales           16715 non-null float64\n",
      "JP_sales           16715 non-null float64\n",
      "Other_sales        16715 non-null float64\n",
      "Critic_Score       8137 non-null float64\n",
      "User_Score         10014 non-null object\n",
      "Rating             9949 non-null object\n",
      "dtypes: float64(6), object(5)\n",
      "memory usage: 1.4+ MB\n"
     ]
    },
    {
     "data": {
      "text/html": [
       "<div>\n",
       "<style scoped>\n",
       "    .dataframe tbody tr th:only-of-type {\n",
       "        vertical-align: middle;\n",
       "    }\n",
       "\n",
       "    .dataframe tbody tr th {\n",
       "        vertical-align: top;\n",
       "    }\n",
       "\n",
       "    .dataframe thead th {\n",
       "        text-align: right;\n",
       "    }\n",
       "</style>\n",
       "<table border=\"1\" class=\"dataframe\">\n",
       "  <thead>\n",
       "    <tr style=\"text-align: right;\">\n",
       "      <th></th>\n",
       "      <th>Name</th>\n",
       "      <th>Platform</th>\n",
       "      <th>Year_of_Release</th>\n",
       "      <th>Genre</th>\n",
       "      <th>NA_sales</th>\n",
       "      <th>EU_sales</th>\n",
       "      <th>JP_sales</th>\n",
       "      <th>Other_sales</th>\n",
       "      <th>Critic_Score</th>\n",
       "      <th>User_Score</th>\n",
       "      <th>Rating</th>\n",
       "    </tr>\n",
       "  </thead>\n",
       "  <tbody>\n",
       "    <tr>\n",
       "      <td>0</td>\n",
       "      <td>Wii Sports</td>\n",
       "      <td>Wii</td>\n",
       "      <td>2006.0</td>\n",
       "      <td>Sports</td>\n",
       "      <td>41.36</td>\n",
       "      <td>28.96</td>\n",
       "      <td>3.77</td>\n",
       "      <td>8.45</td>\n",
       "      <td>76.0</td>\n",
       "      <td>8</td>\n",
       "      <td>E</td>\n",
       "    </tr>\n",
       "    <tr>\n",
       "      <td>1</td>\n",
       "      <td>Super Mario Bros.</td>\n",
       "      <td>NES</td>\n",
       "      <td>1985.0</td>\n",
       "      <td>Platform</td>\n",
       "      <td>29.08</td>\n",
       "      <td>3.58</td>\n",
       "      <td>6.81</td>\n",
       "      <td>0.77</td>\n",
       "      <td>NaN</td>\n",
       "      <td>NaN</td>\n",
       "      <td>NaN</td>\n",
       "    </tr>\n",
       "    <tr>\n",
       "      <td>2</td>\n",
       "      <td>Mario Kart Wii</td>\n",
       "      <td>Wii</td>\n",
       "      <td>2008.0</td>\n",
       "      <td>Racing</td>\n",
       "      <td>15.68</td>\n",
       "      <td>12.76</td>\n",
       "      <td>3.79</td>\n",
       "      <td>3.29</td>\n",
       "      <td>82.0</td>\n",
       "      <td>8.3</td>\n",
       "      <td>E</td>\n",
       "    </tr>\n",
       "    <tr>\n",
       "      <td>3</td>\n",
       "      <td>Wii Sports Resort</td>\n",
       "      <td>Wii</td>\n",
       "      <td>2009.0</td>\n",
       "      <td>Sports</td>\n",
       "      <td>15.61</td>\n",
       "      <td>10.93</td>\n",
       "      <td>3.28</td>\n",
       "      <td>2.95</td>\n",
       "      <td>80.0</td>\n",
       "      <td>8</td>\n",
       "      <td>E</td>\n",
       "    </tr>\n",
       "    <tr>\n",
       "      <td>4</td>\n",
       "      <td>Pokemon Red/Pokemon Blue</td>\n",
       "      <td>GB</td>\n",
       "      <td>1996.0</td>\n",
       "      <td>Role-Playing</td>\n",
       "      <td>11.27</td>\n",
       "      <td>8.89</td>\n",
       "      <td>10.22</td>\n",
       "      <td>1.00</td>\n",
       "      <td>NaN</td>\n",
       "      <td>NaN</td>\n",
       "      <td>NaN</td>\n",
       "    </tr>\n",
       "  </tbody>\n",
       "</table>\n",
       "</div>"
      ],
      "text/plain": [
       "                       Name Platform  Year_of_Release         Genre  NA_sales  \\\n",
       "0                Wii Sports      Wii           2006.0        Sports     41.36   \n",
       "1         Super Mario Bros.      NES           1985.0      Platform     29.08   \n",
       "2            Mario Kart Wii      Wii           2008.0        Racing     15.68   \n",
       "3         Wii Sports Resort      Wii           2009.0        Sports     15.61   \n",
       "4  Pokemon Red/Pokemon Blue       GB           1996.0  Role-Playing     11.27   \n",
       "\n",
       "   EU_sales  JP_sales  Other_sales  Critic_Score User_Score Rating  \n",
       "0     28.96      3.77         8.45          76.0          8      E  \n",
       "1      3.58      6.81         0.77           NaN        NaN    NaN  \n",
       "2     12.76      3.79         3.29          82.0        8.3      E  \n",
       "3     10.93      3.28         2.95          80.0          8      E  \n",
       "4      8.89     10.22         1.00           NaN        NaN    NaN  "
      ]
     },
     "execution_count": 263,
     "metadata": {},
     "output_type": "execute_result"
    }
   ],
   "source": [
    "df = pd.read_csv('/datasets/games.csv')\n",
    "df.info()\n",
    "df.head()"
   ]
  },
  {
   "cell_type": "code",
   "execution_count": 264,
   "metadata": {},
   "outputs": [
    {
     "data": {
      "text/plain": [
       "Index(['name', 'platform', 'year_of_release', 'genre', 'na_sales', 'eu_sales',\n",
       "       'jp_sales', 'other_sales', 'critic_score', 'user_score', 'rating'],\n",
       "      dtype='object')"
      ]
     },
     "execution_count": 264,
     "metadata": {},
     "output_type": "execute_result"
    }
   ],
   "source": [
    "df.columns = ['name', 'platform', 'year_of_release', 'genre', 'na_sales', 'eu_sales',\n",
    "       'jp_sales', 'other_sales', 'critic_score', 'user_score', 'rating']\n",
    "df.columns"
   ]
  },
  {
   "cell_type": "code",
   "execution_count": 265,
   "metadata": {},
   "outputs": [
    {
     "name": "stdout",
     "output_type": "stream",
     "text": [
      "<class 'pandas.core.frame.DataFrame'>\n",
      "RangeIndex: 16715 entries, 0 to 16714\n",
      "Data columns (total 11 columns):\n",
      "name               16713 non-null object\n",
      "platform           16715 non-null object\n",
      "year_of_release    16446 non-null float64\n",
      "genre              16713 non-null object\n",
      "na_sales           16715 non-null float64\n",
      "eu_sales           16715 non-null float64\n",
      "jp_sales           16715 non-null float64\n",
      "other_sales        16715 non-null float64\n",
      "critic_score       8137 non-null float64\n",
      "user_score         10014 non-null object\n",
      "rating             9949 non-null object\n",
      "dtypes: float64(6), object(5)\n",
      "memory usage: 1.4+ MB\n"
     ]
    }
   ],
   "source": [
    "df.info()\n",
    "\n",
    "#преобразуем столбец year_of_release в тип int, предварительно заменив пропущенные значения на ноль\n",
    "df['year_of_release'] = df['year_of_release'].fillna(0)\n",
    "df['year_of_release'] = df['year_of_release'].astype(int)\n",
    "\n",
    "df['user_score'] = df['user_score'].fillna(0)\n",
    "df['user_score'] = df['user_score'].replace('tbd', -100) \n",
    "df['user_score'] = df['user_score'].astype(float)"
   ]
  },
  {
   "cell_type": "markdown",
   "metadata": {},
   "source": [
    "\n",
    "В столбце с оценками пользователей есть значение \"tbd\", что обозначает \"будет определено\". Пока что заменим это обозначение на уникальное значение (-100) для удобства."
   ]
  },
  {
   "cell_type": "code",
   "execution_count": 266,
   "metadata": {},
   "outputs": [
    {
     "data": {
      "text/plain": [
       "name                  2\n",
       "platform              0\n",
       "year_of_release       0\n",
       "genre                 2\n",
       "na_sales              0\n",
       "eu_sales              0\n",
       "jp_sales              0\n",
       "other_sales           0\n",
       "critic_score       8578\n",
       "user_score            0\n",
       "rating             6766\n",
       "dtype: int64"
      ]
     },
     "execution_count": 266,
     "metadata": {},
     "output_type": "execute_result"
    }
   ],
   "source": [
    "df.isna().sum()"
   ]
  },
  {
   "cell_type": "markdown",
   "metadata": {},
   "source": [
    "1. В случае с пропусками в названии все, что можно сделать - это заменить пропущенные значения на 'unknown'\n",
    "2. Жанр также вряд ли получится восстановить или подобрать, поэтому пропуски в этом столбце также заменяю на 'unknown'\n",
    "3. Очень много пропусков в столбце с оценками критиков - чуть больше половины от всех данных. Думаю, что если здесь и заменять пропущенные значения, то только на среднее по году, ведь в дальнейшем нам нужно будет выбрать какой то один год и чтобы не портить выборку, сделаю так.\n",
    "4. Та же история с оценками пользователей, хотя здесь вероятно, что пользователи просто напросто не стали выставлять свои оценки, такое ведь иногда происходит? Оставим пропуски в оценках пользователей как есть, тем более нецелосообразно менять значение tbd(будет определено) на что-то другое и соответственно менять тип столбца.\n",
    "5. Пропуски в столбце рейтинга скорее всего случайные, но нужно еще посмотреть"
   ]
  },
  {
   "cell_type": "code",
   "execution_count": 267,
   "metadata": {},
   "outputs": [
    {
     "data": {
      "text/html": [
       "<div>\n",
       "<style scoped>\n",
       "    .dataframe tbody tr th:only-of-type {\n",
       "        vertical-align: middle;\n",
       "    }\n",
       "\n",
       "    .dataframe tbody tr th {\n",
       "        vertical-align: top;\n",
       "    }\n",
       "\n",
       "    .dataframe thead th {\n",
       "        text-align: right;\n",
       "    }\n",
       "</style>\n",
       "<table border=\"1\" class=\"dataframe\">\n",
       "  <thead>\n",
       "    <tr style=\"text-align: right;\">\n",
       "      <th></th>\n",
       "      <th>name</th>\n",
       "      <th>platform</th>\n",
       "      <th>year_of_release</th>\n",
       "      <th>genre</th>\n",
       "      <th>na_sales</th>\n",
       "      <th>eu_sales</th>\n",
       "      <th>jp_sales</th>\n",
       "      <th>other_sales</th>\n",
       "      <th>critic_score</th>\n",
       "      <th>user_score</th>\n",
       "      <th>rating</th>\n",
       "    </tr>\n",
       "  </thead>\n",
       "  <tbody>\n",
       "    <tr>\n",
       "      <td>659</td>\n",
       "      <td>unknown</td>\n",
       "      <td>GEN</td>\n",
       "      <td>1993</td>\n",
       "      <td>NaN</td>\n",
       "      <td>1.78</td>\n",
       "      <td>0.53</td>\n",
       "      <td>0.00</td>\n",
       "      <td>0.08</td>\n",
       "      <td>NaN</td>\n",
       "      <td>0.0</td>\n",
       "      <td>NaN</td>\n",
       "    </tr>\n",
       "    <tr>\n",
       "      <td>14244</td>\n",
       "      <td>unknown</td>\n",
       "      <td>GEN</td>\n",
       "      <td>1993</td>\n",
       "      <td>NaN</td>\n",
       "      <td>0.00</td>\n",
       "      <td>0.00</td>\n",
       "      <td>0.03</td>\n",
       "      <td>0.00</td>\n",
       "      <td>NaN</td>\n",
       "      <td>0.0</td>\n",
       "      <td>NaN</td>\n",
       "    </tr>\n",
       "  </tbody>\n",
       "</table>\n",
       "</div>"
      ],
      "text/plain": [
       "          name platform  year_of_release genre  na_sales  eu_sales  jp_sales  \\\n",
       "659    unknown      GEN             1993   NaN      1.78      0.53      0.00   \n",
       "14244  unknown      GEN             1993   NaN      0.00      0.00      0.03   \n",
       "\n",
       "       other_sales  critic_score  user_score rating  \n",
       "659           0.08           NaN         0.0    NaN  \n",
       "14244         0.00           NaN         0.0    NaN  "
      ]
     },
     "execution_count": 267,
     "metadata": {},
     "output_type": "execute_result"
    }
   ],
   "source": [
    "df['name'] = df['name'].fillna('unknown')\n",
    "df.loc[df['name'] == 'unknown']"
   ]
  },
  {
   "cell_type": "markdown",
   "metadata": {},
   "source": [
    "Здесь же и появились две строки с пропущенными значениями в столбце жанра. Также заменяю их на 'unknown'"
   ]
  },
  {
   "cell_type": "code",
   "execution_count": 268,
   "metadata": {},
   "outputs": [],
   "source": [
    "df['genre'] = df['genre'].fillna('unknown')"
   ]
  },
  {
   "cell_type": "code",
   "execution_count": 269,
   "metadata": {},
   "outputs": [
    {
     "data": {
      "text/plain": [
       "name                  0\n",
       "platform              0\n",
       "year_of_release       0\n",
       "genre                 0\n",
       "na_sales              0\n",
       "eu_sales              0\n",
       "jp_sales              0\n",
       "other_sales           0\n",
       "critic_score        514\n",
       "user_score            0\n",
       "rating             6766\n",
       "dtype: int64"
      ]
     },
     "execution_count": 269,
     "metadata": {},
     "output_type": "execute_result"
    }
   ],
   "source": [
    "pivot = df.pivot_table(index = 'year_of_release', values = 'critic_score')\n",
    "def func(x):\n",
    "    if x in pivot.index:\n",
    "        return pivot['critic_score'][x]\n",
    "df['critic_score'] = df['critic_score'].fillna(df['year_of_release'].apply(func))   \n",
    "df.isna().sum()"
   ]
  },
  {
   "cell_type": "markdown",
   "metadata": {},
   "source": [
    "Пропущенных значений в этом столбце стало значительно меньше, но они все равно остались\n",
    "\n",
    "Проверим, какие года не вошли в сводную таблицу (просто интересно)"
   ]
  },
  {
   "cell_type": "code",
   "execution_count": 270,
   "metadata": {},
   "outputs": [
    {
     "data": {
      "text/plain": [
       "array([1980, 1981, 1982, 1983, 1984, 1986, 1987, 1989, 1990, 1991, 1993,\n",
       "       1995])"
      ]
     },
     "execution_count": 270,
     "metadata": {},
     "output_type": "execute_result"
    }
   ],
   "source": [
    "miss_years = []\n",
    "for x in df['year_of_release']:\n",
    "    if x not in pivot.index: \n",
    "        miss_years.append(x)\n",
    "        \n",
    "np.unique(miss_years)\n"
   ]
  },
  {
   "cell_type": "markdown",
   "metadata": {},
   "source": [
    "В эти года явно был дефицит критиков или забастовки.."
   ]
  },
  {
   "cell_type": "code",
   "execution_count": 271,
   "metadata": {},
   "outputs": [],
   "source": [
    "df['rating'].value_counts()\n",
    "df['rating'] = df['rating'].replace('K-A', 'E')"
   ]
  },
  {
   "cell_type": "markdown",
   "metadata": {},
   "source": [
    "K-A - это старое название рейтинга E (everyone). \n",
    "\n",
    "Оставшиеся пропущенные значения не меняем, потому что предсказать рейтинг наверняка невозможно.\n"
   ]
  },
  {
   "cell_type": "code",
   "execution_count": 272,
   "metadata": {},
   "outputs": [
    {
     "data": {
      "text/html": [
       "<div>\n",
       "<style scoped>\n",
       "    .dataframe tbody tr th:only-of-type {\n",
       "        vertical-align: middle;\n",
       "    }\n",
       "\n",
       "    .dataframe tbody tr th {\n",
       "        vertical-align: top;\n",
       "    }\n",
       "\n",
       "    .dataframe thead th {\n",
       "        text-align: right;\n",
       "    }\n",
       "</style>\n",
       "<table border=\"1\" class=\"dataframe\">\n",
       "  <thead>\n",
       "    <tr style=\"text-align: right;\">\n",
       "      <th></th>\n",
       "      <th>name</th>\n",
       "      <th>platform</th>\n",
       "      <th>year_of_release</th>\n",
       "      <th>genre</th>\n",
       "      <th>na_sales</th>\n",
       "      <th>eu_sales</th>\n",
       "      <th>jp_sales</th>\n",
       "      <th>other_sales</th>\n",
       "      <th>critic_score</th>\n",
       "      <th>user_score</th>\n",
       "      <th>rating</th>\n",
       "      <th>all_sales</th>\n",
       "    </tr>\n",
       "  </thead>\n",
       "  <tbody>\n",
       "    <tr>\n",
       "      <td>0</td>\n",
       "      <td>Wii Sports</td>\n",
       "      <td>Wii</td>\n",
       "      <td>2006</td>\n",
       "      <td>Sports</td>\n",
       "      <td>41.36</td>\n",
       "      <td>28.96</td>\n",
       "      <td>3.77</td>\n",
       "      <td>8.45</td>\n",
       "      <td>76.000</td>\n",
       "      <td>8.0</td>\n",
       "      <td>E</td>\n",
       "      <td>74.09</td>\n",
       "    </tr>\n",
       "    <tr>\n",
       "      <td>1</td>\n",
       "      <td>Super Mario Bros.</td>\n",
       "      <td>NES</td>\n",
       "      <td>1985</td>\n",
       "      <td>Platform</td>\n",
       "      <td>29.08</td>\n",
       "      <td>3.58</td>\n",
       "      <td>6.81</td>\n",
       "      <td>0.77</td>\n",
       "      <td>59.000</td>\n",
       "      <td>0.0</td>\n",
       "      <td>NaN</td>\n",
       "      <td>39.47</td>\n",
       "    </tr>\n",
       "    <tr>\n",
       "      <td>2</td>\n",
       "      <td>Mario Kart Wii</td>\n",
       "      <td>Wii</td>\n",
       "      <td>2008</td>\n",
       "      <td>Racing</td>\n",
       "      <td>15.68</td>\n",
       "      <td>12.76</td>\n",
       "      <td>3.79</td>\n",
       "      <td>3.29</td>\n",
       "      <td>82.000</td>\n",
       "      <td>8.3</td>\n",
       "      <td>E</td>\n",
       "      <td>32.23</td>\n",
       "    </tr>\n",
       "    <tr>\n",
       "      <td>3</td>\n",
       "      <td>Wii Sports Resort</td>\n",
       "      <td>Wii</td>\n",
       "      <td>2009</td>\n",
       "      <td>Sports</td>\n",
       "      <td>15.61</td>\n",
       "      <td>10.93</td>\n",
       "      <td>3.28</td>\n",
       "      <td>2.95</td>\n",
       "      <td>80.000</td>\n",
       "      <td>8.0</td>\n",
       "      <td>E</td>\n",
       "      <td>29.82</td>\n",
       "    </tr>\n",
       "    <tr>\n",
       "      <td>4</td>\n",
       "      <td>Pokemon Red/Pokemon Blue</td>\n",
       "      <td>GB</td>\n",
       "      <td>1996</td>\n",
       "      <td>Role-Playing</td>\n",
       "      <td>11.27</td>\n",
       "      <td>8.89</td>\n",
       "      <td>10.22</td>\n",
       "      <td>1.00</td>\n",
       "      <td>89.875</td>\n",
       "      <td>0.0</td>\n",
       "      <td>NaN</td>\n",
       "      <td>30.38</td>\n",
       "    </tr>\n",
       "  </tbody>\n",
       "</table>\n",
       "</div>"
      ],
      "text/plain": [
       "                       name platform  year_of_release         genre  na_sales  \\\n",
       "0                Wii Sports      Wii             2006        Sports     41.36   \n",
       "1         Super Mario Bros.      NES             1985      Platform     29.08   \n",
       "2            Mario Kart Wii      Wii             2008        Racing     15.68   \n",
       "3         Wii Sports Resort      Wii             2009        Sports     15.61   \n",
       "4  Pokemon Red/Pokemon Blue       GB             1996  Role-Playing     11.27   \n",
       "\n",
       "   eu_sales  jp_sales  other_sales  critic_score  user_score rating  all_sales  \n",
       "0     28.96      3.77         8.45        76.000         8.0      E      74.09  \n",
       "1      3.58      6.81         0.77        59.000         0.0    NaN      39.47  \n",
       "2     12.76      3.79         3.29        82.000         8.3      E      32.23  \n",
       "3     10.93      3.28         2.95        80.000         8.0      E      29.82  \n",
       "4      8.89     10.22         1.00        89.875         0.0    NaN      30.38  "
      ]
     },
     "execution_count": 272,
     "metadata": {},
     "output_type": "execute_result"
    }
   ],
   "source": [
    "df['all_sales'] = df['na_sales'] + df['jp_sales'] + df['eu_sales']\n",
    "df.head()"
   ]
  },
  {
   "cell_type": "markdown",
   "metadata": {},
   "source": [
    "### Исследовательский анализ данных"
   ]
  },
  {
   "cell_type": "code",
   "execution_count": 273,
   "metadata": {},
   "outputs": [
    {
     "data": {
      "text/plain": [
       "<matplotlib.axes._subplots.AxesSubplot at 0x7ff5301c05f8>"
      ]
     },
     "execution_count": 273,
     "metadata": {},
     "output_type": "execute_result"
    },
    {
     "data": {
      "image/png": "[encoded data removed]",
      "text/plain": [
       "<Figure size 432x288 with 1 Axes>"
      ]
     },
     "metadata": {
      "needs_background": "light"
     },
     "output_type": "display_data"
    }
   ],
   "source": [
    "games_sales = df.pivot_table(index = 'year_of_release', values = 'name', aggfunc = 'count')\n",
    "games_sales = games_sales.reset_index()\n",
    "games_sales.plot(x = 'year_of_release', y = 'name', xlim = (1980,2017), style = '-o')"
   ]
  },
  {
   "cell_type": "markdown",
   "metadata": {},
   "source": [
    "Возьмем данные за последние пять лет, примерно с 2010 года наблюдается уменьшение продаж на видеоигры, могли поменяться  предпочтения целевой аудитории. Из-за этого нецелесообразно брать весь объем изначальных данных. "
   ]
  },
  {
   "cell_type": "code",
   "execution_count": 274,
   "metadata": {},
   "outputs": [
    {
     "data": {
      "text/html": [
       "<div>\n",
       "<style scoped>\n",
       "    .dataframe tbody tr th:only-of-type {\n",
       "        vertical-align: middle;\n",
       "    }\n",
       "\n",
       "    .dataframe tbody tr th {\n",
       "        vertical-align: top;\n",
       "    }\n",
       "\n",
       "    .dataframe thead th {\n",
       "        text-align: right;\n",
       "    }\n",
       "</style>\n",
       "<table border=\"1\" class=\"dataframe\">\n",
       "  <thead>\n",
       "    <tr style=\"text-align: right;\">\n",
       "      <th></th>\n",
       "      <th>all_sales</th>\n",
       "    </tr>\n",
       "    <tr>\n",
       "      <th>platform</th>\n",
       "      <th></th>\n",
       "    </tr>\n",
       "  </thead>\n",
       "  <tbody>\n",
       "    <tr>\n",
       "      <td>PS2</td>\n",
       "      <td>1062.33</td>\n",
       "    </tr>\n",
       "    <tr>\n",
       "      <td>X360</td>\n",
       "      <td>885.66</td>\n",
       "    </tr>\n",
       "    <tr>\n",
       "      <td>Wii</td>\n",
       "      <td>828.44</td>\n",
       "    </tr>\n",
       "    <tr>\n",
       "      <td>PS3</td>\n",
       "      <td>803.97</td>\n",
       "    </tr>\n",
       "    <tr>\n",
       "      <td>DS</td>\n",
       "      <td>746.86</td>\n",
       "    </tr>\n",
       "    <tr>\n",
       "      <td>PS</td>\n",
       "      <td>689.95</td>\n",
       "    </tr>\n",
       "    <tr>\n",
       "      <td>GBA</td>\n",
       "      <td>310.12</td>\n",
       "    </tr>\n",
       "    <tr>\n",
       "      <td>PS4</td>\n",
       "      <td>265.79</td>\n",
       "    </tr>\n",
       "    <tr>\n",
       "      <td>PSP</td>\n",
       "      <td>252.63</td>\n",
       "    </tr>\n",
       "    <tr>\n",
       "      <td>XB</td>\n",
       "      <td>249.02</td>\n",
       "    </tr>\n",
       "  </tbody>\n",
       "</table>\n",
       "</div>"
      ],
      "text/plain": [
       "          all_sales\n",
       "platform           \n",
       "PS2         1062.33\n",
       "X360         885.66\n",
       "Wii          828.44\n",
       "PS3          803.97\n",
       "DS           746.86\n",
       "PS           689.95\n",
       "GBA          310.12\n",
       "PS4          265.79\n",
       "PSP          252.63\n",
       "XB           249.02"
      ]
     },
     "execution_count": 274,
     "metadata": {},
     "output_type": "execute_result"
    }
   ],
   "source": [
    "top_platform_sales = df.pivot_table(index = 'platform', values = 'all_sales', aggfunc = 'sum')\n",
    "                     \n",
    "top_platform_sales = top_platform_sales.sort_values(by = 'all_sales',ascending = False)\n",
    "top_platform_sales = top_platform_sales.head(10)\n",
    "top_platform_sales #платформы с наибольшими суммарными продажами"
   ]
  },
  {
   "cell_type": "code",
   "execution_count": 275,
   "metadata": {},
   "outputs": [
    {
     "data": {
      "text/html": [
       "<div>\n",
       "<style scoped>\n",
       "    .dataframe tbody tr th:only-of-type {\n",
       "        vertical-align: middle;\n",
       "    }\n",
       "\n",
       "    .dataframe tbody tr th {\n",
       "        vertical-align: top;\n",
       "    }\n",
       "\n",
       "    .dataframe thead th {\n",
       "        text-align: right;\n",
       "    }\n",
       "</style>\n",
       "<table border=\"1\" class=\"dataframe\">\n",
       "  <thead>\n",
       "    <tr style=\"text-align: right;\">\n",
       "      <th></th>\n",
       "      <th></th>\n",
       "      <th>all_sales</th>\n",
       "    </tr>\n",
       "    <tr>\n",
       "      <th>platform</th>\n",
       "      <th>year_of_release</th>\n",
       "      <th></th>\n",
       "    </tr>\n",
       "  </thead>\n",
       "  <tbody>\n",
       "    <tr>\n",
       "      <td rowspan=\"5\" valign=\"top\">2600</td>\n",
       "      <td>0</td>\n",
       "      <td>10.43</td>\n",
       "    </tr>\n",
       "    <tr>\n",
       "      <td>1980</td>\n",
       "      <td>11.26</td>\n",
       "    </tr>\n",
       "    <tr>\n",
       "      <td>1981</td>\n",
       "      <td>35.36</td>\n",
       "    </tr>\n",
       "    <tr>\n",
       "      <td>1982</td>\n",
       "      <td>28.57</td>\n",
       "    </tr>\n",
       "    <tr>\n",
       "      <td>1983</td>\n",
       "      <td>5.78</td>\n",
       "    </tr>\n",
       "  </tbody>\n",
       "</table>\n",
       "</div>"
      ],
      "text/plain": [
       "                          all_sales\n",
       "platform year_of_release           \n",
       "2600     0                    10.43\n",
       "         1980                 11.26\n",
       "         1981                 35.36\n",
       "         1982                 28.57\n",
       "         1983                  5.78"
      ]
     },
     "execution_count": 275,
     "metadata": {},
     "output_type": "execute_result"
    }
   ],
   "source": [
    "platform_sales = df.pivot_table(index = ['platform', 'year_of_release'], values = 'all_sales', aggfunc = 'sum')  \n",
    "                 \n",
    "platform_sales.head() #как менялись продажи по платформам и годам"
   ]
  },
  {
   "cell_type": "code",
   "execution_count": 276,
   "metadata": {},
   "outputs": [
    {
     "data": {
      "text/html": [
       "<div>\n",
       "<style scoped>\n",
       "    .dataframe tbody tr th:only-of-type {\n",
       "        vertical-align: middle;\n",
       "    }\n",
       "\n",
       "    .dataframe tbody tr th {\n",
       "        vertical-align: top;\n",
       "    }\n",
       "\n",
       "    .dataframe thead th {\n",
       "        text-align: right;\n",
       "    }\n",
       "</style>\n",
       "<table border=\"1\" class=\"dataframe\">\n",
       "  <thead>\n",
       "    <tr style=\"text-align: right;\">\n",
       "      <th></th>\n",
       "      <th>platform</th>\n",
       "      <th>year_of_release</th>\n",
       "      <th>all_sales</th>\n",
       "    </tr>\n",
       "  </thead>\n",
       "  <tbody>\n",
       "    <tr>\n",
       "      <td>0</td>\n",
       "      <td>2600</td>\n",
       "      <td>0</td>\n",
       "      <td>10.43</td>\n",
       "    </tr>\n",
       "    <tr>\n",
       "      <td>1</td>\n",
       "      <td>2600</td>\n",
       "      <td>1980</td>\n",
       "      <td>11.26</td>\n",
       "    </tr>\n",
       "    <tr>\n",
       "      <td>2</td>\n",
       "      <td>2600</td>\n",
       "      <td>1981</td>\n",
       "      <td>35.36</td>\n",
       "    </tr>\n",
       "    <tr>\n",
       "      <td>3</td>\n",
       "      <td>2600</td>\n",
       "      <td>1982</td>\n",
       "      <td>28.57</td>\n",
       "    </tr>\n",
       "    <tr>\n",
       "      <td>4</td>\n",
       "      <td>2600</td>\n",
       "      <td>1983</td>\n",
       "      <td>5.78</td>\n",
       "    </tr>\n",
       "  </tbody>\n",
       "</table>\n",
       "</div>"
      ],
      "text/plain": [
       "  platform  year_of_release  all_sales\n",
       "0     2600                0      10.43\n",
       "1     2600             1980      11.26\n",
       "2     2600             1981      35.36\n",
       "3     2600             1982      28.57\n",
       "4     2600             1983       5.78"
      ]
     },
     "execution_count": 276,
     "metadata": {},
     "output_type": "execute_result"
    }
   ],
   "source": [
    "platform_sales = platform_sales.reset_index()\n",
    "platform_sales.head()"
   ]
  },
  {
   "cell_type": "code",
   "execution_count": 277,
   "metadata": {},
   "outputs": [
    {
     "data": {
      "text/plain": [
       "<matplotlib.legend.Legend at 0x7ff50f880dd8>"
      ]
     },
     "execution_count": 277,
     "metadata": {},
     "output_type": "execute_result"
    },
    {
     "data": {
      "image/png": "[encoded data removed]",
      "text/plain": [
       "<Figure size 720x360 with 1 Axes>"
      ]
     },
     "metadata": {
      "needs_background": "light"
     },
     "output_type": "display_data"
    }
   ],
   "source": [
    "fig, axs = plt.subplots(1,1, figsize = (10,5))\n",
    "for plat in top_platform_sales.index:\n",
    "    (platform_sales\n",
    "         .query('platform == @plat')\n",
    "         .plot(ax=axs, x = 'year_of_release', y = 'all_sales', grid = True, xlim = (1994,2017), style = 'o-')\n",
    "    )\n",
    "plt.legend(top_platform_sales.index)"
   ]
  },
  {
   "cell_type": "markdown",
   "metadata": {},
   "source": [
    "1. Новые платформы появляются примерно раз в 3-4 года, но при этом в один год может появиться несколько новых платформ. \n",
    "2. Исчезают они не так быстро - около 7-9 лет, но, чем современнее технология, тем дольше она сохраняет свою актуальность, например, psp не на высоких позициях, но все таки продержалась, около 11 лет."
   ]
  },
  {
   "cell_type": "markdown",
   "metadata": {},
   "source": [
    "Исходя из полученных графиков, можно сказать, что:\n",
    "1. В настоящее время существует серьезный спад спроса на видеоигры\n",
    "2. \"Цикл жизни\" многих платформ подходит к концу, поэтому скорее всего нужно ожидать анонса новых \n",
    "3. Единственная платформа, продажи которой к 2016 году не сравнялись с нулем - это PS4, что обусловлено ее недавним выходом "
   ]
  },
  {
   "cell_type": "markdown",
   "metadata": {},
   "source": [
    "Выбираем актуальный период для дальнейшего построения прогноза\n"
   ]
  },
  {
   "cell_type": "code",
   "execution_count": 278,
   "metadata": {},
   "outputs": [
    {
     "data": {
      "text/html": [
       "<div>\n",
       "<style scoped>\n",
       "    .dataframe tbody tr th:only-of-type {\n",
       "        vertical-align: middle;\n",
       "    }\n",
       "\n",
       "    .dataframe tbody tr th {\n",
       "        vertical-align: top;\n",
       "    }\n",
       "\n",
       "    .dataframe thead th {\n",
       "        text-align: right;\n",
       "    }\n",
       "</style>\n",
       "<table border=\"1\" class=\"dataframe\">\n",
       "  <thead>\n",
       "    <tr style=\"text-align: right;\">\n",
       "      <th></th>\n",
       "      <th>name</th>\n",
       "      <th>platform</th>\n",
       "      <th>year_of_release</th>\n",
       "      <th>genre</th>\n",
       "      <th>na_sales</th>\n",
       "      <th>eu_sales</th>\n",
       "      <th>jp_sales</th>\n",
       "      <th>other_sales</th>\n",
       "      <th>critic_score</th>\n",
       "      <th>user_score</th>\n",
       "      <th>rating</th>\n",
       "      <th>all_sales</th>\n",
       "    </tr>\n",
       "  </thead>\n",
       "  <tbody>\n",
       "    <tr>\n",
       "      <td>0</td>\n",
       "      <td>Kinect Adventures!</td>\n",
       "      <td>X360</td>\n",
       "      <td>2010</td>\n",
       "      <td>Misc</td>\n",
       "      <td>15.00</td>\n",
       "      <td>4.89</td>\n",
       "      <td>0.24</td>\n",
       "      <td>1.69</td>\n",
       "      <td>61.000</td>\n",
       "      <td>6.3</td>\n",
       "      <td>E</td>\n",
       "      <td>20.13</td>\n",
       "    </tr>\n",
       "    <tr>\n",
       "      <td>1</td>\n",
       "      <td>Grand Theft Auto V</td>\n",
       "      <td>PS3</td>\n",
       "      <td>2013</td>\n",
       "      <td>Action</td>\n",
       "      <td>7.02</td>\n",
       "      <td>9.09</td>\n",
       "      <td>0.98</td>\n",
       "      <td>3.96</td>\n",
       "      <td>97.000</td>\n",
       "      <td>8.2</td>\n",
       "      <td>M</td>\n",
       "      <td>17.09</td>\n",
       "    </tr>\n",
       "    <tr>\n",
       "      <td>2</td>\n",
       "      <td>Grand Theft Auto V</td>\n",
       "      <td>X360</td>\n",
       "      <td>2013</td>\n",
       "      <td>Action</td>\n",
       "      <td>9.66</td>\n",
       "      <td>5.14</td>\n",
       "      <td>0.06</td>\n",
       "      <td>1.41</td>\n",
       "      <td>97.000</td>\n",
       "      <td>8.1</td>\n",
       "      <td>M</td>\n",
       "      <td>14.86</td>\n",
       "    </tr>\n",
       "    <tr>\n",
       "      <td>3</td>\n",
       "      <td>Pokemon Black/Pokemon White</td>\n",
       "      <td>DS</td>\n",
       "      <td>2010</td>\n",
       "      <td>Role-Playing</td>\n",
       "      <td>5.51</td>\n",
       "      <td>3.17</td>\n",
       "      <td>5.65</td>\n",
       "      <td>0.80</td>\n",
       "      <td>67.482</td>\n",
       "      <td>0.0</td>\n",
       "      <td>NaN</td>\n",
       "      <td>14.33</td>\n",
       "    </tr>\n",
       "    <tr>\n",
       "      <td>4</td>\n",
       "      <td>Call of Duty: Modern Warfare 3</td>\n",
       "      <td>X360</td>\n",
       "      <td>2011</td>\n",
       "      <td>Shooter</td>\n",
       "      <td>9.04</td>\n",
       "      <td>4.24</td>\n",
       "      <td>0.13</td>\n",
       "      <td>1.32</td>\n",
       "      <td>88.000</td>\n",
       "      <td>3.4</td>\n",
       "      <td>M</td>\n",
       "      <td>13.41</td>\n",
       "    </tr>\n",
       "  </tbody>\n",
       "</table>\n",
       "</div>"
      ],
      "text/plain": [
       "                             name platform  year_of_release         genre  \\\n",
       "0              Kinect Adventures!     X360             2010          Misc   \n",
       "1              Grand Theft Auto V      PS3             2013        Action   \n",
       "2              Grand Theft Auto V     X360             2013        Action   \n",
       "3     Pokemon Black/Pokemon White       DS             2010  Role-Playing   \n",
       "4  Call of Duty: Modern Warfare 3     X360             2011       Shooter   \n",
       "\n",
       "   na_sales  eu_sales  jp_sales  other_sales  critic_score  user_score rating  \\\n",
       "0     15.00      4.89      0.24         1.69        61.000         6.3      E   \n",
       "1      7.02      9.09      0.98         3.96        97.000         8.2      M   \n",
       "2      9.66      5.14      0.06         1.41        97.000         8.1      M   \n",
       "3      5.51      3.17      5.65         0.80        67.482         0.0    NaN   \n",
       "4      9.04      4.24      0.13         1.32        88.000         3.4      M   \n",
       "\n",
       "   all_sales  \n",
       "0      20.13  \n",
       "1      17.09  \n",
       "2      14.86  \n",
       "3      14.33  \n",
       "4      13.41  "
      ]
     },
     "execution_count": 278,
     "metadata": {},
     "output_type": "execute_result"
    }
   ],
   "source": [
    "data = df.query('year_of_release >= 2010')\n",
    "data = data.reset_index(drop = True)\n",
    "data.head()"
   ]
  },
  {
   "cell_type": "markdown",
   "metadata": {},
   "source": [
    "Как и говорилось выше, берем данные за пять последних лет, чтобы не потерять динамику"
   ]
  },
  {
   "cell_type": "code",
   "execution_count": 279,
   "metadata": {},
   "outputs": [
    {
     "data": {
      "text/html": [
       "<div>\n",
       "<style scoped>\n",
       "    .dataframe tbody tr th:only-of-type {\n",
       "        vertical-align: middle;\n",
       "    }\n",
       "\n",
       "    .dataframe tbody tr th {\n",
       "        vertical-align: top;\n",
       "    }\n",
       "\n",
       "    .dataframe thead th {\n",
       "        text-align: right;\n",
       "    }\n",
       "</style>\n",
       "<table border=\"1\" class=\"dataframe\">\n",
       "  <thead>\n",
       "    <tr style=\"text-align: right;\">\n",
       "      <th></th>\n",
       "      <th>platform</th>\n",
       "      <th>name</th>\n",
       "      <th>all_sales</th>\n",
       "    </tr>\n",
       "  </thead>\n",
       "  <tbody>\n",
       "    <tr>\n",
       "      <td>0</td>\n",
       "      <td>3DS</td>\n",
       "      <td>Beyblade Burst</td>\n",
       "      <td>0.03</td>\n",
       "    </tr>\n",
       "    <tr>\n",
       "      <td>1</td>\n",
       "      <td>3DS</td>\n",
       "      <td>Fire Emblem Fates</td>\n",
       "      <td>1.56</td>\n",
       "    </tr>\n",
       "    <tr>\n",
       "      <td>2</td>\n",
       "      <td>3DS</td>\n",
       "      <td>Frozen: Olaf's Quest</td>\n",
       "      <td>0.54</td>\n",
       "    </tr>\n",
       "    <tr>\n",
       "      <td>3</td>\n",
       "      <td>3DS</td>\n",
       "      <td>Haikyu!! Cross Team Match!</td>\n",
       "      <td>0.04</td>\n",
       "    </tr>\n",
       "    <tr>\n",
       "      <td>4</td>\n",
       "      <td>3DS</td>\n",
       "      <td>12-Sai. Honto no Kimochi</td>\n",
       "      <td>0.07</td>\n",
       "    </tr>\n",
       "  </tbody>\n",
       "</table>\n",
       "</div>"
      ],
      "text/plain": [
       "  platform                         name  all_sales\n",
       "0      3DS               Beyblade Burst       0.03\n",
       "1      3DS            Fire Emblem Fates       1.56\n",
       "2      3DS         Frozen: Olaf's Quest       0.54\n",
       "3      3DS   Haikyu!! Cross Team Match!       0.04\n",
       "4      3DS     12-Sai. Honto no Kimochi       0.07"
      ]
     },
     "execution_count": 279,
     "metadata": {},
     "output_type": "execute_result"
    }
   ],
   "source": [
    "games_platform = data.pivot_table(index = ['platform','name'], values = 'all_sales', aggfunc = 'sum')\n",
    "games_platform = games_platform.reset_index()\n",
    "games_platform.head()"
   ]
  },
  {
   "cell_type": "code",
   "execution_count": 280,
   "metadata": {},
   "outputs": [
    {
     "data": {
      "image/png": "[encoded data removed]",
      "text/plain": [
       "<Figure size 1440x720 with 1 Axes>"
      ]
     },
     "metadata": {
      "needs_background": "light"
     },
     "output_type": "display_data"
    }
   ],
   "source": [
    "games_platform.boxplot(by = 'platform', figsize = (20,10))\n",
    "plt.ylim(0,1.75)\n",
    "plt.show()"
   ]
  },
  {
   "cell_type": "markdown",
   "metadata": {},
   "source": [
    "1. Разница в продажах ощутима - достаточно взглянуть  на разницу ящиков X360 и PS2\n",
    "2. Средние продажи разных платформ не так сильно отличаются, но все же различия есть"
   ]
  },
  {
   "cell_type": "markdown",
   "metadata": {},
   "source": [
    "Как влияют на продажи внутри одной популярной платформы отзывы пользователей и критиков?\n"
   ]
  },
  {
   "cell_type": "code",
   "execution_count": 281,
   "metadata": {},
   "outputs": [
    {
     "data": {
      "text/plain": [
       "critic_score    0.236561\n",
       "user_score     -0.231383\n",
       "all_sales       1.000000\n",
       "Name: all_sales, dtype: float64"
      ]
     },
     "execution_count": 281,
     "metadata": {},
     "output_type": "execute_result"
    }
   ],
   "source": [
    "data_ps2 = data.query('platform == \"PS2\"')[['name','platform','critic_score','user_score','all_sales']]\n",
    "data_ps2.corr()['all_sales']"
   ]
  },
  {
   "cell_type": "code",
   "execution_count": 282,
   "metadata": {},
   "outputs": [
    {
     "data": {
      "text/plain": [
       "<matplotlib.axes._subplots.AxesSubplot at 0x7ff50f65e358>"
      ]
     },
     "execution_count": 282,
     "metadata": {},
     "output_type": "execute_result"
    },
    {
     "data": {
      "image/png": "[encoded data removed]",
      "text/plain": [
       "<Figure size 432x288 with 1 Axes>"
      ]
     },
     "metadata": {
      "needs_background": "light"
     },
     "output_type": "display_data"
    },
    {
     "data": {
      "image/png": "[encoded data removed]",
      "text/plain": [
       "<Figure size 432x288 with 1 Axes>"
      ]
     },
     "metadata": {
      "needs_background": "light"
     },
     "output_type": "display_data"
    }
   ],
   "source": [
    "data_ps2.plot(x = 'all_sales', y = 'critic_score', kind = 'scatter', title = 'critic_score', grid = True)\n",
    "data_ps2.plot(x = 'all_sales', y = 'user_score', kind = 'scatter', title = 'user_score', grid = True)\n",
    "#.plot(x='height', y='weight', kind='scatter')"
   ]
  },
  {
   "cell_type": "markdown",
   "metadata": {},
   "source": [
    "Для оценки влияния отзывов на продажи внутри платформы взяла сначала самую популярную платформу из топа - PS2. Несмотря на то, что продажи игр на этой платформе приблизились к нулю еще до 2016 года, она остается платформой с самым высоким уровнем продаж.\n",
    "1. Корреляция продаж с оценкой критиков положительная (чем выше оценка, тем выше продажи), но совсем не высокая, здесь можно сказать, что связь либо очень слабая, либо отсутствует вообще\n",
    "2. Аналогичная история с оценками пользователей - слабая или отсутствующая связь, несмотря на это здесь корреляция положительная, то есть значения прямо пропорциональны\n",
    "3. На первом графике, оценка критиков, можно увидеть, что несмотря на один уровень оценки игры, продажи могут быть любыми\n",
    "4. На втором графике не смотрим на значения (-100), эти значения бывшие \"tbd\" (игры ожидающие оценки), также здесь много нулевых оценок, но вывод аналогичный п.3 - вне зависимости от оценки пользователей, игра может собрать и меньше 0.1млн долларов и больше 0.1 млн.долларов. "
   ]
  },
  {
   "cell_type": "markdown",
   "metadata": {},
   "source": [
    "Соотношение выводов\n"
   ]
  },
  {
   "cell_type": "code",
   "execution_count": 283,
   "metadata": {},
   "outputs": [
    {
     "name": "stdout",
     "output_type": "stream",
     "text": [
      "Корреляция для платформы X360\n",
      "critic_score    0.308203\n",
      "user_score      0.117428\n",
      "all_sales       1.000000\n",
      "Name: all_sales, dtype: float64\n",
      "\n",
      "Корреляция для платформы PS3\n",
      "critic_score    0.360685\n",
      "user_score      0.138430\n",
      "all_sales       1.000000\n",
      "Name: all_sales, dtype: float64\n",
      "\n",
      "Корреляция для платформы DS\n",
      "critic_score    0.075457\n",
      "user_score      0.087067\n",
      "all_sales       1.000000\n",
      "Name: all_sales, dtype: float64\n",
      "\n",
      "Корреляция для платформы PS4\n",
      "critic_score    0.324360\n",
      "user_score      0.085115\n",
      "all_sales       1.000000\n",
      "Name: all_sales, dtype: float64\n",
      "\n",
      "Корреляция для платформы 3DS\n",
      "critic_score    0.184049\n",
      "user_score      0.113510\n",
      "all_sales       1.000000\n",
      "Name: all_sales, dtype: float64\n",
      "\n",
      "Корреляция для платформы Wii\n",
      "critic_score    0.221573\n",
      "user_score      0.203555\n",
      "all_sales       1.000000\n",
      "Name: all_sales, dtype: float64\n",
      "\n",
      "Корреляция для платформы XOne\n",
      "critic_score    0.348259\n",
      "user_score      0.133740\n",
      "all_sales       1.000000\n",
      "Name: all_sales, dtype: float64\n",
      "\n",
      "Корреляция для платформы WiiU\n",
      "critic_score    0.295644\n",
      "user_score      0.128226\n",
      "all_sales       1.000000\n",
      "Name: all_sales, dtype: float64\n",
      "\n",
      "Корреляция для платформы PC\n",
      "critic_score    0.350239\n",
      "user_score      0.108791\n",
      "all_sales       1.000000\n",
      "Name: all_sales, dtype: float64\n",
      "\n",
      "Корреляция для платформы PSP\n",
      "critic_score    0.102214\n",
      "user_score     -0.000179\n",
      "all_sales       1.000000\n",
      "Name: all_sales, dtype: float64\n",
      "\n",
      "Корреляция для платформы PSV\n",
      "critic_score    0.037555\n",
      "user_score      0.146757\n",
      "all_sales       1.000000\n",
      "Name: all_sales, dtype: float64\n",
      "\n",
      "Корреляция для платформы PS2\n",
      "critic_score    0.236561\n",
      "user_score     -0.231383\n",
      "all_sales       1.000000\n",
      "Name: all_sales, dtype: float64\n",
      "\n"
     ]
    }
   ],
   "source": [
    "for x in data['platform'].unique():\n",
    "    print('Корреляция для платформы', x)\n",
    "    print(data\n",
    "        .query('platform == @x')[['name','platform','critic_score','user_score','all_sales']]\n",
    "        .corr()['all_sales'])\n",
    "    print()    "
   ]
  },
  {
   "cell_type": "markdown",
   "metadata": {},
   "source": [
    "1. Обратно пропорциональны продажи игр оценкам пользователей только на платформах PS2 и PSP.\n",
    "2. В случае с PSP корреляция незначительна, соответственно отсутствует\n",
    "3. Сильная прямая связь между уровнем продаж и оценками критиков видна на таких платформах как:\n",
    "    - X360\n",
    "    - PS3\n",
    "    - PS4\n",
    "    - Xone\n",
    "    - WiiU\n",
    "    - PC\n",
    "4. Все остальные корреляции находятся в диапазоне [-0.3;0.3], их можно считать незначительными\n",
    "5. Можно предположить, что в случае с большинством платформ оценка критиков является более значимой, нежели оценка пользователей. Возможно, это обусловлено тем, что пользователи, оставившие отзыв уже купили игру."
   ]
  },
  {
   "cell_type": "markdown",
   "metadata": {},
   "source": [
    "Общее распределение игр по жанрам. "
   ]
  },
  {
   "cell_type": "code",
   "execution_count": null,
   "metadata": {},
   "outputs": [],
   "source": [
    "data['genre'].value_counts()\n",
    "data_genres = data.pivot_table(index = 'genre', values = 'all_sales', aggfunc = 'sum')\n",
    "data_genres = data_genres.reset_index()\n",
    "data_genres = data_genres.sort_values(by = 'all_sales', ascending = False).reset_index(drop = True)\n",
    "\n",
    "print('Самые высокие продажи у жанра', data_genres['genre'][0], 'составили', data_genres['all_sales'][0],'млн.долларов')\n",
    "print('Самые низкие продажи у жанра', data_genres['genre'][11], 'составили', data_genres['all_sales'][11],'млн.долларов')\n",
    "print('Разница в доходе от самого прибыльного жанра и самого неприбыльного составила', data_genres['all_sales'][0] - data_genres['all_sales'][11])\n",
    "data_genres"
   ]
  },
  {
   "cell_type": "markdown",
   "metadata": {},
   "source": [
    "1. Самыми прибыльными жанрами однозначно можно назвать экшн и шутер\n",
    "2. Жанры, которые заняли позиции 2-7 включительно можно назвать жанрами со средней прибылью\n",
    "3. Жанры, чьи продажи составили меньше 70млн.долларов можно отнести в третью группу - жанры с самой низкой доходностью"
   ]
  },
  {
   "cell_type": "markdown",
   "metadata": {},
   "source": [
    "#### Портрет пользователя каждого региона"
   ]
  },
  {
   "cell_type": "code",
   "execution_count": 285,
   "metadata": {},
   "outputs": [],
   "source": [
    "data_na_genre = (data\n",
    "           .pivot_table(index = 'genre', values = 'na_sales', aggfunc = 'sum')\n",
    "           .sort_values(by = 'na_sales', ascending = False)\n",
    "           .head(5)\n",
    "           .reset_index()\n",
    "          )\n",
    "data_eu_genre = (data\n",
    "           .pivot_table(index = 'genre', values = 'eu_sales', aggfunc = 'sum')\n",
    "           .sort_values(by = 'eu_sales', ascending = False)\n",
    "           .head(5)\n",
    "           .reset_index()\n",
    "          )\n",
    "data_jp_genre = (data\n",
    "           .pivot_table(index = 'genre', values = 'jp_sales', aggfunc = 'sum')\n",
    "           .sort_values(by = 'jp_sales', ascending = False)\n",
    "           .head(5)\n",
    "           .reset_index()\n",
    "          )"
   ]
  },
  {
   "cell_type": "code",
   "execution_count": 286,
   "metadata": {},
   "outputs": [
    {
     "name": "stdout",
     "output_type": "stream",
     "text": [
      "na_sales 920.7699999999984\n",
      "eu_sales 663.4900000000009\n",
      "jp_sales 231.51000000000008\n"
     ]
    },
    {
     "data": {
      "text/html": [
       "<div>\n",
       "<style scoped>\n",
       "    .dataframe tbody tr th:only-of-type {\n",
       "        vertical-align: middle;\n",
       "    }\n",
       "\n",
       "    .dataframe tbody tr th {\n",
       "        vertical-align: top;\n",
       "    }\n",
       "\n",
       "    .dataframe thead th {\n",
       "        text-align: right;\n",
       "    }\n",
       "</style>\n",
       "<table border=\"1\" class=\"dataframe\">\n",
       "  <thead>\n",
       "    <tr style=\"text-align: right;\">\n",
       "      <th></th>\n",
       "      <th>genres_na</th>\n",
       "      <th>na_sales</th>\n",
       "      <th>genres_eu</th>\n",
       "      <th>eu_sales</th>\n",
       "      <th>genres_jp</th>\n",
       "      <th>jp_sales</th>\n",
       "    </tr>\n",
       "  </thead>\n",
       "  <tbody>\n",
       "    <tr>\n",
       "      <td>0</td>\n",
       "      <td>Action</td>\n",
       "      <td>290.64</td>\n",
       "      <td>Action</td>\n",
       "      <td>233.63</td>\n",
       "      <td>Role-Playing</td>\n",
       "      <td>103.54</td>\n",
       "    </tr>\n",
       "    <tr>\n",
       "      <td>1</td>\n",
       "      <td>Shooter</td>\n",
       "      <td>237.47</td>\n",
       "      <td>Shooter</td>\n",
       "      <td>171.45</td>\n",
       "      <td>Action</td>\n",
       "      <td>72.20</td>\n",
       "    </tr>\n",
       "    <tr>\n",
       "      <td>2</td>\n",
       "      <td>Sports</td>\n",
       "      <td>156.81</td>\n",
       "      <td>Sports</td>\n",
       "      <td>116.84</td>\n",
       "      <td>Misc</td>\n",
       "      <td>24.29</td>\n",
       "    </tr>\n",
       "    <tr>\n",
       "      <td>3</td>\n",
       "      <td>Misc</td>\n",
       "      <td>123.80</td>\n",
       "      <td>Role-Playing</td>\n",
       "      <td>75.48</td>\n",
       "      <td>Platform</td>\n",
       "      <td>15.81</td>\n",
       "    </tr>\n",
       "    <tr>\n",
       "      <td>4</td>\n",
       "      <td>Role-Playing</td>\n",
       "      <td>112.05</td>\n",
       "      <td>Misc</td>\n",
       "      <td>66.09</td>\n",
       "      <td>Adventure</td>\n",
       "      <td>15.67</td>\n",
       "    </tr>\n",
       "  </tbody>\n",
       "</table>\n",
       "</div>"
      ],
      "text/plain": [
       "      genres_na  na_sales     genres_eu  eu_sales     genres_jp  jp_sales\n",
       "0        Action    290.64        Action    233.63  Role-Playing    103.54\n",
       "1       Shooter    237.47       Shooter    171.45        Action     72.20\n",
       "2        Sports    156.81        Sports    116.84          Misc     24.29\n",
       "3          Misc    123.80  Role-Playing     75.48      Platform     15.81\n",
       "4  Role-Playing    112.05          Misc     66.09     Adventure     15.67"
      ]
     },
     "execution_count": 286,
     "metadata": {},
     "output_type": "execute_result"
    }
   ],
   "source": [
    "data_regions = data_na_genre.copy()\n",
    "data_regions.columns = ['genres_na','na_sales']\n",
    "\n",
    "data_regions['genres_eu'] = data_eu_genre['genre']\n",
    "data_regions['eu_sales'] = data_eu_genre['eu_sales']\n",
    "\n",
    "data_regions['genres_jp'] = data_jp_genre['genre']\n",
    "data_regions['jp_sales'] = data_jp_genre['jp_sales']\n",
    "print('na_sales', data_regions['na_sales'].sum())\n",
    "print('eu_sales', data_regions['eu_sales'].sum())\n",
    "print('jp_sales', data_regions['jp_sales'].sum())\n",
    "\n",
    "data_regions"
   ]
  },
  {
   "cell_type": "markdown",
   "metadata": {},
   "source": [
    "1. Топ жанров в Северной Америке почти такой же, как и Европе. Отличаются только два последних элемента : Misc, Role-Playing\n",
    "2. Самые низкие продажи игр приходятся на Японию, примерно 20% от продаж в Северной Америке, выше в Европе, около 2/3 от продаж в Северной Америке, ну и соответственно самые высокие - в Северной Америке, почти 921млн.\n",
    "3. Такое различие может быть обусловлено различием культур. Культура Европы более схожа с культурой Америки, нежели с культурой Японии.\n",
    "4. Несмотря на различия, жанр экшн занимает лидирующие строки во всех странах "
   ]
  },
  {
   "cell_type": "markdown",
   "metadata": {},
   "source": [
    " - Самые популярные платформы (топ-5)\n"
   ]
  },
  {
   "cell_type": "code",
   "execution_count": 287,
   "metadata": {},
   "outputs": [],
   "source": [
    "data_na_platforms = (data\n",
    "           .pivot_table(index = 'platform', values = 'na_sales', aggfunc = 'sum')\n",
    "           .sort_values(by = 'na_sales', ascending = False)\n",
    "           .head(5)\n",
    "           .reset_index()\n",
    "          )\n",
    "data_eu_platforms = (data\n",
    "           .pivot_table(index = 'platform', values = 'eu_sales', aggfunc = 'sum')\n",
    "           .sort_values(by = 'eu_sales', ascending = False)\n",
    "           .head(5)\n",
    "           .reset_index()\n",
    "          )\n",
    "data_jp_platforms = (data\n",
    "           .pivot_table(index = 'platform', values = 'jp_sales', aggfunc = 'sum')\n",
    "           .sort_values(by = 'jp_sales', ascending = False)\n",
    "           .head(5)\n",
    "           .reset_index()\n",
    "          )"
   ]
  },
  {
   "cell_type": "code",
   "execution_count": 288,
   "metadata": {},
   "outputs": [
    {
     "name": "stdout",
     "output_type": "stream",
     "text": [
      "na_sales 886.4900000000002\n",
      "eu_sales 652.8300000000021\n",
      "jp_sales 251.82000000000045\n"
     ]
    },
    {
     "data": {
      "text/html": [
       "<div>\n",
       "<style scoped>\n",
       "    .dataframe tbody tr th:only-of-type {\n",
       "        vertical-align: middle;\n",
       "    }\n",
       "\n",
       "    .dataframe tbody tr th {\n",
       "        vertical-align: top;\n",
       "    }\n",
       "\n",
       "    .dataframe thead th {\n",
       "        text-align: right;\n",
       "    }\n",
       "</style>\n",
       "<table border=\"1\" class=\"dataframe\">\n",
       "  <thead>\n",
       "    <tr style=\"text-align: right;\">\n",
       "      <th></th>\n",
       "      <th>na_platform</th>\n",
       "      <th>na_sales</th>\n",
       "      <th>eu_platform</th>\n",
       "      <th>eu_sales</th>\n",
       "      <th>jp_platform</th>\n",
       "      <th>jp_sales</th>\n",
       "    </tr>\n",
       "  </thead>\n",
       "  <tbody>\n",
       "    <tr>\n",
       "      <td>0</td>\n",
       "      <td>X360</td>\n",
       "      <td>334.18</td>\n",
       "      <td>PS3</td>\n",
       "      <td>213.60</td>\n",
       "      <td>3DS</td>\n",
       "      <td>100.62</td>\n",
       "    </tr>\n",
       "    <tr>\n",
       "      <td>1</td>\n",
       "      <td>PS3</td>\n",
       "      <td>229.25</td>\n",
       "      <td>X360</td>\n",
       "      <td>163.41</td>\n",
       "      <td>PS3</td>\n",
       "      <td>59.26</td>\n",
       "    </tr>\n",
       "    <tr>\n",
       "      <td>2</td>\n",
       "      <td>Wii</td>\n",
       "      <td>121.20</td>\n",
       "      <td>PS4</td>\n",
       "      <td>141.09</td>\n",
       "      <td>PSP</td>\n",
       "      <td>42.20</td>\n",
       "    </tr>\n",
       "    <tr>\n",
       "      <td>3</td>\n",
       "      <td>PS4</td>\n",
       "      <td>108.74</td>\n",
       "      <td>PC</td>\n",
       "      <td>68.82</td>\n",
       "      <td>DS</td>\n",
       "      <td>27.90</td>\n",
       "    </tr>\n",
       "    <tr>\n",
       "      <td>4</td>\n",
       "      <td>XOne</td>\n",
       "      <td>93.12</td>\n",
       "      <td>Wii</td>\n",
       "      <td>65.91</td>\n",
       "      <td>PSV</td>\n",
       "      <td>21.84</td>\n",
       "    </tr>\n",
       "  </tbody>\n",
       "</table>\n",
       "</div>"
      ],
      "text/plain": [
       "  na_platform  na_sales eu_platform  eu_sales jp_platform  jp_sales\n",
       "0        X360    334.18         PS3    213.60         3DS    100.62\n",
       "1         PS3    229.25        X360    163.41         PS3     59.26\n",
       "2         Wii    121.20         PS4    141.09         PSP     42.20\n",
       "3         PS4    108.74          PC     68.82          DS     27.90\n",
       "4        XOne     93.12         Wii     65.91         PSV     21.84"
      ]
     },
     "execution_count": 288,
     "metadata": {},
     "output_type": "execute_result"
    }
   ],
   "source": [
    "data_platforms = data_na_platforms.copy()\n",
    "data_platforms.columns = ['na_platform','na_sales']\n",
    "\n",
    "data_platforms['eu_platform'] = data_eu_platforms['platform']\n",
    "data_platforms['eu_sales'] = data_eu_platforms['eu_sales']\n",
    "\n",
    "data_platforms['jp_platform'] = data_jp_platforms['platform']\n",
    "data_platforms['jp_sales'] = data_jp_platforms['jp_sales']\n",
    "\n",
    "print('na_sales', data_platforms['na_sales'].sum())\n",
    "print('eu_sales', data_platforms['eu_sales'].sum())\n",
    "print('jp_sales', data_platforms['jp_sales'].sum())\n",
    "\n",
    "data_platforms"
   ]
  },
  {
   "cell_type": "markdown",
   "metadata": {},
   "source": [
    "- Влияет ли рейтинг ESRB на продажи в отдельном регионе?"
   ]
  },
  {
   "cell_type": "code",
   "execution_count": 289,
   "metadata": {},
   "outputs": [],
   "source": [
    "data_na_esrb = (data\n",
    "           .pivot_table(index = 'rating', values = 'na_sales', aggfunc = 'sum')\n",
    "           .sort_values(by = 'na_sales', ascending = False)\n",
    "           .reset_index()\n",
    "          )\n",
    "data_eu_esrb = (data\n",
    "           .pivot_table(index = 'rating', values = 'eu_sales', aggfunc = 'sum')\n",
    "           .sort_values(by = 'eu_sales', ascending = False)\n",
    "           .reset_index()\n",
    "          )\n",
    "data_jp_esrb = (data\n",
    "           .pivot_table(index = 'rating', values = 'jp_sales', aggfunc = 'sum')\n",
    "           .sort_values(by = 'jp_sales', ascending = False)\n",
    "           .reset_index()\n",
    "          )"
   ]
  },
  {
   "cell_type": "code",
   "execution_count": 290,
   "metadata": {},
   "outputs": [
    {
     "name": "stdout",
     "output_type": "stream",
     "text": [
      "na_sales 974.6899999999983\n",
      "eu_sales 701.7699999999993\n",
      "jp_sales 133.65000000000018\n"
     ]
    },
    {
     "data": {
      "text/html": [
       "<div>\n",
       "<style scoped>\n",
       "    .dataframe tbody tr th:only-of-type {\n",
       "        vertical-align: middle;\n",
       "    }\n",
       "\n",
       "    .dataframe tbody tr th {\n",
       "        vertical-align: top;\n",
       "    }\n",
       "\n",
       "    .dataframe thead th {\n",
       "        text-align: right;\n",
       "    }\n",
       "</style>\n",
       "<table border=\"1\" class=\"dataframe\">\n",
       "  <thead>\n",
       "    <tr style=\"text-align: right;\">\n",
       "      <th></th>\n",
       "      <th>na_esrb</th>\n",
       "      <th>na_sales</th>\n",
       "      <th>eu_esrb</th>\n",
       "      <th>eu_sales</th>\n",
       "      <th>jp_esrb</th>\n",
       "      <th>jp_sales</th>\n",
       "    </tr>\n",
       "  </thead>\n",
       "  <tbody>\n",
       "    <tr>\n",
       "      <td>0</td>\n",
       "      <td>M</td>\n",
       "      <td>382.22</td>\n",
       "      <td>M</td>\n",
       "      <td>292.04</td>\n",
       "      <td>E</td>\n",
       "      <td>47.87</td>\n",
       "    </tr>\n",
       "    <tr>\n",
       "      <td>1</td>\n",
       "      <td>E</td>\n",
       "      <td>271.15</td>\n",
       "      <td>E</td>\n",
       "      <td>197.34</td>\n",
       "      <td>T</td>\n",
       "      <td>42.11</td>\n",
       "    </tr>\n",
       "    <tr>\n",
       "      <td>2</td>\n",
       "      <td>T</td>\n",
       "      <td>160.81</td>\n",
       "      <td>T</td>\n",
       "      <td>113.08</td>\n",
       "      <td>M</td>\n",
       "      <td>30.45</td>\n",
       "    </tr>\n",
       "    <tr>\n",
       "      <td>3</td>\n",
       "      <td>E10+</td>\n",
       "      <td>159.38</td>\n",
       "      <td>E10+</td>\n",
       "      <td>99.28</td>\n",
       "      <td>E10+</td>\n",
       "      <td>13.22</td>\n",
       "    </tr>\n",
       "    <tr>\n",
       "      <td>4</td>\n",
       "      <td>EC</td>\n",
       "      <td>1.13</td>\n",
       "      <td>RP</td>\n",
       "      <td>0.03</td>\n",
       "      <td>EC</td>\n",
       "      <td>0.00</td>\n",
       "    </tr>\n",
       "    <tr>\n",
       "      <td>5</td>\n",
       "      <td>RP</td>\n",
       "      <td>0.00</td>\n",
       "      <td>EC</td>\n",
       "      <td>0.00</td>\n",
       "      <td>RP</td>\n",
       "      <td>0.00</td>\n",
       "    </tr>\n",
       "  </tbody>\n",
       "</table>\n",
       "</div>"
      ],
      "text/plain": [
       "  na_esrb  na_sales eu_esrb  eu_sales jp_esrb  jp_sales\n",
       "0       M    382.22       M    292.04       E     47.87\n",
       "1       E    271.15       E    197.34       T     42.11\n",
       "2       T    160.81       T    113.08       M     30.45\n",
       "3    E10+    159.38    E10+     99.28    E10+     13.22\n",
       "4      EC      1.13      RP      0.03      EC      0.00\n",
       "5      RP      0.00      EC      0.00      RP      0.00"
      ]
     },
     "execution_count": 290,
     "metadata": {},
     "output_type": "execute_result"
    }
   ],
   "source": [
    "data_esrb = data_na_esrb.copy()\n",
    "data_esrb.columns = ['na_esrb','na_sales']\n",
    "\n",
    "data_esrb['eu_esrb'] = data_eu_esrb['rating']\n",
    "data_esrb['eu_sales'] = data_eu_esrb['eu_sales']\n",
    "\n",
    "data_esrb['jp_esrb'] = data_jp_esrb['rating']\n",
    "data_esrb['jp_sales'] = data_jp_esrb['jp_sales']\n",
    "\n",
    "print('na_sales', data_esrb['na_sales'].sum())\n",
    "print('eu_sales', data_esrb['eu_sales'].sum())\n",
    "print('jp_sales', data_esrb['jp_sales'].sum())\n",
    "\n",
    "data_esrb"
   ]
  },
  {
   "cell_type": "markdown",
   "metadata": {},
   "source": [
    "1. После того, как мы отбросили данные старше 2010 года, осталось всего 6 видов рейтинга\n",
    "2. Первые три позиции во всез регионах занимают игры с рейтингом \"для всех\", \"подросткам\",\"для взрослых\"\n",
    "3. Топ рейтингов в Северной Америке и в Европе опять отличаются только на два последних элемента - \"для детей младшего возраста\" и \"рейтинг ожидается\" \n",
    "4. В Японии и Европе, судя по результатам, детям играть не разрешают и без рейтинга ничего не покупают\n",
    "5. В Северной Америке иногда покупают игры детям, но также, как и в Японии игры без рейтинга не берут\n",
    "6. На четвертой позиции во всех регионах занимает рейтинг \"для всех от 10+ лет\"\n",
    "7. Даже суммарно люди в Японии не покупают столько игр, сколько тратят американцы или европейцы на игры для взрослых"
   ]
  },
  {
   "cell_type": "markdown",
   "metadata": {},
   "source": [
    "##### Проверка гипотез"
   ]
  },
  {
   "cell_type": "markdown",
   "metadata": {},
   "source": [
    "- Средние пользовательские рейтинги платформ Xbox One и PC одинаковые"
   ]
  },
  {
   "cell_type": "code",
   "execution_count": 291,
   "metadata": {},
   "outputs": [
    {
     "name": "stdout",
     "output_type": "stream",
     "text": [
      "p-значение 0.8761749347162752\n",
      "Не получилось отвергнуть нулевую гипотезу\n"
     ]
    }
   ],
   "source": [
    "#Средние пользовательские рейтинги платформ Xbox One и PC не одинаковые = H0\n",
    "#Средние пользовательские рейтинги платформ Xbox One и PC одинаковые = H1\n",
    "\n",
    "alpha = 0.05\n",
    "\n",
    "raiting_xbox = data.query('platform == \"XOne\"')['user_score']\n",
    "raiting_pc = data.query('platform == \"PC\"')['user_score']\n",
    "\n",
    "result = st.ttest_ind(\n",
    "    raiting_xbox,\n",
    "    raiting_pc,\n",
    "    equal_var = False)\n",
    "print('p-значение', result.pvalue)\n",
    "\n",
    "if result.pvalue > alpha :\n",
    "    print('Не получилось отвергнуть нулевую гипотезу')\n",
    "else: \n",
    "    print('Отвергаем нулевую гипотезу')"
   ]
  },
  {
   "cell_type": "markdown",
   "metadata": {},
   "source": [
    "1. Нужно проверить гипотезу о равенстве средних двух генеральных совокупностей, значит использую метод st.ttest_ind()\n",
    "2. Нулевая гипотеза обычно говорит о том, что какой либо связи не существует, значит в данном случае за нулевую гипотезу берем высказывание о том, что рейтинги НЕ одинаковые\n",
    "2. Значение p-value достаточно велико, чтобы утверждать, что рейтинги платформ Xbox One и PC категорически разные"
   ]
  },
  {
   "cell_type": "markdown",
   "metadata": {},
   "source": [
    " - Средние пользовательские рейтинги жанров Action (англ. «действие») и Sports (англ. «виды спорта») разные"
   ]
  },
  {
   "cell_type": "code",
   "execution_count": 292,
   "metadata": {},
   "outputs": [
    {
     "name": "stdout",
     "output_type": "stream",
     "text": [
      "p-значение 1.581435156357556e-09\n",
      "Отвергаем нулевую гипотезу\n"
     ]
    }
   ],
   "source": [
    "#Средние пользовательские рейтинги жанров Action (англ. «действие») и Sports (англ. «виды спорта») разные = H0\n",
    "#Средние пользовательские рейтинги жанров Action (англ. «действие») и Sports (англ. «виды спорта») одинаковые = H1\n",
    "\n",
    "alpha = 0.05\n",
    "\n",
    "raiting_action = data.query('genre == \"Action\"')['user_score']\n",
    "raiting_sports = data.query('genre == \"Sports\"')['user_score']\n",
    "\n",
    "result = st.ttest_ind(\n",
    "    raiting_action,\n",
    "    raiting_sports,\n",
    "    equal_var = False)\n",
    "print('p-значение', result.pvalue)\n",
    "\n",
    "if result.pvalue > alpha :\n",
    "    print('Не получилось отвергнуть нулевую гипотезу')\n",
    "else: \n",
    "    print('Отвергаем нулевую гипотезу')"
   ]
  },
  {
   "cell_type": "markdown",
   "metadata": {},
   "source": [
    "1. В данном случае опять стоит задача о равенстве средних двух генеральных совокупностей\n",
    "2. Нулевая гипотеза здесь формируется по тому же принципу, что и в предыдущем задании \n",
    "3. Судя по значению p-value можно сказать, что средние пользовательские рейтинги жанров Action и Sports примерно равны\n"
   ]
  },
  {
   "cell_type": "markdown",
   "metadata": {},
   "source": [
    "##### Общий вывод\n"
   ]
  },
  {
   "cell_type": "markdown",
   "metadata": {},
   "source": [
    "1. Для разных регионов должны быть разные рекламные кампании. То, что рекламируется в Европе или в Северной Америке, исходя из иследований точно не сможет привлечь внимание целевой аудитории в Японии\n",
    "2. Имеет смысл разрабатывать игры на платформе PS4, это единственная платформа, для которой еще сравнительно активно покупают игры\n",
    "3. Можно попробовать \"возродить\" те платформы, которые к 2016 году оказались в яме, но здесь есть серьезные риски. Это такие платформы, как:\n",
    "    - PS3\n",
    "    - Xbox360\n",
    "    - PSP\n",
    "    - Wii\n",
    "4. При создании игры на платформе PS4 надо обязательно обратить внимание, что на продажи такой игры сильно влияют оценки критиков\n",
    "5. Основная ориентированность может быть на аудиторию Северной Америки и Европы- именно там чаще всего покупают игры\n",
    "6. При желании повысить доход от продаж, нужно уделить внимание Японии в жанре Role-Playing на платформе 3DS или PS3, учитывая, что самые популярные рейтинги этого региона - \"E\",\"M\",\"T\"  \n",
    "7. Публика в Америке и в Европе более неприхотливая - в приоритете у них игры жанра Action и Shooter на платформах PS и Xbox"
   ]
  }
 ],
 "metadata": {
  "kernelspec": {
   "display_name": "Python 3",
   "language": "python",
   "name": "python3"
  },
  "language_info": {
   "codemirror_mode": {
    "name": "ipython",
    "version": 3
   },
   "file_extension": ".py",
   "mimetype": "text/x-python",
   "name": "python",
   "nbconvert_exporter": "python",
   "pygments_lexer": "ipython3",
   "version": "3.7.7"
  }
 },
 "nbformat": 4,
 "nbformat_minor": 2
}
