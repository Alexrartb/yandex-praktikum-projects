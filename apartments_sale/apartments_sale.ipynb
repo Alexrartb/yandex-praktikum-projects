{
 "cells": [
  {
   "cell_type": "code",
   "execution_count": 1,
   "metadata": {},
   "outputs": [],
   "source": [
    "import pandas as pd\n",
    "import numpy as np\n",
    "import matplotlib.pyplot as plt"
   ]
  },
  {
   "cell_type": "code",
   "execution_count": 2,
   "metadata": {
    "scrolled": true
   },
   "outputs": [
    {
     "data": {
      "text/html": [
       "<div>\n",
       "<style scoped>\n",
       "    .dataframe tbody tr th:only-of-type {\n",
       "        vertical-align: middle;\n",
       "    }\n",
       "\n",
       "    .dataframe tbody tr th {\n",
       "        vertical-align: top;\n",
       "    }\n",
       "\n",
       "    .dataframe thead th {\n",
       "        text-align: right;\n",
       "    }\n",
       "</style>\n",
       "<table border=\"1\" class=\"dataframe\">\n",
       "  <thead>\n",
       "    <tr style=\"text-align: right;\">\n",
       "      <th></th>\n",
       "      <th>total_images</th>\n",
       "      <th>last_price</th>\n",
       "      <th>total_area</th>\n",
       "      <th>first_day_exposition</th>\n",
       "      <th>rooms</th>\n",
       "      <th>ceiling_height</th>\n",
       "      <th>floors_total</th>\n",
       "      <th>living_area</th>\n",
       "      <th>floor</th>\n",
       "      <th>is_apartment</th>\n",
       "      <th>...</th>\n",
       "      <th>kitchen_area</th>\n",
       "      <th>balcony</th>\n",
       "      <th>locality_name</th>\n",
       "      <th>airports_nearest</th>\n",
       "      <th>cityCenters_nearest</th>\n",
       "      <th>parks_around3000</th>\n",
       "      <th>parks_nearest</th>\n",
       "      <th>ponds_around3000</th>\n",
       "      <th>ponds_nearest</th>\n",
       "      <th>days_exposition</th>\n",
       "    </tr>\n",
       "  </thead>\n",
       "  <tbody>\n",
       "    <tr>\n",
       "      <td>0</td>\n",
       "      <td>20</td>\n",
       "      <td>13000000.0</td>\n",
       "      <td>108.0</td>\n",
       "      <td>2019-03-07T00:00:00</td>\n",
       "      <td>3</td>\n",
       "      <td>2.70</td>\n",
       "      <td>16.0</td>\n",
       "      <td>51.0</td>\n",
       "      <td>8</td>\n",
       "      <td>NaN</td>\n",
       "      <td>...</td>\n",
       "      <td>25.0</td>\n",
       "      <td>NaN</td>\n",
       "      <td>Санкт-Петербург</td>\n",
       "      <td>18863.0</td>\n",
       "      <td>16028.0</td>\n",
       "      <td>1.0</td>\n",
       "      <td>482.0</td>\n",
       "      <td>2.0</td>\n",
       "      <td>755.0</td>\n",
       "      <td>NaN</td>\n",
       "    </tr>\n",
       "    <tr>\n",
       "      <td>1</td>\n",
       "      <td>7</td>\n",
       "      <td>3350000.0</td>\n",
       "      <td>40.4</td>\n",
       "      <td>2018-12-04T00:00:00</td>\n",
       "      <td>1</td>\n",
       "      <td>NaN</td>\n",
       "      <td>11.0</td>\n",
       "      <td>18.6</td>\n",
       "      <td>1</td>\n",
       "      <td>NaN</td>\n",
       "      <td>...</td>\n",
       "      <td>11.0</td>\n",
       "      <td>2.0</td>\n",
       "      <td>посёлок Шушары</td>\n",
       "      <td>12817.0</td>\n",
       "      <td>18603.0</td>\n",
       "      <td>0.0</td>\n",
       "      <td>NaN</td>\n",
       "      <td>0.0</td>\n",
       "      <td>NaN</td>\n",
       "      <td>81.0</td>\n",
       "    </tr>\n",
       "    <tr>\n",
       "      <td>2</td>\n",
       "      <td>10</td>\n",
       "      <td>5196000.0</td>\n",
       "      <td>56.0</td>\n",
       "      <td>2015-08-20T00:00:00</td>\n",
       "      <td>2</td>\n",
       "      <td>NaN</td>\n",
       "      <td>5.0</td>\n",
       "      <td>34.3</td>\n",
       "      <td>4</td>\n",
       "      <td>NaN</td>\n",
       "      <td>...</td>\n",
       "      <td>8.3</td>\n",
       "      <td>0.0</td>\n",
       "      <td>Санкт-Петербург</td>\n",
       "      <td>21741.0</td>\n",
       "      <td>13933.0</td>\n",
       "      <td>1.0</td>\n",
       "      <td>90.0</td>\n",
       "      <td>2.0</td>\n",
       "      <td>574.0</td>\n",
       "      <td>558.0</td>\n",
       "    </tr>\n",
       "    <tr>\n",
       "      <td>3</td>\n",
       "      <td>0</td>\n",
       "      <td>64900000.0</td>\n",
       "      <td>159.0</td>\n",
       "      <td>2015-07-24T00:00:00</td>\n",
       "      <td>3</td>\n",
       "      <td>NaN</td>\n",
       "      <td>14.0</td>\n",
       "      <td>NaN</td>\n",
       "      <td>9</td>\n",
       "      <td>NaN</td>\n",
       "      <td>...</td>\n",
       "      <td>NaN</td>\n",
       "      <td>0.0</td>\n",
       "      <td>Санкт-Петербург</td>\n",
       "      <td>28098.0</td>\n",
       "      <td>6800.0</td>\n",
       "      <td>2.0</td>\n",
       "      <td>84.0</td>\n",
       "      <td>3.0</td>\n",
       "      <td>234.0</td>\n",
       "      <td>424.0</td>\n",
       "    </tr>\n",
       "    <tr>\n",
       "      <td>4</td>\n",
       "      <td>2</td>\n",
       "      <td>10000000.0</td>\n",
       "      <td>100.0</td>\n",
       "      <td>2018-06-19T00:00:00</td>\n",
       "      <td>2</td>\n",
       "      <td>3.03</td>\n",
       "      <td>14.0</td>\n",
       "      <td>32.0</td>\n",
       "      <td>13</td>\n",
       "      <td>NaN</td>\n",
       "      <td>...</td>\n",
       "      <td>41.0</td>\n",
       "      <td>NaN</td>\n",
       "      <td>Санкт-Петербург</td>\n",
       "      <td>31856.0</td>\n",
       "      <td>8098.0</td>\n",
       "      <td>2.0</td>\n",
       "      <td>112.0</td>\n",
       "      <td>1.0</td>\n",
       "      <td>48.0</td>\n",
       "      <td>121.0</td>\n",
       "    </tr>\n",
       "  </tbody>\n",
       "</table>\n",
       "<p>5 rows × 22 columns</p>\n",
       "</div>"
      ],
      "text/plain": [
       "   total_images  last_price  total_area first_day_exposition  rooms  \\\n",
       "0            20  13000000.0       108.0  2019-03-07T00:00:00      3   \n",
       "1             7   3350000.0        40.4  2018-12-04T00:00:00      1   \n",
       "2            10   5196000.0        56.0  2015-08-20T00:00:00      2   \n",
       "3             0  64900000.0       159.0  2015-07-24T00:00:00      3   \n",
       "4             2  10000000.0       100.0  2018-06-19T00:00:00      2   \n",
       "\n",
       "   ceiling_height  floors_total  living_area  floor is_apartment  ...  \\\n",
       "0            2.70          16.0         51.0      8          NaN  ...   \n",
       "1             NaN          11.0         18.6      1          NaN  ...   \n",
       "2             NaN           5.0         34.3      4          NaN  ...   \n",
       "3             NaN          14.0          NaN      9          NaN  ...   \n",
       "4            3.03          14.0         32.0     13          NaN  ...   \n",
       "\n",
       "   kitchen_area  balcony    locality_name  airports_nearest  \\\n",
       "0          25.0      NaN  Санкт-Петербург           18863.0   \n",
       "1          11.0      2.0   посёлок Шушары           12817.0   \n",
       "2           8.3      0.0  Санкт-Петербург           21741.0   \n",
       "3           NaN      0.0  Санкт-Петербург           28098.0   \n",
       "4          41.0      NaN  Санкт-Петербург           31856.0   \n",
       "\n",
       "  cityCenters_nearest  parks_around3000  parks_nearest  ponds_around3000  \\\n",
       "0             16028.0               1.0          482.0               2.0   \n",
       "1             18603.0               0.0            NaN               0.0   \n",
       "2             13933.0               1.0           90.0               2.0   \n",
       "3              6800.0               2.0           84.0               3.0   \n",
       "4              8098.0               2.0          112.0               1.0   \n",
       "\n",
       "   ponds_nearest  days_exposition  \n",
       "0          755.0              NaN  \n",
       "1            NaN             81.0  \n",
       "2          574.0            558.0  \n",
       "3          234.0            424.0  \n",
       "4           48.0            121.0  \n",
       "\n",
       "[5 rows x 22 columns]"
      ]
     },
     "execution_count": 2,
     "metadata": {},
     "output_type": "execute_result"
    }
   ],
   "source": [
    "df = pd.read_csv('/datasets/real_estate_data.csv', sep = '\\t', decimal = '.')\n",
    "df.head()"
   ]
  },
  {
   "cell_type": "code",
   "execution_count": 213,
   "metadata": {},
   "outputs": [
    {
     "name": "stdout",
     "output_type": "stream",
     "text": [
      "<class 'pandas.core.frame.DataFrame'>\n",
      "RangeIndex: 23699 entries, 0 to 23698\n",
      "Data columns (total 22 columns):\n",
      "total_images            23699 non-null int64\n",
      "last_price              23699 non-null float64\n",
      "total_area              23699 non-null float64\n",
      "first_day_exposition    23699 non-null object\n",
      "rooms                   23699 non-null int64\n",
      "ceiling_height          14504 non-null float64\n",
      "floors_total            23613 non-null float64\n",
      "living_area             21796 non-null float64\n",
      "floor                   23699 non-null int64\n",
      "is_apartment            2775 non-null object\n",
      "studio                  23699 non-null bool\n",
      "open_plan               23699 non-null bool\n",
      "kitchen_area            21421 non-null float64\n",
      "balcony                 12180 non-null float64\n",
      "locality_name           23650 non-null object\n",
      "airports_nearest        18157 non-null float64\n",
      "cityCenters_nearest     18180 non-null float64\n",
      "parks_around3000        18181 non-null float64\n",
      "parks_nearest           8079 non-null float64\n",
      "ponds_around3000        18181 non-null float64\n",
      "ponds_nearest           9110 non-null float64\n",
      "days_exposition         20518 non-null float64\n",
      "dtypes: bool(2), float64(14), int64(3), object(3)\n",
      "memory usage: 3.7+ MB\n"
     ]
    }
   ],
   "source": [
    "df.info()"
   ]
  },
  {
   "cell_type": "markdown",
   "metadata": {},
   "source": [
    "При первой попытке вывести данные видно, что данные \"склеились\" и часто мелькает \"\\t\" перед в тексте, поэтому указываем в параметре sep разделитель \"\\t\". Разделитель дробей (decimal) здесь - точка.\n"
   ]
  },
  {
   "cell_type": "markdown",
   "metadata": {},
   "source": [
    "### Предобработка данных"
   ]
  },
  {
   "cell_type": "markdown",
   "metadata": {},
   "source": [
    "Для начала преобразуем формат first_day_exposition в дату:"
   ]
  },
  {
   "cell_type": "code",
   "execution_count": 214,
   "metadata": {},
   "outputs": [
    {
     "name": "stdout",
     "output_type": "stream",
     "text": [
      "<class 'pandas.core.frame.DataFrame'>\n",
      "RangeIndex: 23699 entries, 0 to 23698\n",
      "Data columns (total 22 columns):\n",
      "total_images            23699 non-null int64\n",
      "last_price              23699 non-null float64\n",
      "total_area              23699 non-null float64\n",
      "first_day_exposition    23699 non-null datetime64[ns]\n",
      "rooms                   23699 non-null int64\n",
      "ceiling_height          14504 non-null float64\n",
      "floors_total            23613 non-null float64\n",
      "living_area             21796 non-null float64\n",
      "floor                   23699 non-null int64\n",
      "is_apartment            2775 non-null object\n",
      "studio                  23699 non-null bool\n",
      "open_plan               23699 non-null bool\n",
      "kitchen_area            21421 non-null float64\n",
      "balcony                 12180 non-null float64\n",
      "locality_name           23650 non-null object\n",
      "airports_nearest        18157 non-null float64\n",
      "cityCenters_nearest     18180 non-null float64\n",
      "parks_around3000        18181 non-null float64\n",
      "parks_nearest           8079 non-null float64\n",
      "ponds_around3000        18181 non-null float64\n",
      "ponds_nearest           9110 non-null float64\n",
      "days_exposition         20518 non-null float64\n",
      "dtypes: bool(2), datetime64[ns](1), float64(14), int64(3), object(2)\n",
      "memory usage: 3.7+ MB\n"
     ]
    }
   ],
   "source": [
    "df['first_day_exposition'] = pd.to_datetime(df['first_day_exposition'], format='%Y-%m-%dT%H:%M:%S')\n",
    "#проверка\n",
    "df.info()"
   ]
  },
  {
   "cell_type": "markdown",
   "metadata": {},
   "source": [
    "'living_area' оставляем незаполненным."
   ]
  },
  {
   "cell_type": "code",
   "execution_count": 215,
   "metadata": {},
   "outputs": [
    {
     "name": "stdout",
     "output_type": "stream",
     "text": [
      "<class 'pandas.core.frame.DataFrame'>\n",
      "RangeIndex: 23699 entries, 0 to 23698\n",
      "Data columns (total 22 columns):\n",
      "total_images            23699 non-null int64\n",
      "last_price              23699 non-null float64\n",
      "total_area              23699 non-null float64\n",
      "first_day_exposition    23699 non-null datetime64[ns]\n",
      "rooms                   23699 non-null int64\n",
      "ceiling_height          14504 non-null float64\n",
      "floors_total            23613 non-null float64\n",
      "living_area             21796 non-null float64\n",
      "floor                   23699 non-null int64\n",
      "is_apartment            23699 non-null bool\n",
      "studio                  23699 non-null bool\n",
      "open_plan               23699 non-null bool\n",
      "kitchen_area            21421 non-null float64\n",
      "balcony                 12180 non-null float64\n",
      "locality_name           23650 non-null object\n",
      "airports_nearest        18157 non-null float64\n",
      "cityCenters_nearest     18180 non-null float64\n",
      "parks_around3000        18181 non-null float64\n",
      "parks_nearest           8079 non-null float64\n",
      "ponds_around3000        18181 non-null float64\n",
      "ponds_nearest           9110 non-null float64\n",
      "days_exposition         20518 non-null float64\n",
      "dtypes: bool(3), datetime64[ns](1), float64(14), int64(3), object(1)\n",
      "memory usage: 3.5+ MB\n"
     ]
    }
   ],
   "source": [
    "df['is_apartment'] = df['is_apartment'].fillna(False)\n",
    "df['is_apartment'] = df['is_apartment'].astype('bool')\n",
    "#проверка\n",
    "df['is_apartment'].isna().sum()\n",
    "df.info()"
   ]
  },
  {
   "cell_type": "markdown",
   "metadata": {},
   "source": [
    "Отсутствие значения в 'is_apartment' скорее всего означает, что это не апартаменты, то есть False. Так как в исходной таблице этот столбец формата object, преобразовываем его в тип 'bool'."
   ]
  },
  {
   "cell_type": "code",
   "execution_count": 216,
   "metadata": {},
   "outputs": [
    {
     "name": "stdout",
     "output_type": "stream",
     "text": [
      "Пропущенных значений до обработки студий: 2278\n",
      "Пропущенных значений после обработки студий: 2129\n"
     ]
    }
   ],
   "source": [
    "print('Пропущенных значений до обработки студий:', df['kitchen_area'].isna().sum() )\n",
    "def kitchen(studio):\n",
    "    if studio == 1:\n",
    "        return 0\n",
    "\n",
    "df['kitchen_area'] = df['kitchen_area'].fillna(df['studio'].apply(kitchen))\n",
    "print('Пропущенных значений после обработки студий:', df['kitchen_area'].isna().sum() )"
   ]
  },
  {
   "cell_type": "markdown",
   "metadata": {},
   "source": [
    "В квартирах-студиях может не указываться площадь кухни, поэтому заполняем пропущенные значения нулем."
   ]
  },
  {
   "cell_type": "code",
   "execution_count": 217,
   "metadata": {},
   "outputs": [],
   "source": [
    "df['balcony'] = df['balcony'].fillna(0)\n",
    "df['balcony'] = df['balcony'].astype('int')"
   ]
  },
  {
   "cell_type": "markdown",
   "metadata": {},
   "source": [
    "Отсутствие значений в 'balcony' скорее всего означает отсутсвие балконов, то есть 0."
   ]
  },
  {
   "cell_type": "code",
   "execution_count": 218,
   "metadata": {},
   "outputs": [],
   "source": [
    "df['locality_name'] = df['locality_name'].fillna('unknown')"
   ]
  },
  {
   "cell_type": "markdown",
   "metadata": {},
   "source": [
    "'locality_name' лучше заменить на значение \"unknown\" для удобства в дальнейшей работе"
   ]
  },
  {
   "cell_type": "markdown",
   "metadata": {},
   "source": [
    "ceiling_height лучше оставить с отсутствующими значениями, потому что их не предопределить,\n",
    "аналогично floors_total"
   ]
  },
  {
   "cell_type": "code",
   "execution_count": 219,
   "metadata": {},
   "outputs": [
    {
     "data": {
      "text/html": [
       "<div>\n",
       "<style scoped>\n",
       "    .dataframe tbody tr th:only-of-type {\n",
       "        vertical-align: middle;\n",
       "    }\n",
       "\n",
       "    .dataframe tbody tr th {\n",
       "        vertical-align: top;\n",
       "    }\n",
       "\n",
       "    .dataframe thead th {\n",
       "        text-align: right;\n",
       "    }\n",
       "</style>\n",
       "<table border=\"1\" class=\"dataframe\">\n",
       "  <thead>\n",
       "    <tr style=\"text-align: right;\">\n",
       "      <th></th>\n",
       "      <th>airports_nearest</th>\n",
       "      <th>cityCenters_nearest</th>\n",
       "      <th>parks_around3000</th>\n",
       "      <th>parks_nearest</th>\n",
       "      <th>ponds_around3000</th>\n",
       "      <th>ponds_nearest</th>\n",
       "    </tr>\n",
       "    <tr>\n",
       "      <th>locality_name</th>\n",
       "      <th></th>\n",
       "      <th></th>\n",
       "      <th></th>\n",
       "      <th></th>\n",
       "      <th></th>\n",
       "      <th></th>\n",
       "    </tr>\n",
       "  </thead>\n",
       "  <tbody>\n",
       "    <tr>\n",
       "      <td>unknown</td>\n",
       "      <td>22041.0</td>\n",
       "      <td>8943.0</td>\n",
       "      <td>0.0</td>\n",
       "      <td>472.0</td>\n",
       "      <td>1.0</td>\n",
       "      <td>374.0</td>\n",
       "    </tr>\n",
       "    <tr>\n",
       "      <td>Зеленогорск</td>\n",
       "      <td>72282.0</td>\n",
       "      <td>53381.0</td>\n",
       "      <td>3.0</td>\n",
       "      <td>147.5</td>\n",
       "      <td>1.0</td>\n",
       "      <td>507.0</td>\n",
       "    </tr>\n",
       "    <tr>\n",
       "      <td>Колпино</td>\n",
       "      <td>26232.0</td>\n",
       "      <td>32018.0</td>\n",
       "      <td>0.0</td>\n",
       "      <td>393.0</td>\n",
       "      <td>1.0</td>\n",
       "      <td>509.0</td>\n",
       "    </tr>\n",
       "    <tr>\n",
       "      <td>Красное Село</td>\n",
       "      <td>25715.5</td>\n",
       "      <td>29140.5</td>\n",
       "      <td>0.0</td>\n",
       "      <td>428.5</td>\n",
       "      <td>0.0</td>\n",
       "      <td>225.5</td>\n",
       "    </tr>\n",
       "    <tr>\n",
       "      <td>Кронштадт</td>\n",
       "      <td>67850.0</td>\n",
       "      <td>49575.0</td>\n",
       "      <td>2.0</td>\n",
       "      <td>293.0</td>\n",
       "      <td>2.0</td>\n",
       "      <td>312.0</td>\n",
       "    </tr>\n",
       "    <tr>\n",
       "      <td>Ломоносов</td>\n",
       "      <td>48415.5</td>\n",
       "      <td>51677.0</td>\n",
       "      <td>0.0</td>\n",
       "      <td>407.0</td>\n",
       "      <td>1.0</td>\n",
       "      <td>553.0</td>\n",
       "    </tr>\n",
       "    <tr>\n",
       "      <td>Павловск</td>\n",
       "      <td>20529.5</td>\n",
       "      <td>32683.0</td>\n",
       "      <td>2.0</td>\n",
       "      <td>312.0</td>\n",
       "      <td>2.0</td>\n",
       "      <td>458.0</td>\n",
       "    </tr>\n",
       "    <tr>\n",
       "      <td>Петергоф</td>\n",
       "      <td>39231.0</td>\n",
       "      <td>33771.0</td>\n",
       "      <td>1.0</td>\n",
       "      <td>294.0</td>\n",
       "      <td>1.0</td>\n",
       "      <td>474.0</td>\n",
       "    </tr>\n",
       "    <tr>\n",
       "      <td>Пушкин</td>\n",
       "      <td>15766.0</td>\n",
       "      <td>27930.5</td>\n",
       "      <td>1.0</td>\n",
       "      <td>399.5</td>\n",
       "      <td>0.0</td>\n",
       "      <td>444.0</td>\n",
       "    </tr>\n",
       "    <tr>\n",
       "      <td>Санкт-Петербург</td>\n",
       "      <td>26757.5</td>\n",
       "      <td>12244.5</td>\n",
       "      <td>0.0</td>\n",
       "      <td>460.0</td>\n",
       "      <td>1.0</td>\n",
       "      <td>503.0</td>\n",
       "    </tr>\n",
       "    <tr>\n",
       "      <td>Сестрорецк</td>\n",
       "      <td>56692.0</td>\n",
       "      <td>34821.0</td>\n",
       "      <td>0.0</td>\n",
       "      <td>367.0</td>\n",
       "      <td>1.0</td>\n",
       "      <td>372.0</td>\n",
       "    </tr>\n",
       "    <tr>\n",
       "      <td>поселок Лисий Нос</td>\n",
       "      <td>55930.0</td>\n",
       "      <td>28246.0</td>\n",
       "      <td>0.0</td>\n",
       "      <td>NaN</td>\n",
       "      <td>0.0</td>\n",
       "      <td>NaN</td>\n",
       "    </tr>\n",
       "    <tr>\n",
       "      <td>поселок Мурино</td>\n",
       "      <td>51553.0</td>\n",
       "      <td>21888.0</td>\n",
       "      <td>0.0</td>\n",
       "      <td>NaN</td>\n",
       "      <td>2.0</td>\n",
       "      <td>133.0</td>\n",
       "    </tr>\n",
       "    <tr>\n",
       "      <td>посёлок Александровская</td>\n",
       "      <td>12896.5</td>\n",
       "      <td>27468.0</td>\n",
       "      <td>0.0</td>\n",
       "      <td>NaN</td>\n",
       "      <td>1.0</td>\n",
       "      <td>711.5</td>\n",
       "    </tr>\n",
       "    <tr>\n",
       "      <td>посёлок Белоостров</td>\n",
       "      <td>57769.0</td>\n",
       "      <td>38868.0</td>\n",
       "      <td>0.0</td>\n",
       "      <td>NaN</td>\n",
       "      <td>1.0</td>\n",
       "      <td>320.0</td>\n",
       "    </tr>\n",
       "    <tr>\n",
       "      <td>посёлок Левашово</td>\n",
       "      <td>52693.0</td>\n",
       "      <td>25727.0</td>\n",
       "      <td>0.0</td>\n",
       "      <td>NaN</td>\n",
       "      <td>0.0</td>\n",
       "      <td>NaN</td>\n",
       "    </tr>\n",
       "    <tr>\n",
       "      <td>посёлок Лисий Нос</td>\n",
       "      <td>54988.5</td>\n",
       "      <td>27297.0</td>\n",
       "      <td>0.0</td>\n",
       "      <td>NaN</td>\n",
       "      <td>0.0</td>\n",
       "      <td>NaN</td>\n",
       "    </tr>\n",
       "    <tr>\n",
       "      <td>посёлок Металлострой</td>\n",
       "      <td>25758.0</td>\n",
       "      <td>27602.0</td>\n",
       "      <td>0.0</td>\n",
       "      <td>NaN</td>\n",
       "      <td>0.0</td>\n",
       "      <td>NaN</td>\n",
       "    </tr>\n",
       "    <tr>\n",
       "      <td>посёлок Молодёжное</td>\n",
       "      <td>84665.0</td>\n",
       "      <td>65764.0</td>\n",
       "      <td>0.0</td>\n",
       "      <td>NaN</td>\n",
       "      <td>0.0</td>\n",
       "      <td>NaN</td>\n",
       "    </tr>\n",
       "    <tr>\n",
       "      <td>посёлок Парголово</td>\n",
       "      <td>53426.0</td>\n",
       "      <td>19311.0</td>\n",
       "      <td>0.0</td>\n",
       "      <td>733.0</td>\n",
       "      <td>0.0</td>\n",
       "      <td>593.0</td>\n",
       "    </tr>\n",
       "    <tr>\n",
       "      <td>посёлок Песочный</td>\n",
       "      <td>54831.5</td>\n",
       "      <td>26099.5</td>\n",
       "      <td>0.0</td>\n",
       "      <td>NaN</td>\n",
       "      <td>0.0</td>\n",
       "      <td>NaN</td>\n",
       "    </tr>\n",
       "    <tr>\n",
       "      <td>посёлок Петро-Славянка</td>\n",
       "      <td>20605.0</td>\n",
       "      <td>27165.0</td>\n",
       "      <td>0.0</td>\n",
       "      <td>NaN</td>\n",
       "      <td>2.0</td>\n",
       "      <td>663.0</td>\n",
       "    </tr>\n",
       "    <tr>\n",
       "      <td>посёлок Понтонный</td>\n",
       "      <td>30642.0</td>\n",
       "      <td>32354.0</td>\n",
       "      <td>0.0</td>\n",
       "      <td>NaN</td>\n",
       "      <td>0.0</td>\n",
       "      <td>638.0</td>\n",
       "    </tr>\n",
       "    <tr>\n",
       "      <td>посёлок Репино</td>\n",
       "      <td>61797.5</td>\n",
       "      <td>42896.5</td>\n",
       "      <td>0.0</td>\n",
       "      <td>NaN</td>\n",
       "      <td>0.0</td>\n",
       "      <td>NaN</td>\n",
       "    </tr>\n",
       "    <tr>\n",
       "      <td>посёлок Сапёрный</td>\n",
       "      <td>34147.5</td>\n",
       "      <td>35859.5</td>\n",
       "      <td>0.0</td>\n",
       "      <td>NaN</td>\n",
       "      <td>1.0</td>\n",
       "      <td>419.5</td>\n",
       "    </tr>\n",
       "    <tr>\n",
       "      <td>посёлок Стрельна</td>\n",
       "      <td>28317.0</td>\n",
       "      <td>23506.0</td>\n",
       "      <td>0.0</td>\n",
       "      <td>700.0</td>\n",
       "      <td>1.0</td>\n",
       "      <td>859.0</td>\n",
       "    </tr>\n",
       "    <tr>\n",
       "      <td>посёлок Усть-Ижора</td>\n",
       "      <td>26510.5</td>\n",
       "      <td>28222.5</td>\n",
       "      <td>0.0</td>\n",
       "      <td>NaN</td>\n",
       "      <td>0.0</td>\n",
       "      <td>NaN</td>\n",
       "    </tr>\n",
       "    <tr>\n",
       "      <td>посёлок Шушары</td>\n",
       "      <td>17427.0</td>\n",
       "      <td>24212.0</td>\n",
       "      <td>0.0</td>\n",
       "      <td>NaN</td>\n",
       "      <td>0.0</td>\n",
       "      <td>584.5</td>\n",
       "    </tr>\n",
       "    <tr>\n",
       "      <td>посёлок Щеглово</td>\n",
       "      <td>61908.0</td>\n",
       "      <td>34085.0</td>\n",
       "      <td>0.0</td>\n",
       "      <td>NaN</td>\n",
       "      <td>0.0</td>\n",
       "      <td>NaN</td>\n",
       "    </tr>\n",
       "  </tbody>\n",
       "</table>\n",
       "</div>"
      ],
      "text/plain": [
       "                         airports_nearest  cityCenters_nearest  \\\n",
       "locality_name                                                    \n",
       "unknown                           22041.0               8943.0   \n",
       "Зеленогорск                       72282.0              53381.0   \n",
       "Колпино                           26232.0              32018.0   \n",
       "Красное Село                      25715.5              29140.5   \n",
       "Кронштадт                         67850.0              49575.0   \n",
       "Ломоносов                         48415.5              51677.0   \n",
       "Павловск                          20529.5              32683.0   \n",
       "Петергоф                          39231.0              33771.0   \n",
       "Пушкин                            15766.0              27930.5   \n",
       "Санкт-Петербург                   26757.5              12244.5   \n",
       "Сестрорецк                        56692.0              34821.0   \n",
       "поселок Лисий Нос                 55930.0              28246.0   \n",
       "поселок Мурино                    51553.0              21888.0   \n",
       "посёлок Александровская           12896.5              27468.0   \n",
       "посёлок Белоостров                57769.0              38868.0   \n",
       "посёлок Левашово                  52693.0              25727.0   \n",
       "посёлок Лисий Нос                 54988.5              27297.0   \n",
       "посёлок Металлострой              25758.0              27602.0   \n",
       "посёлок Молодёжное                84665.0              65764.0   \n",
       "посёлок Парголово                 53426.0              19311.0   \n",
       "посёлок Песочный                  54831.5              26099.5   \n",
       "посёлок Петро-Славянка            20605.0              27165.0   \n",
       "посёлок Понтонный                 30642.0              32354.0   \n",
       "посёлок Репино                    61797.5              42896.5   \n",
       "посёлок Сапёрный                  34147.5              35859.5   \n",
       "посёлок Стрельна                  28317.0              23506.0   \n",
       "посёлок Усть-Ижора                26510.5              28222.5   \n",
       "посёлок Шушары                    17427.0              24212.0   \n",
       "посёлок Щеглово                   61908.0              34085.0   \n",
       "\n",
       "                         parks_around3000  parks_nearest  ponds_around3000  \\\n",
       "locality_name                                                                \n",
       "unknown                               0.0          472.0               1.0   \n",
       "Зеленогорск                           3.0          147.5               1.0   \n",
       "Колпино                               0.0          393.0               1.0   \n",
       "Красное Село                          0.0          428.5               0.0   \n",
       "Кронштадт                             2.0          293.0               2.0   \n",
       "Ломоносов                             0.0          407.0               1.0   \n",
       "Павловск                              2.0          312.0               2.0   \n",
       "Петергоф                              1.0          294.0               1.0   \n",
       "Пушкин                                1.0          399.5               0.0   \n",
       "Санкт-Петербург                       0.0          460.0               1.0   \n",
       "Сестрорецк                            0.0          367.0               1.0   \n",
       "поселок Лисий Нос                     0.0            NaN               0.0   \n",
       "поселок Мурино                        0.0            NaN               2.0   \n",
       "посёлок Александровская               0.0            NaN               1.0   \n",
       "посёлок Белоостров                    0.0            NaN               1.0   \n",
       "посёлок Левашово                      0.0            NaN               0.0   \n",
       "посёлок Лисий Нос                     0.0            NaN               0.0   \n",
       "посёлок Металлострой                  0.0            NaN               0.0   \n",
       "посёлок Молодёжное                    0.0            NaN               0.0   \n",
       "посёлок Парголово                     0.0          733.0               0.0   \n",
       "посёлок Песочный                      0.0            NaN               0.0   \n",
       "посёлок Петро-Славянка                0.0            NaN               2.0   \n",
       "посёлок Понтонный                     0.0            NaN               0.0   \n",
       "посёлок Репино                        0.0            NaN               0.0   \n",
       "посёлок Сапёрный                      0.0            NaN               1.0   \n",
       "посёлок Стрельна                      0.0          700.0               1.0   \n",
       "посёлок Усть-Ижора                    0.0            NaN               0.0   \n",
       "посёлок Шушары                        0.0            NaN               0.0   \n",
       "посёлок Щеглово                       0.0            NaN               0.0   \n",
       "\n",
       "                         ponds_nearest  \n",
       "locality_name                           \n",
       "unknown                          374.0  \n",
       "Зеленогорск                      507.0  \n",
       "Колпино                          509.0  \n",
       "Красное Село                     225.5  \n",
       "Кронштадт                        312.0  \n",
       "Ломоносов                        553.0  \n",
       "Павловск                         458.0  \n",
       "Петергоф                         474.0  \n",
       "Пушкин                           444.0  \n",
       "Санкт-Петербург                  503.0  \n",
       "Сестрорецк                       372.0  \n",
       "поселок Лисий Нос                  NaN  \n",
       "поселок Мурино                   133.0  \n",
       "посёлок Александровская          711.5  \n",
       "посёлок Белоостров               320.0  \n",
       "посёлок Левашово                   NaN  \n",
       "посёлок Лисий Нос                  NaN  \n",
       "посёлок Металлострой               NaN  \n",
       "посёлок Молодёжное                 NaN  \n",
       "посёлок Парголово                593.0  \n",
       "посёлок Песочный                   NaN  \n",
       "посёлок Петро-Славянка           663.0  \n",
       "посёлок Понтонный                638.0  \n",
       "посёлок Репино                     NaN  \n",
       "посёлок Сапёрный                 419.5  \n",
       "посёлок Стрельна                 859.0  \n",
       "посёлок Усть-Ижора                 NaN  \n",
       "посёлок Шушары                   584.5  \n",
       "посёлок Щеглово                    NaN  "
      ]
     },
     "execution_count": 219,
     "metadata": {},
     "output_type": "execute_result"
    }
   ],
   "source": [
    "#пропущенные значения по столбцам используемым в следующей сводной таблице целесообразно разделить по локальным группам и заменить на медианное значение соответсвующее условию \n",
    "#для более простого процесса замены пропущенных значений создаю сводную таблицу\n",
    "df_pivot = df.pivot_table(index = 'locality_name', values = ('airports_nearest','cityCenters_nearest','parks_around3000','parks_nearest','ponds_around3000','ponds_nearest'), aggfunc = 'median')\n",
    "df_pivot"
   ]
  },
  {
   "cell_type": "code",
   "execution_count": 220,
   "metadata": {},
   "outputs": [
    {
     "name": "stdout",
     "output_type": "stream",
     "text": [
      "Пропущенных значений до обработки:  5542\n",
      "Пропущенных значений после обработки:  5386\n"
     ]
    }
   ],
   "source": [
    "print('Пропущенных значений до обработки: ',df['airports_nearest'].isna().sum())\n",
    "\n",
    "def airports(city):\n",
    "    if city in df_pivot.index:\n",
    "        return int(df_pivot['airports_nearest'][city])\n",
    "df['airports_nearest'] = df['airports_nearest'].fillna(df['locality_name'].apply(airports))\n",
    "print('Пропущенных значений после обработки: ',df['airports_nearest'].isna().sum())"
   ]
  },
  {
   "cell_type": "code",
   "execution_count": 221,
   "metadata": {},
   "outputs": [
    {
     "name": "stdout",
     "output_type": "stream",
     "text": [
      "Пропущенных значений до обработки:  5519\n",
      "Пропущенных значений после обработки:  5386\n"
     ]
    }
   ],
   "source": [
    "print('Пропущенных значений до обработки: ',df['cityCenters_nearest'].isna().sum())\n",
    "\n",
    "def center(city):\n",
    "    if city in df_pivot.index:\n",
    "        return int(df_pivot['cityCenters_nearest'][city])\n",
    "df['cityCenters_nearest'] = df['cityCenters_nearest'].fillna(df['locality_name'].apply(center))\n",
    "print('Пропущенных значений после обработки: ',df['cityCenters_nearest'].isna().sum())"
   ]
  },
  {
   "cell_type": "markdown",
   "metadata": {},
   "source": [
    "### Расчет дополнительных показателей"
   ]
  },
  {
   "cell_type": "code",
   "execution_count": 222,
   "metadata": {},
   "outputs": [
    {
     "data": {
      "text/html": [
       "<div>\n",
       "<style scoped>\n",
       "    .dataframe tbody tr th:only-of-type {\n",
       "        vertical-align: middle;\n",
       "    }\n",
       "\n",
       "    .dataframe tbody tr th {\n",
       "        vertical-align: top;\n",
       "    }\n",
       "\n",
       "    .dataframe thead th {\n",
       "        text-align: right;\n",
       "    }\n",
       "</style>\n",
       "<table border=\"1\" class=\"dataframe\">\n",
       "  <thead>\n",
       "    <tr style=\"text-align: right;\">\n",
       "      <th></th>\n",
       "      <th>total_images</th>\n",
       "      <th>last_price</th>\n",
       "      <th>total_area</th>\n",
       "      <th>first_day_exposition</th>\n",
       "      <th>rooms</th>\n",
       "      <th>ceiling_height</th>\n",
       "      <th>floors_total</th>\n",
       "      <th>living_area</th>\n",
       "      <th>floor</th>\n",
       "      <th>is_apartment</th>\n",
       "      <th>...</th>\n",
       "      <th>ponds_around3000</th>\n",
       "      <th>ponds_nearest</th>\n",
       "      <th>days_exposition</th>\n",
       "      <th>price_metr</th>\n",
       "      <th>day_exposition</th>\n",
       "      <th>month_exposition</th>\n",
       "      <th>year_exposition</th>\n",
       "      <th>living_total_area</th>\n",
       "      <th>kitchen_total_area</th>\n",
       "      <th>floor_group</th>\n",
       "    </tr>\n",
       "  </thead>\n",
       "  <tbody>\n",
       "    <tr>\n",
       "      <td>0</td>\n",
       "      <td>20</td>\n",
       "      <td>13000000.0</td>\n",
       "      <td>108.0</td>\n",
       "      <td>2019-03-07</td>\n",
       "      <td>3</td>\n",
       "      <td>2.70</td>\n",
       "      <td>16.0</td>\n",
       "      <td>51.0</td>\n",
       "      <td>8</td>\n",
       "      <td>False</td>\n",
       "      <td>...</td>\n",
       "      <td>2.0</td>\n",
       "      <td>755.0</td>\n",
       "      <td>NaN</td>\n",
       "      <td>120370.370370</td>\n",
       "      <td>7</td>\n",
       "      <td>3</td>\n",
       "      <td>2019</td>\n",
       "      <td>0.472222</td>\n",
       "      <td>2.040000</td>\n",
       "      <td>Другой</td>\n",
       "    </tr>\n",
       "    <tr>\n",
       "      <td>1</td>\n",
       "      <td>7</td>\n",
       "      <td>3350000.0</td>\n",
       "      <td>40.4</td>\n",
       "      <td>2018-12-04</td>\n",
       "      <td>1</td>\n",
       "      <td>NaN</td>\n",
       "      <td>11.0</td>\n",
       "      <td>18.6</td>\n",
       "      <td>1</td>\n",
       "      <td>False</td>\n",
       "      <td>...</td>\n",
       "      <td>0.0</td>\n",
       "      <td>NaN</td>\n",
       "      <td>81.0</td>\n",
       "      <td>82920.792079</td>\n",
       "      <td>4</td>\n",
       "      <td>12</td>\n",
       "      <td>2018</td>\n",
       "      <td>0.460396</td>\n",
       "      <td>1.690909</td>\n",
       "      <td>Первый</td>\n",
       "    </tr>\n",
       "    <tr>\n",
       "      <td>2</td>\n",
       "      <td>10</td>\n",
       "      <td>5196000.0</td>\n",
       "      <td>56.0</td>\n",
       "      <td>2015-08-20</td>\n",
       "      <td>2</td>\n",
       "      <td>NaN</td>\n",
       "      <td>5.0</td>\n",
       "      <td>34.3</td>\n",
       "      <td>4</td>\n",
       "      <td>False</td>\n",
       "      <td>...</td>\n",
       "      <td>2.0</td>\n",
       "      <td>574.0</td>\n",
       "      <td>558.0</td>\n",
       "      <td>92785.714286</td>\n",
       "      <td>20</td>\n",
       "      <td>8</td>\n",
       "      <td>2015</td>\n",
       "      <td>0.612500</td>\n",
       "      <td>4.132530</td>\n",
       "      <td>Другой</td>\n",
       "    </tr>\n",
       "    <tr>\n",
       "      <td>3</td>\n",
       "      <td>0</td>\n",
       "      <td>64900000.0</td>\n",
       "      <td>159.0</td>\n",
       "      <td>2015-07-24</td>\n",
       "      <td>3</td>\n",
       "      <td>NaN</td>\n",
       "      <td>14.0</td>\n",
       "      <td>NaN</td>\n",
       "      <td>9</td>\n",
       "      <td>False</td>\n",
       "      <td>...</td>\n",
       "      <td>3.0</td>\n",
       "      <td>234.0</td>\n",
       "      <td>424.0</td>\n",
       "      <td>408176.100629</td>\n",
       "      <td>24</td>\n",
       "      <td>7</td>\n",
       "      <td>2015</td>\n",
       "      <td>NaN</td>\n",
       "      <td>NaN</td>\n",
       "      <td>Другой</td>\n",
       "    </tr>\n",
       "    <tr>\n",
       "      <td>4</td>\n",
       "      <td>2</td>\n",
       "      <td>10000000.0</td>\n",
       "      <td>100.0</td>\n",
       "      <td>2018-06-19</td>\n",
       "      <td>2</td>\n",
       "      <td>3.03</td>\n",
       "      <td>14.0</td>\n",
       "      <td>32.0</td>\n",
       "      <td>13</td>\n",
       "      <td>False</td>\n",
       "      <td>...</td>\n",
       "      <td>1.0</td>\n",
       "      <td>48.0</td>\n",
       "      <td>121.0</td>\n",
       "      <td>100000.000000</td>\n",
       "      <td>19</td>\n",
       "      <td>6</td>\n",
       "      <td>2018</td>\n",
       "      <td>0.320000</td>\n",
       "      <td>0.780488</td>\n",
       "      <td>Другой</td>\n",
       "    </tr>\n",
       "  </tbody>\n",
       "</table>\n",
       "<p>5 rows × 29 columns</p>\n",
       "</div>"
      ],
      "text/plain": [
       "   total_images  last_price  total_area first_day_exposition  rooms  \\\n",
       "0            20  13000000.0       108.0           2019-03-07      3   \n",
       "1             7   3350000.0        40.4           2018-12-04      1   \n",
       "2            10   5196000.0        56.0           2015-08-20      2   \n",
       "3             0  64900000.0       159.0           2015-07-24      3   \n",
       "4             2  10000000.0       100.0           2018-06-19      2   \n",
       "\n",
       "   ceiling_height  floors_total  living_area  floor  is_apartment  ...  \\\n",
       "0            2.70          16.0         51.0      8         False  ...   \n",
       "1             NaN          11.0         18.6      1         False  ...   \n",
       "2             NaN           5.0         34.3      4         False  ...   \n",
       "3             NaN          14.0          NaN      9         False  ...   \n",
       "4            3.03          14.0         32.0     13         False  ...   \n",
       "\n",
       "   ponds_around3000  ponds_nearest  days_exposition     price_metr  \\\n",
       "0               2.0          755.0              NaN  120370.370370   \n",
       "1               0.0            NaN             81.0   82920.792079   \n",
       "2               2.0          574.0            558.0   92785.714286   \n",
       "3               3.0          234.0            424.0  408176.100629   \n",
       "4               1.0           48.0            121.0  100000.000000   \n",
       "\n",
       "  day_exposition  month_exposition  year_exposition  living_total_area  \\\n",
       "0              7                 3             2019           0.472222   \n",
       "1              4                12             2018           0.460396   \n",
       "2             20                 8             2015           0.612500   \n",
       "3             24                 7             2015                NaN   \n",
       "4             19                 6             2018           0.320000   \n",
       "\n",
       "   kitchen_total_area  floor_group  \n",
       "0            2.040000       Другой  \n",
       "1            1.690909       Первый  \n",
       "2            4.132530       Другой  \n",
       "3                 NaN       Другой  \n",
       "4            0.780488       Другой  \n",
       "\n",
       "[5 rows x 29 columns]"
      ]
     },
     "execution_count": 222,
     "metadata": {},
     "output_type": "execute_result"
    }
   ],
   "source": [
    "df['price_metr'] = df['last_price'] / df['total_area']\n",
    "df['day_exposition'] = pd.DatetimeIndex(df['first_day_exposition']).day\n",
    "df['month_exposition'] = pd.DatetimeIndex(df['first_day_exposition']).month\n",
    "df['year_exposition'] = pd.DatetimeIndex(df['first_day_exposition']).year\n",
    "df['living_total_area'] = df['living_area'] / df['total_area']\n",
    "df['kitchen_total_area'] = df['living_area'] / df['kitchen_area']\n",
    "\n",
    "def floor_group (row):\n",
    "    floor = row['floor']\n",
    "    floors_total = row['floors_total']\n",
    "    if floor == 1:\n",
    "        return 'Первый'\n",
    "    if floor == floors_total:\n",
    "        return 'Последний'\n",
    "    else:\n",
    "        return 'Другой'\n",
    "df['floor_group'] = df.apply(floor_group, axis = 1 )\n",
    "\n",
    "df.head()"
   ]
  },
  {
   "cell_type": "markdown",
   "metadata": {},
   "source": [
    "### 4.1 Изучение параметров"
   ]
  },
  {
   "cell_type": "code",
   "execution_count": 224,
   "metadata": {},
   "outputs": [
    {
     "data": {
      "text/html": [
       "<div>\n",
       "<style scoped>\n",
       "    .dataframe tbody tr th:only-of-type {\n",
       "        vertical-align: middle;\n",
       "    }\n",
       "\n",
       "    .dataframe tbody tr th {\n",
       "        vertical-align: top;\n",
       "    }\n",
       "\n",
       "    .dataframe thead th {\n",
       "        text-align: right;\n",
       "    }\n",
       "</style>\n",
       "<table border=\"1\" class=\"dataframe\">\n",
       "  <thead>\n",
       "    <tr style=\"text-align: right;\">\n",
       "      <th></th>\n",
       "      <th>total_area</th>\n",
       "      <th>last_price</th>\n",
       "      <th>rooms</th>\n",
       "      <th>ceiling_height</th>\n",
       "    </tr>\n",
       "  </thead>\n",
       "  <tbody>\n",
       "    <tr>\n",
       "      <td>count</td>\n",
       "      <td>23699.000000</td>\n",
       "      <td>2.369900e+04</td>\n",
       "      <td>23699.000000</td>\n",
       "      <td>14504.000000</td>\n",
       "    </tr>\n",
       "    <tr>\n",
       "      <td>mean</td>\n",
       "      <td>60.348651</td>\n",
       "      <td>6.541549e+06</td>\n",
       "      <td>2.070636</td>\n",
       "      <td>2.771499</td>\n",
       "    </tr>\n",
       "    <tr>\n",
       "      <td>std</td>\n",
       "      <td>35.654083</td>\n",
       "      <td>1.088701e+07</td>\n",
       "      <td>1.078405</td>\n",
       "      <td>1.261056</td>\n",
       "    </tr>\n",
       "    <tr>\n",
       "      <td>min</td>\n",
       "      <td>12.000000</td>\n",
       "      <td>1.219000e+04</td>\n",
       "      <td>0.000000</td>\n",
       "      <td>1.000000</td>\n",
       "    </tr>\n",
       "    <tr>\n",
       "      <td>25%</td>\n",
       "      <td>40.000000</td>\n",
       "      <td>3.400000e+06</td>\n",
       "      <td>1.000000</td>\n",
       "      <td>2.520000</td>\n",
       "    </tr>\n",
       "    <tr>\n",
       "      <td>50%</td>\n",
       "      <td>52.000000</td>\n",
       "      <td>4.650000e+06</td>\n",
       "      <td>2.000000</td>\n",
       "      <td>2.650000</td>\n",
       "    </tr>\n",
       "    <tr>\n",
       "      <td>75%</td>\n",
       "      <td>69.900000</td>\n",
       "      <td>6.800000e+06</td>\n",
       "      <td>3.000000</td>\n",
       "      <td>2.800000</td>\n",
       "    </tr>\n",
       "    <tr>\n",
       "      <td>max</td>\n",
       "      <td>900.000000</td>\n",
       "      <td>7.630000e+08</td>\n",
       "      <td>19.000000</td>\n",
       "      <td>100.000000</td>\n",
       "    </tr>\n",
       "  </tbody>\n",
       "</table>\n",
       "</div>"
      ],
      "text/plain": [
       "         total_area    last_price         rooms  ceiling_height\n",
       "count  23699.000000  2.369900e+04  23699.000000    14504.000000\n",
       "mean      60.348651  6.541549e+06      2.070636        2.771499\n",
       "std       35.654083  1.088701e+07      1.078405        1.261056\n",
       "min       12.000000  1.219000e+04      0.000000        1.000000\n",
       "25%       40.000000  3.400000e+06      1.000000        2.520000\n",
       "50%       52.000000  4.650000e+06      2.000000        2.650000\n",
       "75%       69.900000  6.800000e+06      3.000000        2.800000\n",
       "max      900.000000  7.630000e+08     19.000000      100.000000"
      ]
     },
     "execution_count": 224,
     "metadata": {},
     "output_type": "execute_result"
    }
   ],
   "source": [
    "df_cut = df[['total_area','last_price','rooms','ceiling_height']].copy()\n",
    "df_cut.describe()"
   ]
  },
  {
   "cell_type": "code",
   "execution_count": 225,
   "metadata": {},
   "outputs": [
    {
     "name": "stdout",
     "output_type": "stream",
     "text": [
      "По неочищенным данным:\n"
     ]
    },
    {
     "data": {
      "image/png": "[encoded data removed]",
      "text/plain": [
       "<Figure size 432x288 with 1 Axes>"
      ]
     },
     "metadata": {
      "needs_background": "light"
     },
     "output_type": "display_data"
    },
    {
     "name": "stdout",
     "output_type": "stream",
     "text": [
      "\n",
      "По очищенным данным исходя из ящика с усами:\n"
     ]
    },
    {
     "data": {
      "image/png": "[encoded data removed]",
      "text/plain": [
       "<Figure size 432x288 with 1 Axes>"
      ]
     },
     "metadata": {
      "needs_background": "light"
     },
     "output_type": "display_data"
    },
    {
     "data": {
      "image/png": "[encoded data removed]",
      "text/plain": [
       "<Figure size 432x288 with 1 Axes>"
      ]
     },
     "metadata": {
      "needs_background": "light"
     },
     "output_type": "display_data"
    }
   ],
   "source": [
    "print('По неочищенным данным:')\n",
    "\n",
    "df_cut.boxplot('total_area')\n",
    "plt.show()\n",
    "\n",
    "print()\n",
    "\n",
    "print('По очищенным данным исходя из ящика с усами:')\n",
    "\n",
    "df_cut_area = df_cut.query('12 < total_area < 115')\n",
    "\n",
    "df_cut_area.boxplot('total_area') #13 < x < 104.8\n",
    "plt.show()\n",
    "\n",
    "df_cut_area['total_area'].plot(bins = 100, range = (0,350), kind = 'hist', title = 'total_area') #пик около значения 50 (похоже на пуассоновское распределение(?))\n",
    "plt.show()\n"
   ]
  },
  {
   "cell_type": "markdown",
   "metadata": {},
   "source": [
    "###### total_area:\n",
    "    1. Пик графика находится у значения \"50\", что похоже на правду\n",
    "    2. На гистограмме значения заканчиваются на 115.5\n",
    "    3. Ящик с усами сужает еще больше: все, больше 104.8 - выбросы, нижний ус упирается 13 \n",
    "    4. Оставим от 13 по ящику с усами и до 115.5 по гистограмме"
   ]
  },
  {
   "cell_type": "code",
   "execution_count": 226,
   "metadata": {},
   "outputs": [
    {
     "name": "stdout",
     "output_type": "stream",
     "text": [
      "Данные от 2% до 98%:\n"
     ]
    },
    {
     "data": {
      "image/png": "[encoded data removed]",
      "text/plain": [
       "<Figure size 432x288 with 1 Axes>"
      ]
     },
     "metadata": {
      "needs_background": "light"
     },
     "output_type": "display_data"
    },
    {
     "name": "stdout",
     "output_type": "stream",
     "text": [
      "Обработанные данные:\n"
     ]
    },
    {
     "data": {
      "image/png": "[encoded data removed]",
      "text/plain": [
       "<Figure size 432x288 with 1 Axes>"
      ]
     },
     "metadata": {
      "needs_background": "light"
     },
     "output_type": "display_data"
    }
   ],
   "source": [
    "lower = np.quantile(df_cut['last_price'],0.2)\n",
    "top = np.quantile(df_cut['last_price'],0.98)\n",
    "\n",
    "print('Данные от 2% до 98%:')\n",
    "df_cut_price = df_cut.query('@lower <= last_price <= @top')\n",
    "\n",
    "\n",
    "plt.xlim(0,53350000) #оставим от 393684 до 50млн\n",
    "df_cut['last_price'].plot(bins = 10000, kind = 'hist', title = 'last_price') #пик у нуля\n",
    "plt.show()\n",
    "\n",
    "print('Обработанные данные:')\n",
    "\n",
    "df_cut_second = df_cut.query('393684 <= last_price <= 5000000')\n",
    "\n",
    "df_cut_second['last_price'].plot(bins = 50, kind = 'hist', title = 'last_price')\n",
    "plt.show()"
   ]
  },
  {
   "cell_type": "markdown",
   "metadata": {},
   "source": [
    "###### last_price:\n",
    "    1. Похоже на нормальное распределение\n",
    "    2. Судя по гистограмме хвост начинается примерно от 50млн, вполне правдоподобно, если квартира большая и в хорошем районе\n",
    "    3. После среза по квантилям начинается цена от ~393684, вполне вероятно, если это глубоко в области и малого метража\n",
    "    4. Исходя из графика можно оставить значения от 393684 до 50млн.\n",
    "    (второй график все равно какой то странный и скошенный)"
   ]
  },
  {
   "cell_type": "code",
   "execution_count": 227,
   "metadata": {},
   "outputs": [
    {
     "name": "stdout",
     "output_type": "stream",
     "text": [
      "По неочищенным данным:\n"
     ]
    },
    {
     "data": {
      "image/png": "[encoded data removed]",
      "text/plain": [
       "<Figure size 432x288 with 1 Axes>"
      ]
     },
     "metadata": {
      "needs_background": "light"
     },
     "output_type": "display_data"
    },
    {
     "name": "stdout",
     "output_type": "stream",
     "text": [
      "По очищенным данным:\n"
     ]
    },
    {
     "data": {
      "image/png": "[encoded data removed]",
      "text/plain": [
       "<Figure size 432x288 with 1 Axes>"
      ]
     },
     "metadata": {
      "needs_background": "light"
     },
     "output_type": "display_data"
    },
    {
     "name": "stdout",
     "output_type": "stream",
     "text": [
      "\n"
     ]
    },
    {
     "data": {
      "image/png": "[encoded data removed]",
      "text/plain": [
       "<Figure size 432x288 with 1 Axes>"
      ]
     },
     "metadata": {
      "needs_background": "light"
     },
     "output_type": "display_data"
    }
   ],
   "source": [
    "print('По неочищенным данным:')\n",
    "df_cut.boxplot('rooms')\n",
    "plt.show()\n",
    "\n",
    "#df_cut['rooms'].plot(bins = 20, kind = 'hist', title = 'rooms') #пик у 2,5\n",
    "#plt.show()\n",
    "\n",
    "df_cut_rooms = df_cut.query('0 < rooms < 6')\n",
    "print('По очищенным данным:')\n",
    "\n",
    "df_cut_rooms.boxplot('rooms')\n",
    "plt.show()\n",
    "print()\n",
    "\n",
    "df_cut_rooms['rooms'].plot(kind = 'hist', title = 'rooms') #пик у 1 и 2\n",
    "plt.show()"
   ]
  },
  {
   "cell_type": "markdown",
   "metadata": {},
   "source": [
    "###### rooms:\n",
    "    1. Убираем выбросы по ящику с усами\n",
    "    2. Строим ящик с усами : на гистограмме хвост начинается от значения 1, на boxplot'e заканчивается ус в 5."
   ]
  },
  {
   "cell_type": "code",
   "execution_count": 228,
   "metadata": {},
   "outputs": [
    {
     "data": {
      "image/png": "[encoded data removed]",
      "text/plain": [
       "<Figure size 432x288 with 1 Axes>"
      ]
     },
     "metadata": {
      "needs_background": "light"
     },
     "output_type": "display_data"
    },
    {
     "data": {
      "image/png": "[encoded data removed]",
      "text/plain": [
       "<Figure size 432x288 with 1 Axes>"
      ]
     },
     "metadata": {
      "needs_background": "light"
     },
     "output_type": "display_data"
    }
   ],
   "source": [
    "df_cut['ceiling_height'].plot(bins = 20, range = (2,5), kind = 'hist', title = 'ceiling_height') #пик у 2.5\n",
    "plt.show()\n",
    "plt.ylim(2,3.5)\n",
    "df_cut.boxplot('ceiling_height')\n",
    "plt.show()\n",
    "\n"
   ]
  },
  {
   "cell_type": "markdown",
   "metadata": {},
   "source": [
    "###### ceiling_height:\n",
    "    1. График не похож на график с нормальным рапределением (надеюсь правильно сказала)\n",
    "    2. На графике с ящиком с усами видно, какое большое количество выбросов в этом столбце\n",
    "    3. Оставим данные от 2,2 до 4,5 "
   ]
  },
  {
   "cell_type": "markdown",
   "metadata": {},
   "source": [
    "### 4.2\n",
    "Изучение времени продажи квартиры."
   ]
  },
  {
   "cell_type": "code",
   "execution_count": 229,
   "metadata": {},
   "outputs": [
    {
     "data": {
      "image/png": "[encoded data removed]",
      "text/plain": [
       "<Figure size 432x288 with 1 Axes>"
      ]
     },
     "metadata": {
      "needs_background": "light"
     },
     "output_type": "display_data"
    }
   ],
   "source": [
    "df['days_exposition'].hist(bins = 100, range = (0,1400))\n",
    "plt.show()"
   ]
  },
  {
   "cell_type": "markdown",
   "metadata": {},
   "source": [
    "1. На графике пик у нуля, опять нехорошо, также есть внушительный пик у 95\n",
    "2. Подозрительно быстрые продажи - меньше недели (остальные данные вроде ничего, поиграла с масштабом графика и посмотрела)\n",
    "3. Подозрительно долгие продажи - дольше 800 дней (ну в принципе реалистично)\n"
   ]
  },
  {
   "cell_type": "code",
   "execution_count": 230,
   "metadata": {},
   "outputs": [
    {
     "data": {
      "text/plain": [
       "count    20518.000000\n",
       "mean       180.888634\n",
       "std        219.727988\n",
       "min          1.000000\n",
       "25%         45.000000\n",
       "50%         95.000000\n",
       "75%        232.000000\n",
       "max       1580.000000\n",
       "Name: days_exposition, dtype: float64"
      ]
     },
     "execution_count": 230,
     "metadata": {},
     "output_type": "execute_result"
    },
    {
     "data": {
      "image/png": "[encoded data removed]",
      "text/plain": [
       "<Figure size 432x288 with 1 Axes>"
      ]
     },
     "metadata": {
      "needs_background": "light"
     },
     "output_type": "display_data"
    }
   ],
   "source": [
    "df.boxplot('days_exposition')\n",
    "df['days_exposition'].describe()"
   ]
  },
  {
   "cell_type": "markdown",
   "metadata": {},
   "source": [
    "Дополнительно выведем ящик с усами:\n",
    "1. Все, выше третьего квартиля - долгие продажи, все, выше конца верхнего уса (усика/усов?), это 432, необычно долго\n",
    "2. Правый ус упирается в значение 432,что вполне имеет право на существование, а вот левый в единицу и это подозрительно \n",
    "3. Используем describe(), чтобы увидеть стандартное отклонение, которое оказалось огромным - 207\n",
    "4. Среднее и медиана отличаются почти в два раза, что подтверждает еще раз пункт 3.\n",
    "\n",
    "Изучим данные более подробно, возьмемся сначала за слишком большие значения"
   ]
  },
  {
   "cell_type": "code",
   "execution_count": 231,
   "metadata": {},
   "outputs": [
    {
     "data": {
      "text/html": [
       "<div>\n",
       "<style scoped>\n",
       "    .dataframe tbody tr th:only-of-type {\n",
       "        vertical-align: middle;\n",
       "    }\n",
       "\n",
       "    .dataframe tbody tr th {\n",
       "        vertical-align: top;\n",
       "    }\n",
       "\n",
       "    .dataframe thead th {\n",
       "        text-align: right;\n",
       "    }\n",
       "</style>\n",
       "<table border=\"1\" class=\"dataframe\">\n",
       "  <thead>\n",
       "    <tr style=\"text-align: right;\">\n",
       "      <th></th>\n",
       "      <th>total_images</th>\n",
       "      <th>last_price</th>\n",
       "      <th>total_area</th>\n",
       "      <th>first_day_exposition</th>\n",
       "      <th>rooms</th>\n",
       "      <th>ceiling_height</th>\n",
       "      <th>floors_total</th>\n",
       "      <th>living_area</th>\n",
       "      <th>floor</th>\n",
       "      <th>is_apartment</th>\n",
       "      <th>...</th>\n",
       "      <th>ponds_around3000</th>\n",
       "      <th>ponds_nearest</th>\n",
       "      <th>days_exposition</th>\n",
       "      <th>price_metr</th>\n",
       "      <th>day_exposition</th>\n",
       "      <th>month_exposition</th>\n",
       "      <th>year_exposition</th>\n",
       "      <th>living_total_area</th>\n",
       "      <th>kitchen_total_area</th>\n",
       "      <th>floor_group</th>\n",
       "    </tr>\n",
       "  </thead>\n",
       "  <tbody>\n",
       "    <tr>\n",
       "      <td>6540</td>\n",
       "      <td>4</td>\n",
       "      <td>3600000.0</td>\n",
       "      <td>42.0</td>\n",
       "      <td>2015-11-03</td>\n",
       "      <td>1</td>\n",
       "      <td>2.56</td>\n",
       "      <td>10.0</td>\n",
       "      <td>18.0</td>\n",
       "      <td>10</td>\n",
       "      <td>False</td>\n",
       "      <td>...</td>\n",
       "      <td>3.0</td>\n",
       "      <td>291.0</td>\n",
       "      <td>433.0</td>\n",
       "      <td>85714.285714</td>\n",
       "      <td>3</td>\n",
       "      <td>11</td>\n",
       "      <td>2015</td>\n",
       "      <td>0.428571</td>\n",
       "      <td>1.800000</td>\n",
       "      <td>Последний</td>\n",
       "    </tr>\n",
       "    <tr>\n",
       "      <td>9847</td>\n",
       "      <td>8</td>\n",
       "      <td>3800000.0</td>\n",
       "      <td>45.5</td>\n",
       "      <td>2016-09-05</td>\n",
       "      <td>2</td>\n",
       "      <td>2.50</td>\n",
       "      <td>9.0</td>\n",
       "      <td>28.5</td>\n",
       "      <td>1</td>\n",
       "      <td>False</td>\n",
       "      <td>...</td>\n",
       "      <td>0.0</td>\n",
       "      <td>NaN</td>\n",
       "      <td>433.0</td>\n",
       "      <td>83516.483516</td>\n",
       "      <td>5</td>\n",
       "      <td>9</td>\n",
       "      <td>2016</td>\n",
       "      <td>0.626374</td>\n",
       "      <td>4.071429</td>\n",
       "      <td>Первый</td>\n",
       "    </tr>\n",
       "    <tr>\n",
       "      <td>562</td>\n",
       "      <td>4</td>\n",
       "      <td>3750000.0</td>\n",
       "      <td>62.5</td>\n",
       "      <td>2016-04-19</td>\n",
       "      <td>2</td>\n",
       "      <td>NaN</td>\n",
       "      <td>9.0</td>\n",
       "      <td>32.0</td>\n",
       "      <td>1</td>\n",
       "      <td>False</td>\n",
       "      <td>...</td>\n",
       "      <td>0.0</td>\n",
       "      <td>NaN</td>\n",
       "      <td>433.0</td>\n",
       "      <td>60000.000000</td>\n",
       "      <td>19</td>\n",
       "      <td>4</td>\n",
       "      <td>2016</td>\n",
       "      <td>0.512000</td>\n",
       "      <td>3.200000</td>\n",
       "      <td>Первый</td>\n",
       "    </tr>\n",
       "    <tr>\n",
       "      <td>12286</td>\n",
       "      <td>12</td>\n",
       "      <td>4350000.0</td>\n",
       "      <td>36.0</td>\n",
       "      <td>2016-09-01</td>\n",
       "      <td>1</td>\n",
       "      <td>2.60</td>\n",
       "      <td>19.0</td>\n",
       "      <td>20.0</td>\n",
       "      <td>7</td>\n",
       "      <td>False</td>\n",
       "      <td>...</td>\n",
       "      <td>0.0</td>\n",
       "      <td>NaN</td>\n",
       "      <td>433.0</td>\n",
       "      <td>120833.333333</td>\n",
       "      <td>1</td>\n",
       "      <td>9</td>\n",
       "      <td>2016</td>\n",
       "      <td>0.555556</td>\n",
       "      <td>NaN</td>\n",
       "      <td>Другой</td>\n",
       "    </tr>\n",
       "    <tr>\n",
       "      <td>23406</td>\n",
       "      <td>16</td>\n",
       "      <td>2750000.0</td>\n",
       "      <td>31.5</td>\n",
       "      <td>2016-05-31</td>\n",
       "      <td>1</td>\n",
       "      <td>NaN</td>\n",
       "      <td>25.0</td>\n",
       "      <td>14.6</td>\n",
       "      <td>23</td>\n",
       "      <td>False</td>\n",
       "      <td>...</td>\n",
       "      <td>NaN</td>\n",
       "      <td>NaN</td>\n",
       "      <td>433.0</td>\n",
       "      <td>87301.587302</td>\n",
       "      <td>31</td>\n",
       "      <td>5</td>\n",
       "      <td>2016</td>\n",
       "      <td>0.463492</td>\n",
       "      <td>1.536842</td>\n",
       "      <td>Другой</td>\n",
       "    </tr>\n",
       "  </tbody>\n",
       "</table>\n",
       "<p>5 rows × 29 columns</p>\n",
       "</div>"
      ],
      "text/plain": [
       "       total_images  last_price  total_area first_day_exposition  rooms  \\\n",
       "6540              4   3600000.0        42.0           2015-11-03      1   \n",
       "9847              8   3800000.0        45.5           2016-09-05      2   \n",
       "562               4   3750000.0        62.5           2016-04-19      2   \n",
       "12286            12   4350000.0        36.0           2016-09-01      1   \n",
       "23406            16   2750000.0        31.5           2016-05-31      1   \n",
       "\n",
       "       ceiling_height  floors_total  living_area  floor  is_apartment  ...  \\\n",
       "6540             2.56          10.0         18.0     10         False  ...   \n",
       "9847             2.50           9.0         28.5      1         False  ...   \n",
       "562               NaN           9.0         32.0      1         False  ...   \n",
       "12286            2.60          19.0         20.0      7         False  ...   \n",
       "23406             NaN          25.0         14.6     23         False  ...   \n",
       "\n",
       "       ponds_around3000  ponds_nearest  days_exposition     price_metr  \\\n",
       "6540                3.0          291.0            433.0   85714.285714   \n",
       "9847                0.0            NaN            433.0   83516.483516   \n",
       "562                 0.0            NaN            433.0   60000.000000   \n",
       "12286               0.0            NaN            433.0  120833.333333   \n",
       "23406               NaN            NaN            433.0   87301.587302   \n",
       "\n",
       "      day_exposition  month_exposition  year_exposition  living_total_area  \\\n",
       "6540               3                11             2015           0.428571   \n",
       "9847               5                 9             2016           0.626374   \n",
       "562               19                 4             2016           0.512000   \n",
       "12286              1                 9             2016           0.555556   \n",
       "23406             31                 5             2016           0.463492   \n",
       "\n",
       "       kitchen_total_area  floor_group  \n",
       "6540             1.800000    Последний  \n",
       "9847             4.071429       Первый  \n",
       "562              3.200000       Первый  \n",
       "12286                 NaN       Другой  \n",
       "23406            1.536842       Другой  \n",
       "\n",
       "[5 rows x 29 columns]"
      ]
     },
     "execution_count": 231,
     "metadata": {},
     "output_type": "execute_result"
    }
   ],
   "source": [
    "longest = (df\n",
    " .query('days_exposition > 432')\n",
    " .sort_values(by = 'days_exposition')\n",
    ")\n",
    "longest.head()"
   ]
  },
  {
   "cell_type": "code",
   "execution_count": 232,
   "metadata": {},
   "outputs": [
    {
     "data": {
      "text/plain": [
       "<matplotlib.axes._subplots.AxesSubplot at 0x7f24b31b5710>"
      ]
     },
     "execution_count": 232,
     "metadata": {},
     "output_type": "execute_result"
    },
    {
     "data": {
      "image/png": "[encoded data removed]",
      "text/plain": [
       "<Figure size 432x288 with 1 Axes>"
      ]
     },
     "metadata": {
      "needs_background": "light"
     },
     "output_type": "display_data"
    }
   ],
   "source": [
    "df['days_exposition'].hist(bins = 100)"
   ]
  },
  {
   "cell_type": "code",
   "execution_count": 233,
   "metadata": {},
   "outputs": [
    {
     "data": {
      "text/plain": [
       "<matplotlib.axes._subplots.AxesSubplot at 0x7f24b3415128>"
      ]
     },
     "execution_count": 233,
     "metadata": {},
     "output_type": "execute_result"
    },
    {
     "data": {
      "image/png": "[encoded data removed]",
      "text/plain": [
       "<Figure size 432x288 with 1 Axes>"
      ]
     },
     "metadata": {
      "needs_background": "light"
     },
     "output_type": "display_data"
    }
   ],
   "source": [
    "longest['days_exposition'].hist(bins = 100)"
   ]
  },
  {
   "cell_type": "markdown",
   "metadata": {},
   "source": [
    "Сравниваем гистаграммы среза и исходных данных:\n",
    "1. Гистаграмма среза:\n",
    "    - Пик у 432\n",
    "    - \"Хвост\" начинается от 1500\n",
    "2. Гистаграмма исходных данных:\n",
    "    - Пик у 0 и у 95\n",
    "    \n",
    "Несмотря на это внешне похожи, можем принять верхнюю границу за 1520(при масштабировании показалось самым оптимаьлным), теперь можно взяться за слишком быстрые продажи"
   ]
  },
  {
   "cell_type": "code",
   "execution_count": 234,
   "metadata": {},
   "outputs": [
    {
     "data": {
      "text/plain": [
       "<matplotlib.axes._subplots.AxesSubplot at 0x7f24b3439668>"
      ]
     },
     "execution_count": 234,
     "metadata": {},
     "output_type": "execute_result"
    },
    {
     "data": {
      "image/png": "[encoded data removed]",
      "text/plain": [
       "<Figure size 432x288 with 1 Axes>"
      ]
     },
     "metadata": {
      "needs_background": "light"
     },
     "output_type": "display_data"
    }
   ],
   "source": [
    "shortest = (df\n",
    "            .query('days_exposition < 45')\n",
    "            .sort_values(by = 'days_exposition')\n",
    "           )\n",
    "shortest['days_exposition'].hist(bins = 50)"
   ]
  },
  {
   "cell_type": "markdown",
   "metadata": {},
   "source": [
    "1. Этот график совсем не похож на график по изначальной таблице.\n",
    "2. Пики у : 7.5, 30\n",
    "3. Оставим за нижнюю границу значение 7,5"
   ]
  },
  {
   "cell_type": "markdown",
   "metadata": {},
   "source": [
    "### 4.3 Поиск аномалий\n",
    "#### days_exposition:"
   ]
  },
  {
   "cell_type": "code",
   "execution_count": 235,
   "metadata": {},
   "outputs": [
    {
     "name": "stdout",
     "output_type": "stream",
     "text": [
      "Процент отброшенных значений: 0.041475777366214994\n"
     ]
    }
   ],
   "source": [
    "# 7,5 < days_exposition < 1520\n",
    "optimal = df.query('7.5 < days_exposition < 1520')\n",
    "print('Процент отброшенных значений:',1-(len(optimal)/len(df['days_exposition'].dropna())))"
   ]
  },
  {
   "cell_type": "markdown",
   "metadata": {},
   "source": [
    "Oт 4% данных мы, вроде, можем позволить себе избавиться\n",
    "p.s. здесь если отбрасывать по квантилям, то отбрасывается слишком много\n",
    "#### ceiling_height:"
   ]
  },
  {
   "cell_type": "code",
   "execution_count": 236,
   "metadata": {},
   "outputs": [
    {
     "name": "stdout",
     "output_type": "stream",
     "text": [
      "Процент выбросов по высоте потолков: 0.0038610038610038533\n"
     ]
    }
   ],
   "source": [
    "# 2,2 < ceiling_height < 4,5\n",
    "optimal_ceil = df.query('2.2 <= ceiling_height <= 4.5')\n",
    "print('Процент выбросов по высоте потолков:',1-(len(optimal_ceil))/len(df['ceiling_height'].dropna()))"
   ]
  },
  {
   "cell_type": "markdown",
   "metadata": {},
   "source": [
    "\n",
    "#### rooms:\n",
    "здесь квантили 2% и 98% соответствуют выбранным мной ранее значениям (1 и 5)"
   ]
  },
  {
   "cell_type": "code",
   "execution_count": 237,
   "metadata": {},
   "outputs": [
    {
     "name": "stdout",
     "output_type": "stream",
     "text": [
      "Процент выкинутых значений по количеству комнат: 0.01654078231148992\n"
     ]
    }
   ],
   "source": [
    "# 1 < rooms < 5\n",
    "optimal_rooms = df.query('1 <= rooms <= 5')\n",
    "print('Процент выкинутых значений по количеству комнат:',1-(len(optimal_rooms)/len(df['rooms'].dropna())))"
   ]
  },
  {
   "cell_type": "markdown",
   "metadata": {},
   "source": [
    "#### total_area:"
   ]
  },
  {
   "cell_type": "code",
   "execution_count": 238,
   "metadata": {},
   "outputs": [
    {
     "name": "stdout",
     "output_type": "stream",
     "text": [
      "Процент выкинутых значений по общей площади: 0.03987510021519891\n"
     ]
    }
   ],
   "source": [
    "lower_area = np.quantile(df['total_area'], 0.02)\n",
    "top_area = np.quantile(df['total_area'], 0.98)\n",
    "optimal_area = df.query('@lower_area <= total_area <= @top_area')\n",
    "print('Процент выкинутых значений по общей площади:',1 - (len(optimal_area))/len(df['total_area'].dropna()))\n"
   ]
  },
  {
   "cell_type": "markdown",
   "metadata": {},
   "source": [
    "#### last_price:"
   ]
  },
  {
   "cell_type": "code",
   "execution_count": 239,
   "metadata": {},
   "outputs": [
    {
     "name": "stdout",
     "output_type": "stream",
     "text": [
      "Процент выкинутых значений по цене: 0.028735389678889445\n"
     ]
    }
   ],
   "source": [
    "lower = np.quantile(df['last_price'], 0.02)\n",
    "top = np.quantile(df['last_price'], 0.99)\n",
    "optimal_price = df.query('@lower <= last_price <= @top')\n",
    "print('Процент выкинутых значений по цене:',1 - (len(optimal_price)/len(df['last_price'].dropna())))\n"
   ]
  },
  {
   "cell_type": "markdown",
   "metadata": {},
   "source": [
    "### 4.4\n",
    "Какие факторы больше всего влияют на стоимость квартиры?"
   ]
  },
  {
   "cell_type": "code",
   "execution_count": 240,
   "metadata": {},
   "outputs": [
    {
     "name": "stdout",
     "output_type": "stream",
     "text": [
      "Корреляция между столбцами таблицы и \"last_price\":\n"
     ]
    },
    {
     "data": {
      "text/plain": [
       "cityCenters_nearest   -0.206909\n",
       "ponds_nearest         -0.084809\n",
       "year_exposition       -0.043089\n",
       "airports_nearest      -0.028688\n",
       "studio                -0.025362\n",
       "parks_nearest         -0.016414\n",
       "open_plan             -0.008802\n",
       "floors_total          -0.006984\n",
       "living_total_area      0.002501\n",
       "month_exposition       0.002779\n",
       "balcony                0.008559\n",
       "day_exposition         0.009172\n",
       "floor                  0.026576\n",
       "is_apartment           0.026958\n",
       "days_exposition        0.081146\n",
       "ceiling_height         0.085430\n",
       "total_images           0.104473\n",
       "kitchen_total_area     0.126122\n",
       "parks_around3000       0.151058\n",
       "ponds_around3000       0.159996\n",
       "rooms                  0.363343\n",
       "kitchen_area           0.518303\n",
       "living_area            0.566492\n",
       "total_area             0.653675\n",
       "price_metr             0.736499\n",
       "last_price             1.000000\n",
       "Name: last_price, dtype: float64"
      ]
     },
     "execution_count": 240,
     "metadata": {},
     "output_type": "execute_result"
    }
   ],
   "source": [
    "print('Корреляция между столбцами таблицы и \"last_price\":')\n",
    "\n",
    "df.corr().sort_values(by = 'last_price')['last_price']"
   ]
  },
  {
   "cell_type": "markdown",
   "metadata": {},
   "source": [
    "<span style=\"color:green\">\n",
    "\n",
    "##### Коэффициенты корреляции: \n",
    "1. Цена/цена на метр \n",
    "        \n",
    "        Логично, что здесь будет высокий уровено корреляции\n",
    "2. Цена/кол-во комнат \n",
    "        \n",
    "        Тоже логично - больше комнат = больше цена, как и наоборот\n",
    "3. Цена/этаж\n",
    "        \n",
    "        Здесь связь тоже есть, но достаточно слабая, этаж влияет на стоимость, но не сильно\n",
    "4. Цена/удаленность от центра\n",
    "        \n",
    "        Корреляция здесь отрицательная, потому что при повышении цены, расстояние до центра будет уменьшаться, эти факторы обратно пропорциональны друг другу\n",
    "5. Цена/день, цена/месяц\n",
    "        \n",
    "        Взаимосвязь есть, но достаточно слаба. В случае с днем она сильнее, но всего на 0.04, возможно чаще квартиры покупают в конце месяца?\n",
    "6. Цена/год\n",
    "        \n",
    "        Странно, что здесь коэффициент орицательный, ведь это означает, что чем раньше купили квартиру, тем она была дороже. Не очень логично."
   ]
  },
  {
   "cell_type": "markdown",
   "metadata": {},
   "source": [
    "### 4.5\n",
    "Анализ 10 населённых пунктов с наибольшим числом объявлений."
   ]
  },
  {
   "cell_type": "code",
   "execution_count": 241,
   "metadata": {
    "scrolled": true
   },
   "outputs": [
    {
     "name": "stdout",
     "output_type": "stream",
     "text": [
      "Таблица с кол-вом объявлений и средней ценой за метр:\n"
     ]
    },
    {
     "data": {
      "text/html": [
       "<div>\n",
       "<style scoped>\n",
       "    .dataframe tbody tr th:only-of-type {\n",
       "        vertical-align: middle;\n",
       "    }\n",
       "\n",
       "    .dataframe tbody tr th {\n",
       "        vertical-align: top;\n",
       "    }\n",
       "\n",
       "    .dataframe thead th {\n",
       "        text-align: right;\n",
       "    }\n",
       "</style>\n",
       "<table border=\"1\" class=\"dataframe\">\n",
       "  <thead>\n",
       "    <tr style=\"text-align: right;\">\n",
       "      <th></th>\n",
       "      <th>number</th>\n",
       "      <th>mean_price</th>\n",
       "    </tr>\n",
       "    <tr>\n",
       "      <th>locality_name</th>\n",
       "      <th></th>\n",
       "      <th></th>\n",
       "    </tr>\n",
       "  </thead>\n",
       "  <tbody>\n",
       "    <tr>\n",
       "      <td>Санкт-Петербург</td>\n",
       "      <td>15721</td>\n",
       "      <td>114849.008794</td>\n",
       "    </tr>\n",
       "    <tr>\n",
       "      <td>посёлок Мурино</td>\n",
       "      <td>522</td>\n",
       "      <td>85752.189195</td>\n",
       "    </tr>\n",
       "    <tr>\n",
       "      <td>посёлок Шушары</td>\n",
       "      <td>440</td>\n",
       "      <td>78677.364217</td>\n",
       "    </tr>\n",
       "    <tr>\n",
       "      <td>Всеволожск</td>\n",
       "      <td>398</td>\n",
       "      <td>68654.473986</td>\n",
       "    </tr>\n",
       "    <tr>\n",
       "      <td>Пушкин</td>\n",
       "      <td>369</td>\n",
       "      <td>103125.819291</td>\n",
       "    </tr>\n",
       "    <tr>\n",
       "      <td>Колпино</td>\n",
       "      <td>338</td>\n",
       "      <td>75424.579098</td>\n",
       "    </tr>\n",
       "    <tr>\n",
       "      <td>посёлок Парголово</td>\n",
       "      <td>327</td>\n",
       "      <td>90175.913458</td>\n",
       "    </tr>\n",
       "    <tr>\n",
       "      <td>Гатчина</td>\n",
       "      <td>307</td>\n",
       "      <td>68746.146763</td>\n",
       "    </tr>\n",
       "    <tr>\n",
       "      <td>деревня Кудрово</td>\n",
       "      <td>299</td>\n",
       "      <td>92473.547576</td>\n",
       "    </tr>\n",
       "    <tr>\n",
       "      <td>Выборг</td>\n",
       "      <td>237</td>\n",
       "      <td>58141.909153</td>\n",
       "    </tr>\n",
       "  </tbody>\n",
       "</table>\n",
       "</div>"
      ],
      "text/plain": [
       "                   number     mean_price\n",
       "locality_name                           \n",
       "Санкт-Петербург     15721  114849.008794\n",
       "посёлок Мурино        522   85752.189195\n",
       "посёлок Шушары        440   78677.364217\n",
       "Всеволожск            398   68654.473986\n",
       "Пушкин                369  103125.819291\n",
       "Колпино               338   75424.579098\n",
       "посёлок Парголово     327   90175.913458\n",
       "Гатчина               307   68746.146763\n",
       "деревня Кудрово       299   92473.547576\n",
       "Выборг                237   58141.909153"
      ]
     },
     "execution_count": 241,
     "metadata": {},
     "output_type": "execute_result"
    }
   ],
   "source": [
    "print('Таблица с кол-вом объявлений и средней ценой за метр:')\n",
    "df['locality_name'].value_counts()\n",
    "pivot = df.pivot_table(index = 'locality_name', values = 'price_metr', aggfunc = {'count','mean'})\n",
    "pivot.columns = ['number','mean_price']\n",
    "pivot = pivot.sort_values(by = 'number', ascending = False)\n",
    "pivot = pivot.head(10)\n",
    "pivot"
   ]
  },
  {
   "cell_type": "code",
   "execution_count": 242,
   "metadata": {},
   "outputs": [
    {
     "name": "stdout",
     "output_type": "stream",
     "text": [
      "Регион с самой высокой стоимостью жилья: Санкт-Петербург\n"
     ]
    }
   ],
   "source": [
    "print('Регион с самой высокой стоимостью жилья:', pivot.index[0])"
   ]
  },
  {
   "cell_type": "code",
   "execution_count": 243,
   "metadata": {},
   "outputs": [
    {
     "name": "stdout",
     "output_type": "stream",
     "text": [
      "Регион с самой низкой стоимостью жилья: Выборг\n"
     ]
    }
   ],
   "source": [
    "print('Регион с самой низкой стоимостью жилья:', pivot.index[9])"
   ]
  },
  {
   "cell_type": "markdown",
   "metadata": {},
   "source": [
    "### 4.6\n",
    "Выделение квартир в Санкт-Петербурге ('locality_name'). "
   ]
  },
  {
   "cell_type": "code",
   "execution_count": 244,
   "metadata": {
    "scrolled": true
   },
   "outputs": [],
   "source": [
    "df_spb = df.query('locality_name == \"Санкт-Петербург\"').copy()"
   ]
  },
  {
   "cell_type": "markdown",
   "metadata": {},
   "source": [
    "Ваша задача — выяснить, какая область входит в центр. Создайте столбец с расстоянием до центра в километрах: округлите до целых значений. "
   ]
  },
  {
   "cell_type": "code",
   "execution_count": 245,
   "metadata": {},
   "outputs": [],
   "source": [
    "df_spb['cityCenters_nearest_km'] = round(df_spb['cityCenters_nearest']/1000)\n",
    "df_spb['cityCenters_nearest_km'] = df_spb['cityCenters_nearest_km'].astype(int)"
   ]
  },
  {
   "cell_type": "markdown",
   "metadata": {},
   "source": [
    "После этого посчитайте среднюю цену для каждого километра. Постройте график: он должен показывать, как цена зависит от удалённости от центра. Определите границу, где график сильно меняется — это и будет центральная зона.\n"
   ]
  },
  {
   "cell_type": "code",
   "execution_count": 246,
   "metadata": {},
   "outputs": [
    {
     "data": {
      "image/png": "[encoded data removed]",
      "text/plain": [
       "<Figure size 432x288 with 1 Axes>"
      ]
     },
     "metadata": {
      "needs_background": "light"
     },
     "output_type": "display_data"
    }
   ],
   "source": [
    "df_spb_pivot = df_spb.pivot_table(index = 'cityCenters_nearest_km', values = 'price_metr', aggfunc = 'mean') #нашли среднюю цена\n",
    "df_spb_pivot['cityCenters_nearest_km'] = df_spb_pivot.index #для последующего построения графика\n",
    "#plt.xlim(0,20)\n",
    "(df_spb_pivot\n",
    "    .query('cityCenters_nearest_km < 10')\n",
    "    .plot(x = 'cityCenters_nearest_km', y = 'price_metr', grid = True)\n",
    "    )\n",
    "plt.show()"
   ]
  },
  {
   "cell_type": "markdown",
   "metadata": {},
   "source": [
    "Самые дорогие квартиры находятся ближе всего к центру, то есть к нулю. Cпад от 0 до 3км, значит центральная зона примерно 3км"
   ]
  },
  {
   "cell_type": "markdown",
   "metadata": {},
   "source": [
    "### 4.7\n",
    "Выделим сегмент квартир в центре. Анализ этой территории и изучение следующих параметров: площадь, цена, число комнат, высота потолков. Также выделение факторов, которые влияют на стоимость квартиры (число комнат, этаж, удалённость от центра, дата размещения объявления)"
   ]
  },
  {
   "cell_type": "code",
   "execution_count": 247,
   "metadata": {},
   "outputs": [
    {
     "data": {
      "text/plain": [
       "cityCenters_nearest_km   -0.180389\n",
       "days_exposition           0.043470\n",
       "ceiling_height            0.045944\n",
       "floor                     0.224601\n",
       "rooms                     0.240349\n",
       "total_area                0.565577\n",
       "last_price                1.000000\n",
       "Name: last_price, dtype: float64"
      ]
     },
     "execution_count": 247,
     "metadata": {},
     "output_type": "execute_result"
    }
   ],
   "source": [
    "center_spb = df_spb[['floor','days_exposition','total_area','last_price','rooms','ceiling_height','cityCenters_nearest_km']]\n",
    "center_spb = center_spb.query('cityCenters_nearest_km <= 3')\n",
    "center_spb.corr().sort_values(by = 'last_price')['last_price']"
   ]
  },
  {
   "cell_type": "markdown",
   "metadata": {},
   "source": [
    "1. Связь с ceiling_height положительная, но слишком мала, чтобы быть значимой\n",
    "2. Связь с days_exposition положительная, но слишком мала, чтобы быть значимой\n",
    "3. Связь с cityCenters_nearest_km отрицательная: чем ближе к границе центра, тем дороже (это возможно из-за того, что на Петроградке и на Крестовском здания премиум класса, хотя совсем не в центре)\n",
    "4. Значения rooms и floor примерно одинаково влияют на формирование цены, но не очень значительно\n",
    "5. Прямая сильная связь цены квартиры с ее площадью, что вполне логично и объяснимо - платят за квадртаный метр.\n",
    "\n",
    "Выведем для сравнения корреляции по всему городу, предварительно избавившись от ненужных сейчас столбцов"
   ]
  },
  {
   "cell_type": "code",
   "execution_count": 248,
   "metadata": {},
   "outputs": [
    {
     "data": {
      "text/plain": [
       "cityCenters_nearest_km   -0.257844\n",
       "floor                    -0.000838\n",
       "ceiling_height            0.089615\n",
       "days_exposition           0.092538\n",
       "rooms                     0.372375\n",
       "total_area                0.657188\n",
       "last_price                1.000000\n",
       "Name: last_price, dtype: float64"
      ]
     },
     "execution_count": 248,
     "metadata": {},
     "output_type": "execute_result"
    }
   ],
   "source": [
    "df_spb1 = df_spb[['floor','days_exposition','total_area','last_price','rooms','ceiling_height','cityCenters_nearest_km']]\n",
    "df_spb1.corr().sort_values(by = 'last_price')['last_price']"
   ]
  },
  {
   "cell_type": "markdown",
   "metadata": {},
   "source": [
    "1. Также как и в центре по всему городу самый важный фактор формирования цены - общая площадь\n",
    "2. Здесь,что странно, чем дальше от центра, тем больше цена, но не на много\n",
    "3. Связь с floor слишком мала, чтобы ее рассматривать\n",
    "4. Связь с days_exposition, ceiling_height также практически отсутсвует, но тем не менее положительна и может влиять на цену, но незначительно\n",
    "4. Увеличивается корреляция между ценой и количеством комнат: больше комнат - выше цена"
   ]
  },
  {
   "cell_type": "markdown",
   "metadata": {},
   "source": [
    "### Общий вывод"
   ]
  },
  {
   "cell_type": "markdown",
   "metadata": {},
   "source": [
    "По итогам исследования можно однозначно сказать, что:\n",
    "\n",
    "1. Пользователи игнорируют заполнение многих полей, что затрудняет работу с данными\n",
    "2. В Санкт-Петербурге на конечную стоимость жилья прямо пропорционально больше всего влияет площадь и количество комнат\n",
    "3. Также для Петербурга важна степень удаленности от центра - чем дальше от центра, тем дешевле квартира\n",
    "\n",
    "Для отслеживания мошеннической деятельности установили ограничения по:\n",
    "\n",
    "1. Высоте потолков\n",
    "2. Общей площади\n",
    "3. Количеству комнат\n",
    "4. Цена\n"
   ]
  }
 ],
 "metadata": {
  "kernelspec": {
   "display_name": "Python 3",
   "language": "python",
   "name": "python3"
  },
  "language_info": {
   "codemirror_mode": {
    "name": "ipython",
    "version": 3
   },
   "file_extension": ".py",
   "mimetype": "text/x-python",
   "name": "python",
   "nbconvert_exporter": "python",
   "pygments_lexer": "ipython3",
   "version": "3.7.7"
  }
 },
 "nbformat": 4,
 "nbformat_minor": 2
}
