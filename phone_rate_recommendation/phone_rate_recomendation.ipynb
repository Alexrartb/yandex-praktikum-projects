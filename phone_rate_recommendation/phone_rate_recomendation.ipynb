{
 "cells": [
  {
   "cell_type": "code",
   "execution_count": 50,
   "metadata": {},
   "outputs": [],
   "source": [
    "import pandas as pd\n",
    "from sklearn.model_selection import train_test_split\n",
    "from sklearn.metrics import accuracy_score\n",
    "from sklearn.ensemble import RandomForestClassifier\n",
    "from sklearn.tree import DecisionTreeClassifier\n",
    "import matplotlib.pyplot as plt"
   ]
  },
  {
   "cell_type": "code",
   "execution_count": 51,
   "metadata": {},
   "outputs": [
    {
     "name": "stdout",
     "output_type": "stream",
     "text": [
      "<class 'pandas.core.frame.DataFrame'>\n",
      "RangeIndex: 3214 entries, 0 to 3213\n",
      "Data columns (total 5 columns):\n",
      "calls       3214 non-null float64\n",
      "minutes     3214 non-null float64\n",
      "messages    3214 non-null float64\n",
      "mb_used     3214 non-null float64\n",
      "is_ultra    3214 non-null int64\n",
      "dtypes: float64(4), int64(1)\n",
      "memory usage: 125.7 KB\n"
     ]
    },
    {
     "data": {
      "text/html": [
       "<div>\n",
       "<style scoped>\n",
       "    .dataframe tbody tr th:only-of-type {\n",
       "        vertical-align: middle;\n",
       "    }\n",
       "\n",
       "    .dataframe tbody tr th {\n",
       "        vertical-align: top;\n",
       "    }\n",
       "\n",
       "    .dataframe thead th {\n",
       "        text-align: right;\n",
       "    }\n",
       "</style>\n",
       "<table border=\"1\" class=\"dataframe\">\n",
       "  <thead>\n",
       "    <tr style=\"text-align: right;\">\n",
       "      <th></th>\n",
       "      <th>calls</th>\n",
       "      <th>minutes</th>\n",
       "      <th>messages</th>\n",
       "      <th>mb_used</th>\n",
       "      <th>is_ultra</th>\n",
       "    </tr>\n",
       "  </thead>\n",
       "  <tbody>\n",
       "    <tr>\n",
       "      <td>0</td>\n",
       "      <td>40.0</td>\n",
       "      <td>311.90</td>\n",
       "      <td>83.0</td>\n",
       "      <td>19915.42</td>\n",
       "      <td>0</td>\n",
       "    </tr>\n",
       "    <tr>\n",
       "      <td>1</td>\n",
       "      <td>85.0</td>\n",
       "      <td>516.75</td>\n",
       "      <td>56.0</td>\n",
       "      <td>22696.96</td>\n",
       "      <td>0</td>\n",
       "    </tr>\n",
       "    <tr>\n",
       "      <td>2</td>\n",
       "      <td>77.0</td>\n",
       "      <td>467.66</td>\n",
       "      <td>86.0</td>\n",
       "      <td>21060.45</td>\n",
       "      <td>0</td>\n",
       "    </tr>\n",
       "    <tr>\n",
       "      <td>3</td>\n",
       "      <td>106.0</td>\n",
       "      <td>745.53</td>\n",
       "      <td>81.0</td>\n",
       "      <td>8437.39</td>\n",
       "      <td>1</td>\n",
       "    </tr>\n",
       "    <tr>\n",
       "      <td>4</td>\n",
       "      <td>66.0</td>\n",
       "      <td>418.74</td>\n",
       "      <td>1.0</td>\n",
       "      <td>14502.75</td>\n",
       "      <td>0</td>\n",
       "    </tr>\n",
       "  </tbody>\n",
       "</table>\n",
       "</div>"
      ],
      "text/plain": [
       "   calls  minutes  messages   mb_used  is_ultra\n",
       "0   40.0   311.90      83.0  19915.42         0\n",
       "1   85.0   516.75      56.0  22696.96         0\n",
       "2   77.0   467.66      86.0  21060.45         0\n",
       "3  106.0   745.53      81.0   8437.39         1\n",
       "4   66.0   418.74       1.0  14502.75         0"
      ]
     },
     "execution_count": 51,
     "metadata": {},
     "output_type": "execute_result"
    }
   ],
   "source": [
    "df = pd.read_csv('/datasets/users_behavior.csv')\n",
    "df.info()\n",
    "df.head()"
   ]
  },
  {
   "cell_type": "markdown",
   "metadata": {},
   "source": [
    "## Разбиение данных на выборки"
   ]
  },
  {
   "cell_type": "markdown",
   "metadata": {},
   "source": [
    "Разделите исходные данные на обучающую, валидационную и тестовую выборки."
   ]
  },
  {
   "cell_type": "code",
   "execution_count": 52,
   "metadata": {},
   "outputs": [
    {
     "data": {
      "text/plain": [
       "(3214, 5)"
      ]
     },
     "execution_count": 52,
     "metadata": {},
     "output_type": "execute_result"
    }
   ],
   "source": [
    "df.shape"
   ]
  },
  {
   "cell_type": "code",
   "execution_count": 53,
   "metadata": {},
   "outputs": [
    {
     "name": "stdout",
     "output_type": "stream",
     "text": [
      "Размер валидационной выборки: (482, 5)\n",
      "Размер обучающей выборки: (2250, 5)\n",
      "Размер тестовой выборки: (482, 5)\n"
     ]
    }
   ],
   "source": [
    "df_valid, df_train = train_test_split(df, test_size= 0.7, random_state=12345)\n",
    "\n",
    "df_test, df_valid = train_test_split(df_valid, test_size=0.5, random_state = 12345)\n",
    "\n",
    "print('Размер валидационной выборки:', df_valid.shape)\n",
    "print('Размер обучающей выборки:', df_train.shape)\n",
    "print('Размер тестовой выборки:', df_test.shape)\n"
   ]
  },
  {
   "cell_type": "markdown",
   "metadata": {},
   "source": [
    "## Исследование моделей"
   ]
  },
  {
   "cell_type": "markdown",
   "metadata": {},
   "source": [
    "Исследуйте качество разных моделей, меняя гиперпараметры. Кратко напишите выводы исследования."
   ]
  },
  {
   "cell_type": "code",
   "execution_count": 54,
   "metadata": {},
   "outputs": [],
   "source": [
    "features_train = df_train.drop(['is_ultra'], axis = 1)\n",
    "target_train = df_train['is_ultra']\n",
    "features_test = df_test.drop(['is_ultra'], axis = 1)\n",
    "target_test = df_test['is_ultra']\n",
    "features_valid = df_valid.drop(['is_ultra'], axis = 1)\n",
    "target_valid = df_valid['is_ultra']"
   ]
  },
  {
   "cell_type": "markdown",
   "metadata": {},
   "source": [
    "##### Решающее дерево"
   ]
  },
  {
   "cell_type": "code",
   "execution_count": 55,
   "metadata": {},
   "outputs": [
    {
     "name": "stdout",
     "output_type": "stream",
     "text": [
      "max_depth = 1 : 0.7468879668049793\n",
      "max_depth = 2 : 0.7697095435684648\n",
      "max_depth = 3 : 0.7883817427385892\n",
      "max_depth = 4 : 0.7800829875518672\n",
      "max_depth = 5 : 0.7780082987551867\n"
     ]
    }
   ],
   "source": [
    "max_depth_valid = []\n",
    "accuracy_valid = []\n",
    "for depth in range(1,6):\n",
    "    model = DecisionTreeClassifier(random_state = 12345, max_depth = depth)\n",
    "    model.fit(features_train,target_train)\n",
    "    predictions_valid = model.predict(features_valid)\n",
    "    max_depth_valid.append(depth)\n",
    "    accuracy_valid.append(accuracy_score(target_valid,predictions_valid))\n",
    "    print('max_depth =', depth, ': ', end='')\n",
    "    print(accuracy_score(target_valid,predictions_valid))"
   ]
  },
  {
   "cell_type": "code",
   "execution_count": 56,
   "metadata": {},
   "outputs": [],
   "source": [
    "max_depth_train = []\n",
    "accuracy_train = []\n",
    "for depth in range(1,6):\n",
    "    model = DecisionTreeClassifier(random_state = 12345, max_depth = depth)\n",
    "    model.fit(features_train,target_train)\n",
    "    predictions_train = model.predict(features_train)\n",
    "    max_depth_train.append(depth)\n",
    "    accuracy_train.append(accuracy_score(target_train,predictions_train))"
   ]
  },
  {
   "cell_type": "markdown",
   "metadata": {},
   "source": [
    "Перебираем глубину дерева для повышения качества модели. Самая высокая точность при глубине, равной 3.\n",
    "Проверим, не случилось ли при этом переобучения."
   ]
  },
  {
   "cell_type": "code",
   "execution_count": 57,
   "metadata": {},
   "outputs": [
    {
     "data": {
      "text/plain": [
       "<matplotlib.legend.Legend at 0x7f1b990f32b0>"
      ]
     },
     "execution_count": 57,
     "metadata": {},
     "output_type": "execute_result"
    },
    {
     "data": {
      "image/png": "[encoded data removed]",
      "text/plain": [
       "<Figure size 504x360 with 1 Axes>"
      ]
     },
     "metadata": {
      "needs_background": "light"
     },
     "output_type": "display_data"
    }
   ],
   "source": [
    "graphic_valid = pd.DataFrame()\n",
    "graphic_valid['max_depth_valid'] = max_depth_valid\n",
    "graphic_valid['accuracy_valid'] = accuracy_valid\n",
    "\n",
    "graphic_train = pd.DataFrame()\n",
    "graphic_train['max_depth_train'] = max_depth_train\n",
    "graphic_train['accuracy_train'] = accuracy_train\n",
    "\n",
    "fig, axs = plt.subplots(1,1, figsize = (7,5))\n",
    "plt.ylabel('Accuracy')\n",
    "graphic_valid.plot(ax = axs, x = 'max_depth_valid', y = 'accuracy_valid', style = '-o', grid = True, label = 'valid', title = 'Решающее дерево')\n",
    "graphic_train.plot(ax = axs, x = 'max_depth_train', y = 'accuracy_train', style = '-o', grid = True, label = 'train', title = 'Решающее дерево')\n",
    "plt.legend()"
   ]
  },
  {
   "cell_type": "markdown",
   "metadata": {},
   "source": [
    "Судя по тому, что начиная со значения 3, accuracy обучающей выборки продолжает расти, а валидационной убывать - модель переобучилась."
   ]
  },
  {
   "cell_type": "markdown",
   "metadata": {},
   "source": [
    "##### Лес деревьев"
   ]
  },
  {
   "cell_type": "markdown",
   "metadata": {},
   "source": [
    "Переберем кол-во деревьев в лесу для улучшения результатов предсказания:"
   ]
  },
  {
   "cell_type": "code",
   "execution_count": 58,
   "metadata": {},
   "outputs": [
    {
     "name": "stdout",
     "output_type": "stream",
     "text": [
      "Estimators n =  1 Accuracy =  0.7095435684647303\n",
      "Estimators n =  2 Accuracy =  0.7489626556016598\n",
      "Estimators n =  3 Accuracy =  0.7614107883817427\n",
      "Estimators n =  4 Accuracy =  0.7634854771784232\n",
      "Estimators n =  5 Accuracy =  0.7883817427385892\n",
      "Estimators n =  6 Accuracy =  0.7842323651452282\n",
      "Estimators n =  7 Accuracy =  0.7904564315352697\n",
      "Estimators n =  8 Accuracy =  0.7925311203319502\n",
      "Estimators n =  9 Accuracy =  0.7904564315352697\n",
      "Estimators n =  10 Accuracy =  0.7925311203319502\n"
     ]
    }
   ],
   "source": [
    "estimators_valid = []\n",
    "score_valid = []\n",
    "for estimate in range(1,11):\n",
    "    model = RandomForestClassifier(random_state = 1234, n_estimators = estimate)\n",
    "    model.fit(features_train,target_train)\n",
    "    model.predict(features_valid)\n",
    "    estimators_valid.append(estimate)\n",
    "    score_valid.append(model.score(features_valid,target_valid))\n",
    "    print('Estimators n = ',estimate, 'Accuracy = ',model.score(features_valid,target_valid))\n",
    "    #првоерка при каком количестве деревьер метрика будет более точная"
   ]
  },
  {
   "cell_type": "code",
   "execution_count": 59,
   "metadata": {},
   "outputs": [],
   "source": [
    "estimators_train = []\n",
    "score_train = []\n",
    "for estimate in range(1,11):\n",
    "    model = RandomForestClassifier(random_state = 1234, n_estimators = estimate)\n",
    "    model.fit(features_train,target_train)\n",
    "    model.predict(features_train)\n",
    "    estimators_train.append(estimate)\n",
    "    score_train.append(model.score(features_train,target_train))"
   ]
  },
  {
   "cell_type": "code",
   "execution_count": 60,
   "metadata": {},
   "outputs": [
    {
     "data": {
      "text/plain": [
       "<matplotlib.legend.Legend at 0x7f1b9903fa20>"
      ]
     },
     "execution_count": 60,
     "metadata": {},
     "output_type": "execute_result"
    },
    {
     "data": {
      "image/png": "[encoded data removed]",
      "text/plain": [
       "<Figure size 720x360 with 1 Axes>"
      ]
     },
     "metadata": {
      "needs_background": "light"
     },
     "output_type": "display_data"
    }
   ],
   "source": [
    "graphic_valid = pd.DataFrame()\n",
    "graphic_valid['estimators_valid'] = estimators_valid\n",
    "graphic_valid['score_valid'] = score_valid\n",
    "\n",
    "graphic_train = pd.DataFrame()\n",
    "graphic_train['estimators_train'] = estimators_train\n",
    "graphic_train['score_train'] = score_train\n",
    "\n",
    "fig, axs = plt.subplots(1,1, figsize = (10,5))\n",
    "plt.ylabel('Accuracy')\n",
    "graphic_valid.plot(ax = axs, x = 'estimators_valid', y = 'score_valid', style = '-o', grid = True, label = 'valid', title = 'Лес деревьев')\n",
    "graphic_train.plot(ax = axs, x = 'estimators_train', y = 'score_train', style = '-o', grid = True, label = 'train', title = 'Лес деревьев')\n",
    "plt.legend()"
   ]
  },
  {
   "cell_type": "markdown",
   "metadata": {},
   "source": [
    "В данном случае, судя по высокому accuracy на обучающей выборке и значительно ниже на валидационной, модель недообучилась.\n"
   ]
  },
  {
   "cell_type": "markdown",
   "metadata": {},
   "source": [
    "## Проверка моделей на тестовой выборке"
   ]
  },
  {
   "cell_type": "markdown",
   "metadata": {},
   "source": [
    "Оставляем случайный лес с восмью деревьями:"
   ]
  },
  {
   "cell_type": "code",
   "execution_count": 63,
   "metadata": {},
   "outputs": [
    {
     "name": "stdout",
     "output_type": "stream",
     "text": [
      "Accuracy тестовой выборки: 0.7821576763485477\n"
     ]
    }
   ],
   "source": [
    "model = RandomForestClassifier(random_state = 1234, n_estimators = 8) #создали дерево для обучения\n",
    "model.fit(features_train,target_train)\n",
    "predictions = model.predict(features_test)\n",
    "print('Accuracy тестовой выборки:', accuracy_score(target_test,predictions))"
   ]
  },
  {
   "cell_type": "markdown",
   "metadata": {},
   "source": [
    "## Проверка модели на адекватность "
   ]
  },
  {
   "cell_type": "code",
   "execution_count": 62,
   "metadata": {},
   "outputs": [
    {
     "name": "stdout",
     "output_type": "stream",
     "text": [
      "Accuracy проверки модели на адекватность: 0.7031736154324829\n"
     ]
    }
   ],
   "source": [
    "features = df.drop(['is_ultra'], axis = 1)\n",
    "true_target = df['is_ultra']\n",
    "target = []\n",
    "\n",
    "for i in range(len(df['is_ultra'])):\n",
    "    target.append(0)\n",
    "\n",
    "\n",
    "model = RandomForestClassifier(random_state = 1234, n_estimators = 3) #создали дерево для обучения\n",
    "model.fit(features,true_target)\n",
    "predictions = model.predict(features)\n",
    "print('Accuracy проверки модели на адекватность:', accuracy_score(target,predictions))  \n"
   ]
  }
 ],
 "metadata": {
  "kernelspec": {
   "display_name": "Python 3",
   "language": "python",
   "name": "python3"
  },
  "language_info": {
   "codemirror_mode": {
    "name": "ipython",
    "version": 3
   },
   "file_extension": ".py",
   "mimetype": "text/x-python",
   "name": "python",
   "nbconvert_exporter": "python",
   "pygments_lexer": "ipython3",
   "version": "3.7.7"
  }
 },
 "nbformat": 4,
 "nbformat_minor": 2
}
